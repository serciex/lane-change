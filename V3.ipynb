{
  "cells": [
    {
      "cell_type": "markdown",
      "metadata": {
        "id": "view-in-github",
        "colab_type": "text"
      },
      "source": [
        "<a href=\"https://colab.research.google.com/github/serciex/lane-change/blob/main/V3.ipynb\" target=\"_parent\"><img src=\"https://colab.research.google.com/assets/colab-badge.svg\" alt=\"Open In Colab\"/></a>"
      ]
    },
    {
      "cell_type": "markdown",
      "metadata": {
        "id": "ZAqx0bsIEQbi"
      },
      "source": [
        "Installing Prerequisites"
      ]
    },
    {
      "cell_type": "code",
      "execution_count": 16,
      "metadata": {
        "colab": {
          "base_uri": "https://localhost:8080/"
        },
        "collapsed": true,
        "id": "AAc_-AeGEE5H",
        "outputId": "d09b906b-6ca1-4814-dade-4cc205eb6233"
      },
      "outputs": [
        {
          "output_type": "stream",
          "name": "stdout",
          "text": [
            "Requirement already satisfied: pygame in /usr/local/lib/python3.11/dist-packages (2.6.1)\n",
            "Requirement already satisfied: highway-env in /usr/local/lib/python3.11/dist-packages (1.10.1)\n",
            "Requirement already satisfied: gymnasium>=1.0.0a2 in /usr/local/lib/python3.11/dist-packages (from highway-env) (1.1.1)\n",
            "Requirement already satisfied: farama-notifications>=0.0.1 in /usr/local/lib/python3.11/dist-packages (from highway-env) (0.0.4)\n",
            "Requirement already satisfied: numpy>=1.21.0 in /usr/local/lib/python3.11/dist-packages (from highway-env) (2.0.2)\n",
            "Requirement already satisfied: pygame>=2.0.2 in /usr/local/lib/python3.11/dist-packages (from highway-env) (2.6.1)\n",
            "Requirement already satisfied: matplotlib in /usr/local/lib/python3.11/dist-packages (from highway-env) (3.10.0)\n",
            "Requirement already satisfied: pandas in /usr/local/lib/python3.11/dist-packages (from highway-env) (2.2.2)\n",
            "Requirement already satisfied: scipy in /usr/local/lib/python3.11/dist-packages (from highway-env) (1.15.3)\n",
            "Requirement already satisfied: cloudpickle>=1.2.0 in /usr/local/lib/python3.11/dist-packages (from gymnasium>=1.0.0a2->highway-env) (3.1.1)\n",
            "Requirement already satisfied: typing-extensions>=4.3.0 in /usr/local/lib/python3.11/dist-packages (from gymnasium>=1.0.0a2->highway-env) (4.14.0)\n",
            "Requirement already satisfied: contourpy>=1.0.1 in /usr/local/lib/python3.11/dist-packages (from matplotlib->highway-env) (1.3.2)\n",
            "Requirement already satisfied: cycler>=0.10 in /usr/local/lib/python3.11/dist-packages (from matplotlib->highway-env) (0.12.1)\n",
            "Requirement already satisfied: fonttools>=4.22.0 in /usr/local/lib/python3.11/dist-packages (from matplotlib->highway-env) (4.58.1)\n",
            "Requirement already satisfied: kiwisolver>=1.3.1 in /usr/local/lib/python3.11/dist-packages (from matplotlib->highway-env) (1.4.8)\n",
            "Requirement already satisfied: packaging>=20.0 in /usr/local/lib/python3.11/dist-packages (from matplotlib->highway-env) (24.2)\n",
            "Requirement already satisfied: pillow>=8 in /usr/local/lib/python3.11/dist-packages (from matplotlib->highway-env) (11.2.1)\n",
            "Requirement already satisfied: pyparsing>=2.3.1 in /usr/local/lib/python3.11/dist-packages (from matplotlib->highway-env) (3.2.3)\n",
            "Requirement already satisfied: python-dateutil>=2.7 in /usr/local/lib/python3.11/dist-packages (from matplotlib->highway-env) (2.9.0.post0)\n",
            "Requirement already satisfied: pytz>=2020.1 in /usr/local/lib/python3.11/dist-packages (from pandas->highway-env) (2025.2)\n",
            "Requirement already satisfied: tzdata>=2022.7 in /usr/local/lib/python3.11/dist-packages (from pandas->highway-env) (2025.2)\n",
            "Requirement already satisfied: six>=1.5 in /usr/local/lib/python3.11/dist-packages (from python-dateutil>=2.7->matplotlib->highway-env) (1.17.0)\n"
          ]
        }
      ],
      "source": [
        "!pip install pygame\n",
        "!pip install highway-env"
      ]
    },
    {
      "cell_type": "markdown",
      "metadata": {
        "id": "Civ2P__KEUSq"
      },
      "source": [
        "Testing"
      ]
    },
    {
      "cell_type": "code",
      "execution_count": 17,
      "metadata": {
        "id": "-ZwGd9eVEWGY"
      },
      "outputs": [],
      "source": [
        "#Import Libraries\n",
        "from os import truncate\n",
        "import math\n",
        "import gymnasium\n",
        "import highway_env\n",
        "from matplotlib import pyplot as plt\n",
        "import pygame\n",
        "import numpy as np\n",
        "\n",
        "\n",
        "from IPython.display import Image, display\n",
        "from collections import deque\n",
        "import random\n",
        "import torch\n",
        "import torch.nn as nn\n",
        "import torch.nn.functional as F\n",
        "import torch.optim as optim\n",
        "import random\n",
        "%matplotlib inline"
      ]
    },
    {
      "cell_type": "markdown",
      "metadata": {
        "id": "XF-2bRYTIjH6"
      },
      "source": [
        "Environment Definition"
      ]
    },
    {
      "cell_type": "code",
      "execution_count": 18,
      "metadata": {
        "colab": {
          "base_uri": "https://localhost:8080/"
        },
        "id": "y922XK-cIewr",
        "outputId": "887ec9e3-5f5f-41d7-ead8-d0c38158c04c"
      },
      "outputs": [
        {
          "output_type": "execute_result",
          "data": {
            "text/plain": [
              "<highway_env.envs.common.action.ContinuousAction at 0x7b170dafa6d0>"
            ]
          },
          "metadata": {},
          "execution_count": 18
        }
      ],
      "source": [
        "# Configure Environment Conditions\n",
        "config = {\n",
        "    \"lanes_count\": 3,\n",
        "    \"lane_width\": 3.75,\n",
        "    \"observation\": {\n",
        "        \"type\": \"Kinematics\",\n",
        "        \"features\": [\"x\", \"y\", \"vx\", \"vy\", \"heading\", \"lat_off\"]\n",
        "    },\n",
        "    \"action\": {\"type\": \"ContinuousAction\"},\"ego_spawn_random\": True,\n",
        "    \"policy_frequency\": 10,\n",
        "}\n",
        "env = gymnasium.make('highway-v0', render_mode='rgb_array', config=config)\n",
        "frames = []\n",
        "\n",
        "# Action Setup\n",
        "highway_env.envs.common.action.ContinuousAction(env, lateral=True,\n",
        "                                                longitudinal=True)"
      ]
    },
    {
      "cell_type": "code",
      "execution_count": 19,
      "metadata": {
        "id": "2HbWr4urTXQ8"
      },
      "outputs": [],
      "source": [
        "# Environment Manager\n",
        "class ENV(env.__class__):\n",
        "  \"\"\"\n",
        "  s = (v,a,x,y,thetha,id,w,c) ∈ S\n",
        "\n",
        "  Lateral Agent State:\n",
        "  Obs Data:\n",
        "  x = vehicle x position (x)\n",
        "  y = vehicle y position (y)\n",
        "  v = vehicle speed (vx)\n",
        "  thetha = yaw angle (heading)\n",
        "\n",
        "  Input:\n",
        "  a = longitudinal acceleration (longitudinal_control)\n",
        "  id = target lane id\n",
        "  w = lane width\n",
        "  c = road curvature\n",
        "\n",
        "  Extra Data:\n",
        "  vy = lateral rate (vy)\n",
        "  delta_lat_deviation = change in lateral deviation (lat_off)\n",
        "\n",
        "  \"\"\"\n",
        "  def __init__(self, obs,a):\n",
        "    self.obs = obs\n",
        "    self.a = a\n",
        "\n",
        "  def ego_state_idm(self):\n",
        "      ax, ay, avx, avy, athetha, _ = self.obs[0]\n",
        "      self._ego_state_idm = {\"x\": ax, \"y\": ay, \"vx\": avx,\"thetha\": athetha,\n",
        "                         \"longitudinal_acceleration\":self.a}\n",
        "\n",
        "      return self._ego_state_idm\n",
        "\n",
        "  def ego_state_agent(self,target_id):\n",
        "      ax, ay, avx, avy, athetha, _ = self.obs[0]\n",
        "      vehicle = env.unwrapped.vehicle\n",
        "\n",
        "      # Control Parameters\n",
        "      self.id = target_id\n",
        "\n",
        "      # Environment Parameters\n",
        "      self.s,_ = vehicle.lane.local_coordinates(vehicle.position)\n",
        "      self.w = vehicle.lane.width\n",
        "      self.c = vehicle.lane.heading_at(np.clip(\n",
        "          vehicle.lane.local_coordinates(vehicle.position)[0],\n",
        "          0, vehicle.lane.length))\n",
        "      self.v = math.sqrt(avx**2+avy**2)\n",
        "\n",
        "      self._ego_state_agent = {\"x\": ax, \"y\": ay, \"vx\": self.v,\"thetha\": athetha,\n",
        "                         \"lane_width\":self.w,\"lane_id\":self.id,\n",
        "                         \"self_curvature\":self.c,\n",
        "                         \"longitudinal_acceleration\":self.a}\n",
        "\n",
        "      return self._ego_state_agent\n",
        "\n",
        "  def longitudinal_lead_state(self):\n",
        "    # Lead State Parameters on the same Lane (5 columns: presence, x, y, vx, vy)\n",
        "    ego_vehicle = env.unwrapped.vehicle\n",
        "    lead_vehicle = env.unwrapped.road.neighbour_vehicles(ego_vehicle, lane_index=ego_vehicle.lane_index)[0]\n",
        "    if lead_vehicle:\n",
        "      gap = lead_vehicle.position[0] - ego_vehicle.position[0]\n",
        "      delta_velocity = ego_vehicle.velocity[0] - lead_vehicle.velocity[0]\n",
        "      self.longitudinal_lead_state = {\"x\": gap, \"vx\": delta_velocity}\n",
        "\n",
        "    else:\n",
        "      self.longitudinal_lead_state = {\"x\": 10, \"vx\": 0}\n",
        "\n",
        "    return self.longitudinal_lead_state\n",
        "\n",
        "  #Reward Function\n",
        "  def reward_function(self, obs_old, obs_new, target_id, w1=1, w2=1, w3=0.05):\n",
        "    \"\"\"\n",
        "    Reward Function:\n",
        "\n",
        "    Acceleration Reward: r_acce = w1*f_acce(a_yaw)\n",
        "    a_yaw = lateral acceleration (self.action)\n",
        "\n",
        "    Rate Reward: r_rate = w2*f_rate(w_yaw)\n",
        "    w_yaw = lateral rate (vy)\n",
        "\n",
        "    Time Reward: r_time = w3*f_time (delta_lat_deviation)\n",
        "    delta_lat_deviation = change in lateral deviation (self.lat_off)\n",
        "\n",
        "    Reward = Cummulative Sum of r_acce + Cummulative Sum of r_rate + Cummulative Sum of r_time\n",
        "\n",
        "    \"\"\"\n",
        "\n",
        "    self.target_id = (\"0\",\"1\",target_id)\n",
        "    target_lane_object = env.unwrapped.road.network.get_lane(self.target_id)\n",
        "    vehicle_s, _ = env.unwrapped.vehicle.lane.local_coordinates(env.unwrapped.vehicle.position)\n",
        "    _ , self.delta_lat_deviaton = target_lane_object.local_coordinates(env.unwrapped.vehicle.position)\n",
        "\n",
        "    obs = obs_new[0]\n",
        "    obs_old = obs_old[0]\n",
        "\n",
        "    w_yaw = (obs[0] * obs[3] - obs[1] * obs[2]) / (obs[0]**2 + obs[1]**2 + 1e-8)\n",
        "    w_yaw_old = (obs_old[0] * obs_old[3] - obs_old[1] * obs_old[2]) / (obs_old[0]**2 + obs_old[1]**2 + 1e-8)\n",
        "\n",
        "    self.w_acce = (w_yaw-w_yaw_old)*env.unwrapped.config['policy_frequency']\n",
        "\n",
        "    # Acceleration Reward\n",
        "    acce_reward = -1*abs(self.w_acce)\n",
        "\n",
        "    # Rate Reward\n",
        "    rate_reward = -1*abs(w_yaw)\n",
        "\n",
        "    # Time Reward\n",
        "    time_reward = -0.05 * abs(self.delta_lat_deviaton)\n",
        "\n",
        "    # Overall Reward\n",
        "    self.reward = w1*acce_reward + w2*rate_reward + w3*time_reward\n",
        "\n",
        "    return [self.reward, acce_reward, rate_reward, time_reward]\n",
        "\n",
        "  #Acceleration to Steering angle\n",
        "  def steering_angle(self, agent_action,L=1):\n",
        "    \"\"\"\n",
        "    Steering Angle: theta = atan(a_yaw/v^2)\n",
        "    a_yaw = lateral acceleration (agent_action)\n",
        "    v = vehicle speed (vx)\n",
        "    \"\"\"\n",
        "    self.angle = math.atan(L*agent_action/self.ego_state_idm()['vx']**2)\n",
        "\n",
        "    return self.angle"
      ]
    },
    {
      "cell_type": "markdown",
      "metadata": {
        "id": "kEPNdVET6-mv"
      },
      "source": [
        "Agent Defintion"
      ]
    },
    {
      "cell_type": "code",
      "execution_count": 20,
      "metadata": {
        "id": "SJ68SiyJTSx7"
      },
      "outputs": [],
      "source": [
        "class Agent(nn.Module):\n",
        "  \"\"\"\n",
        "  s = (x, y, vx, vy, thetha, lane_width, lane_id, self_curvature, longitudinal_acceleration) ∈ S\n",
        "\n",
        "  Lateral Agent State:\n",
        "  x = vehicle x position\n",
        "  y = vehicle y position\n",
        "  vx = vehicle speed (longitudinal)\n",
        "  thetha = yaw angle (heading)\n",
        "  lane_width = width of the lane\n",
        "  lane_id = target lane id\n",
        "  self_curvature = road curvature at the vehicle's position\n",
        "  longitudinal_acceleration = vehicle longitudinal acceleration\n",
        "  \"\"\"\n",
        "  def __init__(self, state_dim):\n",
        "    super(Agent, self).__init__()\n",
        "    self.state_dim = state_dim\n",
        "    # Define Network A & C\n",
        "    self.networkA = nn.Sequential(\n",
        "        nn.Linear(self.state_dim, 100),\n",
        "        nn.Linear(100, 1),\n",
        "        nn.Softplus()\n",
        "    )\n",
        "    self.networkC = nn.Sequential(\n",
        "        nn.Linear(self.state_dim + 1, 100),\n",
        "        nn.ReLU(),\n",
        "        nn.Linear(100, 1),\n",
        "    )\n",
        "\n",
        "    # Define Network B\n",
        "    self.networkB1 = nn.Sequential(\n",
        "        nn.Linear(self.state_dim, 150),\n",
        "        nn.ReLU(),\n",
        "        nn.Linear(150, 1),\n",
        "    )\n",
        "    self.networkB2 = nn.Sequential(\n",
        "        nn.Linear(self.state_dim, 150),\n",
        "        nn.ReLU(),\n",
        "        nn.Linear(150, 1),\n",
        "    )\n",
        "    self.networkB3 = nn.Sequential(\n",
        "        nn.Linear(self.state_dim, 150),\n",
        "        nn.ReLU(),\n",
        "        nn.Linear(150, 1),\n",
        "    )\n",
        "\n",
        "  def forward(self, state, a, terminal):\n",
        "    \"\"\"\n",
        "    Q(s,a) = A(s)*(B(s)-a)^2 + C(s)\n",
        "    \"\"\"\n",
        "    if isinstance(state, dict):\n",
        "      state_tensor = torch.tensor(\n",
        "          [state[key] for key in ['vx', 'longitudinal_acceleration', 'x', 'y', 'thetha', 'lane_id', 'lane_width', 'self_curvature']],\n",
        "          dtype=torch.float32\n",
        "      ).unsqueeze(0)\n",
        "    else:\n",
        "        self.state = state\n",
        "    # Use a directly if it's already a tensor\n",
        "    self.a = a if isinstance(a, torch.Tensor) else torch.tensor([[a]], dtype=torch.float32)\n",
        "    self.terminal_condition = terminal if isinstance(terminal, torch.Tensor) else torch.tensor([[terminal]], dtype=torch.float32)\n",
        "\n",
        "    # Output of the Networks\n",
        "    self.A = self.networkA(self.state)\n",
        "    self.C = self.networkC(torch.concat((self.state, self.terminal_condition), dim=1))\n",
        "    self.B = torch.max(self.networkB1(self.state) * self.networkB2(self.state),\n",
        "                         self.networkB3(self.state))\n",
        "\n",
        "    # Q-function Approximation\n",
        "    q_value = -self.A * ((self.B - self.a) ** 2) + self.C\n",
        "\n",
        "    return q_value\n",
        "\n",
        "  def action(self, state):\n",
        "      # Convert it to a tensor\n",
        "      if isinstance(state, dict):\n",
        "          state_tensor = torch.tensor(\n",
        "              [state[key] for key in ['vx', 'longitudinal_acceleration', 'x', 'y', 'thetha', 'lane_id', 'lane_width', 'self_curvature']],\n",
        "              dtype=torch.float32\n",
        "          ).unsqueeze(0)\n",
        "      else:\n",
        "          state_tensor = state\n",
        "      self.state = state_tensor\n",
        "      self.B = torch.max(self.networkB1(self.state) * self.networkB2(self.state),\n",
        "                         self.networkB3(self.state))\n",
        "      return self.B"
      ]
    },
    {
      "cell_type": "markdown",
      "metadata": {
        "id": "Vo-7aVU9J681"
      },
      "source": [
        "Experience Buffer"
      ]
    },
    {
      "cell_type": "code",
      "execution_count": 21,
      "metadata": {
        "id": "7g2c9HRSJ8Xs"
      },
      "outputs": [],
      "source": [
        "from collections import deque # Ensure imported\n",
        "\n",
        "class Experience_Buffer():\n",
        "    \"\"\"\n",
        "    Stores transitions as tuples of NumPy arrays (state_vec, action_vec, reward_vec, next_state_vec, terminal_vec).\n",
        "    \"\"\"\n",
        "    def __init__(self, buffer_size):\n",
        "        self.buffer_size = buffer_size\n",
        "        self.buffer = deque(maxlen=self.buffer_size)\n",
        "\n",
        "    def add(self, state_vec, action, reward, next_state_vec, terminal_condition):\n",
        "        state_np = np.asarray(state_vec, dtype=np.float32)\n",
        "        next_state_np = np.asarray(next_state_vec, dtype=np.float32)\n",
        "        action_np = np.asarray([action], dtype=np.float32)\n",
        "        reward_np = np.asarray([reward], dtype=np.float32)\n",
        "        terminal_np = np.asarray([float(terminal_condition)], dtype=np.float32)\n",
        "\n",
        "        self.transition = (state_np, action_np, reward_np, next_state_np, terminal_np)\n",
        "        self.buffer.append(self.transition)\n",
        "\n",
        "    def sample_experience(self, batch_size, device):\n",
        "        \"\"\" Samples batch and returns Tensors. \"\"\"\n",
        "        batch = random.sample(self.buffer, batch_size)\n",
        "        states, actions, rewards, next_states, terminals = zip(*batch)\n",
        "\n",
        "        states_np = np.stack(states)\n",
        "        actions_np = np.stack(actions)\n",
        "        rewards_np = np.stack(rewards)\n",
        "        next_states_np = np.stack(next_states)\n",
        "        terminals_np = np.stack(terminals)\n",
        "\n",
        "        # Convert final batch arrays to Tensors\n",
        "        states_tensor = torch.tensor(states_np, dtype=torch.float32, device=device)\n",
        "        actions_tensor = torch.tensor(actions_np, dtype=torch.float32, device=device)\n",
        "        rewards_tensor = torch.tensor(rewards_np, dtype=torch.float32, device=device)\n",
        "        next_states_tensor = torch.tensor(next_states_np, dtype=torch.float32, device=device)\n",
        "        terminals_tensor = torch.tensor(terminals_np, dtype=torch.float32, device=device)\n",
        "\n",
        "        return states_tensor, actions_tensor, rewards_tensor, next_states_tensor, terminals_tensor\n",
        "\n",
        "    def size(self):\n",
        "        return len(self.buffer)"
      ]
    },
    {
      "cell_type": "markdown",
      "metadata": {
        "id": "enKF1jUjQxpL"
      },
      "source": [
        "Lateral Controller (Gap Checker)"
      ]
    },
    {
      "cell_type": "code",
      "execution_count": 22,
      "metadata": {
        "id": "ydU55ZY5eX4U"
      },
      "outputs": [],
      "source": [
        "import numpy as np\n",
        "\n",
        "class Gap_Controller(env.__class__):\n",
        "    def __init__(self, obs=None, following_gap_threshold=10.0):\n",
        "        # Optionally store an initial observation if provided.\n",
        "        if obs is not None:\n",
        "            self.obs = obs\n",
        "        # Threshold for safety gap with the following vehicle\n",
        "        self.following_gap_threshold = following_gap_threshold\n",
        "\n",
        "    def lane_checker(self):\n",
        "        \"\"\"\n",
        "        Determines which adjacent lane offers the safest gap for a lane change.\n",
        "        It examines the current lane, the lane to the left, and the lane to the right,\n",
        "        returning the lane index that has the largest safe front gap available.\n",
        "        In addition, if the gap with the following vehicle in the target lane is below the safety\n",
        "        threshold, the lane change is aborted and the current lane is chosen.\n",
        "\n",
        "        Returns:\n",
        "            int: The target lane index (the lane with the largest safe gap, or the current lane)\n",
        "                 if the candidate lane's following vehicle gap is unsafe.\n",
        "        \"\"\"\n",
        "        lane_number = len(env.unwrapped.road.network.lanes_list())\n",
        "        ego = env.unwrapped.vehicle\n",
        "\n",
        "        # Initialize front gap values with a default that indicates an unsafe or non-existent gap.\n",
        "        gap_current_front = -float('inf')\n",
        "        gap_right_front = -float('inf')\n",
        "        gap_left_front = -float('inf')\n",
        "\n",
        "        # Initialize following gap values (gap between ego and the vehicle behind)\n",
        "        gap_current_follower = float('inf')\n",
        "        gap_right_follower = float('inf')\n",
        "        gap_left_follower = float('inf')\n",
        "\n",
        "        # Get vehicle neighbours in current lane:\n",
        "        neighbours_current = env.unwrapped.road.neighbour_vehicles(ego, ego.lane_index)\n",
        "        # neighbours_current[0] is the vehicle ahead and [1] is the following vehicle.\n",
        "        if neighbours_current:\n",
        "            if neighbours_current[0]:\n",
        "                gap_current_front = neighbours_current[0].position[0] - ego.position[0]\n",
        "            if len(neighbours_current) > 1 and neighbours_current[1]:\n",
        "                gap_current_follower = ego.position[0] - neighbours_current[1].position[0]\n",
        "\n",
        "        # Compute the left and right lane indices.\n",
        "        current_lane = list(ego.lane_index)\n",
        "        if current_lane[2] > 0:\n",
        "            lane_left = (current_lane[0], current_lane[1], current_lane[2] - 1)\n",
        "        else:\n",
        "            lane_left = ego.lane_index\n",
        "\n",
        "        if current_lane[2] < (lane_number - 1):\n",
        "            lane_right = (current_lane[0], current_lane[1], current_lane[2] + 1)\n",
        "        else:\n",
        "            lane_right = ego.lane_index\n",
        "\n",
        "        # Retrieve neighbour vehicles for the right lane.\n",
        "        neighbours_right = env.unwrapped.road.neighbour_vehicles(ego, lane_index=lane_right)\n",
        "        if neighbours_right:\n",
        "            if neighbours_right[0]:\n",
        "                gap_right_front = neighbours_right[0].position[0] - ego.position[0]\n",
        "            if len(neighbours_right) > 1 and neighbours_right[1]:\n",
        "                gap_right_follower = ego.position[0] - neighbours_right[1].position[0]\n",
        "\n",
        "        # Retrieve neighbour vehicles for the left lane.\n",
        "        neighbours_left = env.unwrapped.road.neighbour_vehicles(ego, lane_index=lane_left)\n",
        "        if neighbours_left:\n",
        "            if neighbours_left[0]:\n",
        "                gap_left_front = neighbours_left[0].position[0] - ego.position[0]\n",
        "            if len(neighbours_left) > 1 and neighbours_left[1]:\n",
        "                gap_left_follower = ego.position[0] - neighbours_left[1].position[0]\n",
        "\n",
        "        # Compare the front gaps: current, right, and left.\n",
        "        front_gaps = [gap_current_front, gap_right_front, gap_left_front]\n",
        "        best_index = np.argmax(front_gaps)\n",
        "\n",
        "        # Determine the target lane index based on the best candidate.\n",
        "        # best_index: 0 => current lane, 1 => right lane, 2 => left lane.\n",
        "        if best_index == 1:\n",
        "            candidate_lane = lane_right\n",
        "            candidate_follower_gap = gap_right_follower\n",
        "        elif best_index == 2:\n",
        "            candidate_lane = lane_left\n",
        "            candidate_follower_gap = gap_left_follower\n",
        "        else:\n",
        "            candidate_lane = ego.lane_index\n",
        "            candidate_follower_gap = gap_current_follower  # in current lane, we don't enforce follower gap condition\n",
        "\n",
        "        # Check if the candidate lane (if different from the current lane)\n",
        "        # meets the follower gap condition.\n",
        "        if candidate_lane != ego.lane_index:\n",
        "            if candidate_follower_gap < self.following_gap_threshold:\n",
        "                # The follower gap is too small; do not change lanes.\n",
        "                target_lane_id = ego.lane_index[2]\n",
        "            else:\n",
        "                target_lane_id = candidate_lane[2]\n",
        "        else:\n",
        "            target_lane_id = ego.lane_index[2]\n",
        "\n",
        "        return target_lane_id\n"
      ]
    },
    {
      "cell_type": "markdown",
      "metadata": {
        "id": "rDNPakyp7APE"
      },
      "source": [
        "Longitudinal Controller"
      ]
    },
    {
      "cell_type": "code",
      "execution_count": 23,
      "metadata": {
        "id": "jU_TDnfv7CzO"
      },
      "outputs": [],
      "source": [
        "class IDM():\n",
        "    ''' Intelligent Driving Model for Longitudinal Control\n",
        "\n",
        "    Control parameters:\n",
        "      a: maximum acceleration\n",
        "      b: comfortable deceleration\n",
        "      delta: acceleration exponent\n",
        "      T: safe time headway\n",
        "\n",
        "    Parameters:\n",
        "      s0: minimum gap\n",
        "      v0: desired speed\n",
        "\n",
        "      a (Maximum Acceleration): How fast the vehicle can speed up (m/s²).\n",
        "      b (Comfortable Deceleration): How smoothly the vehicle slows down (m/s²).\n",
        "      δ (Acceleration Exponent): The non-linearity factor in acceleration.\n",
        "      T (Safe Time Headway): The desired minimum following time gap (s).\n",
        "\n",
        "    Input variables:\n",
        "      s: current gap\n",
        "      v: current vehicle speed\n",
        "      delta_v: relative speed (difference between the vehicle's speed and the leading vehicle's speed)\n",
        "    '''\n",
        "\n",
        "    def __init__(self, desired_parameters, control_parameters):\n",
        "        # Unpack initial parameters: [s0, v0]\n",
        "        self.s0, self.v0 = desired_parameters\n",
        "        # Unpack control parameters: [a, b, delta, T]\n",
        "        self.a, self.b, self.delta, self.T = control_parameters\n",
        "\n",
        "    def longitudinal_controller(self, input_variables):\n",
        "        # Unpack input variables: [s, v, delta_v]\n",
        "        s, v, delta_v = input_variables\n",
        "\n",
        "        # Small epsilon to account for very small gaps and avoid division by zero\n",
        "        epsilon = 1e-6\n",
        "\n",
        "        # Desired gap: s* = s0 + v*T + (v * delta_v) / (2 * sqrt(a * b))\n",
        "        desired_gap = self.s0 + max(0, v * self.T + ((v * delta_v) / (2 * math.sqrt(self.a * self.b))))\n",
        "\n",
        "        # IDM acceleration: a_IDM = a * [ 1 - (v / v0)^delta - (s* / s)^2 ]\n",
        "        acceleration = self.a * (1 - (v / self.v0)**self.delta - (desired_gap / (s + epsilon))**2)\n",
        "\n",
        "        return acceleration"
      ]
    },
    {
      "cell_type": "markdown",
      "metadata": {
        "id": "21gxd9D8au1O"
      },
      "source": [
        "Initialize Environment"
      ]
    },
    {
      "cell_type": "code",
      "execution_count": 24,
      "metadata": {
        "id": "gPl1lptqKdAy"
      },
      "outputs": [],
      "source": [
        "# Initialize Environment\n",
        "obs, _ = env.reset()\n",
        "\n",
        "# Initialize Environment Manager and Reward\n",
        "state_manager = ENV(obs,obs[0][2])\n",
        "\n",
        "# State Manager for Ego and Lead State\n",
        "ego_state_idm = state_manager.ego_state_idm()\n",
        "lead_state = state_manager.longitudinal_lead_state()\n",
        "\n",
        "# Initial Longitundinal Positions\n",
        "ego_position_idm = ego_state_idm['x']\n",
        "lead_position_idm = lead_state['x']\n",
        "\n",
        "# Initial Velocities (using vx for longitudinal control)\n",
        "ego_velocity_idm = ego_state_idm['vx']\n",
        "lead_velocity_idm = lead_state['vx']"
      ]
    },
    {
      "cell_type": "markdown",
      "metadata": {
        "id": "fZvAgaQfIyK6"
      },
      "source": [
        "Training Loop"
      ]
    },
    {
      "cell_type": "markdown",
      "metadata": {
        "id": "IhoITfrZ_nOt"
      },
      "source": [
        "Always Active (Option 1)"
      ]
    },
    {
      "cell_type": "code",
      "execution_count": 30,
      "metadata": {
        "id": "WiV0AFmfkora"
      },
      "outputs": [],
      "source": [
        "import imageio\n",
        "import matplotlib.pyplot as plt\n",
        "import numpy as np\n",
        "from IPython.display import HTML\n",
        "from IPython.display import display\n",
        "from IPython import display as ipythondisplay\n",
        "import os\n",
        "\n",
        "import torch\n",
        "import torch.nn as nn\n",
        "import torch.nn.functional as F\n",
        "import numpy as np\n",
        "# Workaround for gym compatibility\n",
        "if not hasattr(np, 'bool8'):\n",
        "    np.bool8 = np.bool_\n",
        "import tqdm\n",
        "import gym\n",
        "from random import randint\n",
        "from torch.utils.data import DataLoader, TensorDataset\n",
        "import matplotlib.pyplot as plt"
      ]
    },
    {
      "cell_type": "code",
      "execution_count": 31,
      "metadata": {
        "id": "RYA-H09sIw2_"
      },
      "outputs": [],
      "source": [
        "################################################################################\n",
        "\"\"\"Initialization\"\"\"\n",
        "################################################################################\n",
        "# IDM Initialization\n",
        "control_parameters = [0.1, 5, 4, 4]  # a, b, δ, T\n",
        "desired_parameters = [20, 10.0]       # s0, v0\n",
        "\n",
        "# Set initial Input variables using the gap, current velocity, and relative lead velocity\n",
        "input_variables = [lead_position_idm, ego_velocity_idm, lead_velocity_idm]\n",
        "\n",
        "# Setup the IDM Model for Longitudinal control\n",
        "ego_vehicle_idm = IDM(desired_parameters, control_parameters)\n",
        "\n",
        "# Agent Initialization\n",
        "total_steps_taken = 0\n",
        "lr = 0.01  # Reduced learning rate\n",
        "gamma = 0.99  # Higher discount factor for better long-term rewards\n",
        "\n",
        "# Reasonable hyperparameter sizes\n",
        "buffer_size = int(1e5)  # 100k buffer\n",
        "batch_size = 256  # Standard batch size\n",
        "max_timesteps = int(4e4)  # 40k total timesteps\n",
        "\n",
        "plot_freq_steps = 5000  # Plot every 5000 timesteps\n",
        "\n",
        "# Epsilon-Greedy Parameters\n",
        "epsilon = 0.3\n",
        "\n",
        "# Tracking for performance\n",
        "timestep_rewards = []  # Store rewards by timestep\n",
        "timestep_acce_rewards = []  # Store acceleration rewards\n",
        "timestep_rate_rewards = []  # Store rate rewards\n",
        "timestep_time_rewards = []  # Store time rewards\n",
        "global_returns = []  # Cumulative return tracking\n",
        "loss_history = []  # Loss values\n",
        "timesteps_list = []  # Track timesteps for plotting\n",
        "episode_lengths = []  # Track episode lengths\n",
        "episode_indices = []  # Track episode indices for plotting\n",
        "\n",
        "target_id = env.unwrapped.vehicle.lane_index[-1]\n",
        "device = torch.device(\"cuda\" if torch.cuda.is_available() else \"cpu\")\n",
        "\n",
        "# Environment Information\n",
        "L = env.unwrapped.vehicle.LENGTH\n",
        "agent_state = state_manager.ego_state_agent(target_id=target_id)\n",
        "state_dim = len(agent_state)\n",
        "\n",
        "# Initialize Buffer\n",
        "buffer = Experience_Buffer(buffer_size)\n",
        "\n",
        "# Setup Lateral Control Agent\n",
        "target_network = Agent(state_dim).to(device)\n",
        "policy_network = Agent(state_dim).to(device)\n",
        "\n",
        "# Initialize target network\n",
        "target_network.load_state_dict(policy_network.state_dict())\n",
        "\n",
        "# Loss and Criterion Initialization\n",
        "policy_optimizer = torch.optim.Adam(policy_network.parameters(), lr=lr)\n",
        "policy_loss_fn = nn.MSELoss()"
      ]
    },
    {
      "cell_type": "markdown",
      "source": [
        "Model"
      ],
      "metadata": {
        "id": "_r2sQPbixCmM"
      }
    },
    {
      "cell_type": "code",
      "source": [
        "# Fixed PPO Training Loop with proper variable definitions and imports\n",
        "\n",
        "import torch\n",
        "import torch.nn as nn\n",
        "import torch.nn.functional as F\n",
        "import numpy as np\n",
        "import tqdm\n",
        "import matplotlib.pyplot as plt\n",
        "from torch.utils.data import DataLoader, TensorDataset\n",
        "\n",
        "# Fix numpy compatibility\n",
        "if not hasattr(np, 'bool8'):\n",
        "    np.bool8 = np.bool_\n",
        "\n",
        "class ActorCritic(nn.Module):\n",
        "    def __init__(self, state_dim=8, action_dim=1, hidden_size=128):\n",
        "        super().__init__()\n",
        "\n",
        "        self.network = nn.Sequential(\n",
        "            nn.Linear(state_dim, hidden_size),\n",
        "            nn.ReLU(),\n",
        "            nn.Linear(hidden_size, hidden_size),\n",
        "            nn.ReLU()\n",
        "        )\n",
        "\n",
        "        # Policy head (actor) - outputs logits for action distribution\n",
        "        self.actor = nn.Linear(hidden_size, action_dim)\n",
        "\n",
        "        # Value head (critic)\n",
        "        self.critic = nn.Linear(hidden_size, 1)\n",
        "\n",
        "    def forward(self, x):\n",
        "        features = self.network(x)\n",
        "        return self.actor(features), self.critic(features)\n",
        "\n",
        "# Define hyperparameters\n",
        "T = 1000  # Max timesteps per rollout\n",
        "K = 10    # Number of policy update epochs\n",
        "batch_size = 64\n",
        "gamma = 0.99\n",
        "device = torch.device('cuda' if torch.cuda.is_available() else 'cpu')\n",
        "vf_coeff_cl = 0.5\n",
        "ent_coef_c2 = 0.01\n",
        "nb_episodes = 1000\n",
        "epsilon = 0.2\n",
        "gae_lambda = 0.99\n",
        "max_episodes_per_rollout = 10\n",
        "\n",
        "# Define action dimension (continuous action space)\n",
        "action_dim = 1  # For lateral acceleration\n",
        "state_dim = 8   # Based on your agent state\n",
        "\n",
        "# Initialize model and optimizer\n",
        "model = ActorCritic(state_dim=state_dim, action_dim=action_dim).to(device)\n",
        "optimizer = torch.optim.Adam(model.parameters(), lr=1e-4)\n",
        "\n",
        "# Tracking variables\n",
        "total_env_episodes = 0\n",
        "max_reward = float('-inf')\n",
        "batch_average_reward_history = []\n",
        "batch_episode_history = []\n",
        "individual_test_rewards = []\n",
        "individual_test_episodes = []\n",
        "\n",
        "# Training loop\n",
        "for episode in tqdm.tqdm(range(nb_episodes)):\n",
        "    # PPO Initialization\n",
        "    advantages = torch.zeros(T, dtype=torch.float32, device=device)\n",
        "    buffer_states = torch.zeros((T, state_dim), dtype=torch.float32, device=device)\n",
        "    buffer_actions = torch.zeros((T, action_dim), dtype=torch.float32, device=device)\n",
        "    buffer_log_probs = torch.zeros((T), dtype=torch.float32, device=device)\n",
        "    buffer_state_values = torch.zeros((T+1), dtype=torch.float32, device=device)\n",
        "    buffer_rewards = torch.zeros((T), dtype=torch.float32, device=device)\n",
        "    buffer_is_terminal = torch.zeros((T), dtype=torch.float32, device=device)\n",
        "\n",
        "    # Episode control variables\n",
        "    episodes_completed_in_rollout = 0\n",
        "    t = 0  # Actual timesteps collected\n",
        "\n",
        "    # Env Initialization\n",
        "    obs, _ = env.reset()\n",
        "    state_manager = ENV(obs, 0.0)\n",
        "\n",
        "    # IDM Initialization\n",
        "    ego_state_idm = state_manager.ego_state_idm()\n",
        "    lead_state = state_manager.longitudinal_lead_state()\n",
        "\n",
        "    # Initialize target_id\n",
        "    target_id = env.unwrapped.vehicle.lane_index[-1]\n",
        "    agent_state = state_manager.ego_state_agent(target_id=target_id)\n",
        "\n",
        "    # Update IDM inputs based on initial state\n",
        "    gap = lead_state['x']\n",
        "    delta_velocity = lead_state['vx']\n",
        "    input_variables = [gap, ego_state_idm['vx'], delta_velocity]\n",
        "\n",
        "    episode_step = 0\n",
        "    episode_return = 0.0\n",
        "    done = False\n",
        "    obs_old = obs\n",
        "\n",
        "    # Collect trajectories with dual stopping condition\n",
        "    while t < T and episodes_completed_in_rollout < max_episodes_per_rollout:\n",
        "\n",
        "        gap_control = Gap_Controller(obs, following_gap_threshold=30)\n",
        "        activated_target_lane = gap_control.lane_checker()\n",
        "\n",
        "        # Determine target lane\n",
        "        target_id = activated_target_lane\n",
        "        agent_state = state_manager.ego_state_agent(target_id=target_id)\n",
        "\n",
        "        # Convert agent state dict to tensor\n",
        "        state_tensor = torch.tensor(\n",
        "            [agent_state[key] for key in ['vx', 'longitudinal_acceleration', 'x', 'y', 'thetha', 'lane_id', 'lane_width', 'self_curvature']],\n",
        "            dtype=torch.float32, device=device\n",
        "        ).unsqueeze(0)\n",
        "\n",
        "        # Get action and value from model\n",
        "        with torch.no_grad():\n",
        "            action_logits, value = model(state_tensor)\n",
        "\n",
        "        action_logits, value = action_logits.squeeze(0), value.squeeze(0)\n",
        "\n",
        "        # For continuous action space, use Normal distribution\n",
        "        action_mean = torch.tanh(action_logits)  # Keep actions in reasonable range\n",
        "        action_std = torch.ones_like(action_mean) * 0.1  # Fixed std for simplicity\n",
        "        m = torch.distributions.Normal(action_mean, action_std)\n",
        "\n",
        "        # Sample action\n",
        "        agent_action = m.sample()\n",
        "        log_prob = m.log_prob(agent_action).sum()  # Sum for multi-dimensional actions\n",
        "\n",
        "        # IDM Action\n",
        "        idm_acceleration = ego_vehicle_idm.longitudinal_controller(input_variables)\n",
        "        longitudinal_control = idm_acceleration\n",
        "\n",
        "        # Transform agent action to steering angle\n",
        "        lateral_control = state_manager.steering_angle(agent_action.item(), L)\n",
        "\n",
        "        # Combine longitudinal and lateral actions\n",
        "        action = [longitudinal_control, lateral_control]\n",
        "\n",
        "        # Take action in environment\n",
        "        obs, reward, done, truncated, info = env.step(action)\n",
        "        done = done or truncated\n",
        "\n",
        "        # Update state manager with new observation and applied longitudinal control\n",
        "        state_manager = ENV(obs, longitudinal_control)\n",
        "\n",
        "        # Compute reward based on the new state\n",
        "        reward_components = state_manager.reward_function(obs_old, obs, target_id)\n",
        "        reward = reward_components[0]\n",
        "\n",
        "        # Update episode return\n",
        "        episode_return += reward\n",
        "\n",
        "        # Store trajectory information\n",
        "        buffer_states[t] = state_tensor.squeeze(0)\n",
        "        buffer_actions[t] = agent_action\n",
        "        buffer_log_probs[t] = log_prob\n",
        "        buffer_state_values[t] = value\n",
        "        buffer_rewards[t] = torch.tensor(reward, dtype=torch.float32, device=device)\n",
        "        buffer_is_terminal[t] = done\n",
        "        t += 1  # Increment timestep counter\n",
        "        obs_old = obs\n",
        "\n",
        "        # Update IDM inputs for next iteration\n",
        "        ego_state_idm = state_manager.ego_state_idm()\n",
        "        lead_state = state_manager.longitudinal_lead_state()\n",
        "        gap = lead_state['x']\n",
        "        delta_velocity = lead_state['vx']\n",
        "        input_variables = [gap, ego_state_idm['vx'], delta_velocity]\n",
        "\n",
        "        # If episode is done, track results and increment episode counter\n",
        "        if done:\n",
        "            episodes_completed_in_rollout += 1\n",
        "            total_env_episodes += 1\n",
        "\n",
        "            # Reset environment if more episodes needed\n",
        "            if episodes_completed_in_rollout < max_episodes_per_rollout and t < T:\n",
        "                obs, _ = env.reset()\n",
        "                state_manager = ENV(obs, 0.0)\n",
        "                ego_state_idm = state_manager.ego_state_idm()\n",
        "                lead_state = state_manager.longitudinal_lead_state()\n",
        "                target_id = env.unwrapped.vehicle.lane_index[-1]\n",
        "                gap = lead_state['x']\n",
        "                delta_velocity = lead_state['vx']\n",
        "                input_variables = [gap, ego_state_idm['vx'], delta_velocity]\n",
        "                obs_old = obs\n",
        "                done = False\n",
        "\n",
        "    # Actual number of timesteps collected\n",
        "    actual_T = t\n",
        "\n",
        "    # Get final value for bootstrapping\n",
        "    if not done and actual_T > 0:\n",
        "        target_id = env.unwrapped.vehicle.lane_index[-1]\n",
        "        agent_state = state_manager.ego_state_agent(target_id=target_id)\n",
        "        final_state_tensor = torch.tensor(\n",
        "            [agent_state[key] for key in ['vx', 'longitudinal_acceleration', 'x', 'y', 'thetha', 'lane_id', 'lane_width', 'self_curvature']],\n",
        "            dtype=torch.float32, device=device\n",
        "        ).unsqueeze(0)\n",
        "\n",
        "        with torch.no_grad():\n",
        "            _, final_value = model(final_state_tensor)\n",
        "        buffer_state_values[actual_T] = final_value.squeeze(0)\n",
        "\n",
        "    # Calculate advantages using GAE\n",
        "    gae = 0\n",
        "    advantages = torch.zeros(actual_T, dtype=torch.float32, device=device)\n",
        "\n",
        "    for t_idx in range(actual_T-1, -1, -1):\n",
        "        if buffer_is_terminal[t_idx]:\n",
        "            terminal = 1\n",
        "            next_value = 0\n",
        "        else:\n",
        "            terminal = 0\n",
        "            if t_idx == actual_T-1:\n",
        "                next_value = buffer_state_values[actual_T]\n",
        "            else:\n",
        "                next_value = buffer_state_values[t_idx+1]\n",
        "\n",
        "        delta = buffer_rewards[t_idx] + gamma * next_value * (1-terminal) - buffer_state_values[t_idx]\n",
        "        gae = delta + (gamma * gae_lambda) * gae * (1-terminal)\n",
        "        advantages[t_idx] = gae\n",
        "\n",
        "    # Normalize advantages\n",
        "    if actual_T > 1:\n",
        "        advantages = (advantages - advantages.mean()) / (advantages.std() + 1e-8)\n",
        "\n",
        "    # Prepare data for policy update\n",
        "    advantages_data_loader = DataLoader(\n",
        "        TensorDataset(\n",
        "            advantages.detach(),\n",
        "            buffer_states[:actual_T].detach(),\n",
        "            buffer_actions[:actual_T].detach(),\n",
        "            buffer_log_probs[:actual_T].detach(),\n",
        "            buffer_state_values[:actual_T].detach()),\n",
        "        batch_size=min(batch_size, actual_T),\n",
        "        shuffle=True)\n",
        "\n",
        "    # Policy update (K epochs)\n",
        "    for epoch in range(K):\n",
        "        for batch_data in advantages_data_loader:\n",
        "            b_adv, obs_batch, action_batch, old_log_probs, old_state_values = batch_data\n",
        "\n",
        "            # Forward pass\n",
        "            action_logits, value = model(obs_batch)\n",
        "            action_mean = torch.tanh(action_logits)\n",
        "            action_std = torch.ones_like(action_mean) * 0.1\n",
        "            m = torch.distributions.Normal(action_mean, action_std)\n",
        "            log_probs = m.log_prob(action_batch).sum(dim=-1)\n",
        "\n",
        "            # Calculate ratio\n",
        "            ratio = torch.exp(log_probs - old_log_probs)\n",
        "            returns = b_adv + old_state_values\n",
        "\n",
        "            # Calculate policy loss with clipping\n",
        "            policy_loss_1 = b_adv * ratio\n",
        "            clip_range = epsilon\n",
        "            policy_loss_2 = b_adv * torch.clamp(ratio, 1-clip_range, 1+clip_range)\n",
        "            policy_loss = -torch.min(policy_loss_1, policy_loss_2).mean()\n",
        "\n",
        "            # Calculate value loss\n",
        "            value_loss = F.mse_loss(returns, value.squeeze())\n",
        "\n",
        "            # Calculate entropy loss\n",
        "            entropy_loss = -(m.entropy()).mean()\n",
        "\n",
        "            # Combined loss\n",
        "            loss = policy_loss + vf_coeff_cl * value_loss + ent_coef_c2 * entropy_loss\n",
        "\n",
        "            # Optimize\n",
        "            optimizer.zero_grad()\n",
        "            loss.backward()\n",
        "            torch.nn.utils.clip_grad_norm_(model.parameters(), 0.5)\n",
        "            optimizer.step()\n",
        "\n",
        "    # Print rollout info\n",
        "    print(f\"Training Batch {episode}: Collected {actual_T} timesteps, {episodes_completed_in_rollout} episodes\")\n",
        "\n",
        "    # Testing every 10 episodes\n",
        "    if episode % 10 == 0 and episode > 0:\n",
        "        test_rewards = []\n",
        "\n",
        "        for test_ep in range(3):  # Reduced to 3 test episodes for speed\n",
        "            obs, _ = env.reset()\n",
        "            state_manager = ENV(obs, 0.0)\n",
        "            episode_reward = 0\n",
        "            done = False\n",
        "            test_steps = 0\n",
        "\n",
        "            while not done and test_steps < 500:  # Limit test episode length\n",
        "                target_id = env.unwrapped.vehicle.lane_index[-1]\n",
        "                agent_state = state_manager.ego_state_agent(target_id=target_id)\n",
        "\n",
        "                state_tensor = torch.tensor(\n",
        "                    [agent_state[key] for key in ['vx', 'longitudinal_acceleration', 'x', 'y', 'thetha', 'lane_id', 'lane_width', 'self_curvature']],\n",
        "                    dtype=torch.float32, device=device\n",
        "                ).unsqueeze(0)\n",
        "\n",
        "                with torch.no_grad():\n",
        "                    action_logits, _ = model(state_tensor)\n",
        "\n",
        "                # Deterministic action selection\n",
        "                action_mean = torch.tanh(action_logits)\n",
        "                agent_action = action_mean.squeeze(0)\n",
        "\n",
        "                # IDM control\n",
        "                ego_state_idm = state_manager.ego_state_idm()\n",
        "                lead_state = state_manager.longitudinal_lead_state()\n",
        "                input_variables = [lead_state['x'], ego_state_idm['vx'], lead_state['vx']]\n",
        "                idm_acceleration = ego_vehicle_idm.longitudinal_controller(input_variables)\n",
        "\n",
        "                lateral_control = state_manager.steering_angle(agent_action.item(), L)\n",
        "                action = [idm_acceleration, lateral_control]\n",
        "\n",
        "                obs, reward, done, truncated, info = env.step(action)\n",
        "                done = done or truncated\n",
        "                state_manager = ENV(obs, idm_acceleration)\n",
        "\n",
        "                episode_reward += reward\n",
        "                test_steps += 1\n",
        "\n",
        "            test_rewards.append(episode_reward)\n",
        "\n",
        "        avg_test_reward = sum(test_rewards) / len(test_rewards)\n",
        "        current_max = max(test_rewards)\n",
        "\n",
        "        if current_max > max_reward:\n",
        "            max_reward = current_max\n",
        "\n",
        "        batch_average_reward_history.append(avg_test_reward)\n",
        "        batch_episode_history.append(episode)\n",
        "\n",
        "        print(f\"Episode {episode}: Avg Test Reward = {avg_test_reward:.2f}, Max Test Reward = {current_max:.2f}\")\n",
        "\n",
        "    # Plot every 50 episodes\n",
        "    if episode % 50 == 0 and episode > 0 and batch_average_reward_history:\n",
        "        plt.figure(figsize=(10, 6))\n",
        "        plt.plot(batch_episode_history, batch_average_reward_history, 'r-o', linewidth=2)\n",
        "        plt.title(f\"Test Performance (Episode {episode}, Max: {max_reward:.1f})\")\n",
        "        plt.xlabel(\"Episode\")\n",
        "        plt.ylabel(\"Average Reward\")\n",
        "        plt.grid(True, alpha=0.3)\n",
        "        plt.show()\n",
        "\n",
        "print(\"Training completed!\")"
      ],
      "metadata": {
        "colab": {
          "base_uri": "https://localhost:8080/",
          "height": 1000
        },
        "id": "gMY396Rx5F1J",
        "outputId": "8bb5e2f6-1c16-4e23-9166-e0cc7bca66b0"
      },
      "execution_count": null,
      "outputs": [
        {
          "output_type": "stream",
          "name": "stderr",
          "text": [
            "  0%|          | 1/1000 [00:44<12:15:09, 44.15s/it]"
          ]
        },
        {
          "output_type": "stream",
          "name": "stdout",
          "text": [
            "Training Batch 0: Collected 1000 timesteps, 2 episodes\n"
          ]
        },
        {
          "output_type": "stream",
          "name": "stderr",
          "text": [
            "\r  0%|          | 2/1000 [01:30<12:32:14, 45.23s/it]"
          ]
        },
        {
          "output_type": "stream",
          "name": "stdout",
          "text": [
            "Training Batch 1: Collected 1000 timesteps, 2 episodes\n"
          ]
        },
        {
          "output_type": "stream",
          "name": "stderr",
          "text": [
            "\r  0%|          | 3/1000 [02:14<12:23:03, 44.72s/it]"
          ]
        },
        {
          "output_type": "stream",
          "name": "stdout",
          "text": [
            "Training Batch 2: Collected 1000 timesteps, 2 episodes\n"
          ]
        },
        {
          "output_type": "stream",
          "name": "stderr",
          "text": [
            "\r  0%|          | 4/1000 [02:57<12:15:53, 44.33s/it]"
          ]
        },
        {
          "output_type": "stream",
          "name": "stdout",
          "text": [
            "Training Batch 3: Collected 1000 timesteps, 2 episodes\n"
          ]
        },
        {
          "output_type": "stream",
          "name": "stderr",
          "text": [
            "\r  0%|          | 5/1000 [03:42<12:13:57, 44.26s/it]"
          ]
        },
        {
          "output_type": "stream",
          "name": "stdout",
          "text": [
            "Training Batch 4: Collected 1000 timesteps, 2 episodes\n"
          ]
        },
        {
          "output_type": "stream",
          "name": "stderr",
          "text": [
            "\r  1%|          | 6/1000 [04:27<12:16:57, 44.48s/it]"
          ]
        },
        {
          "output_type": "stream",
          "name": "stdout",
          "text": [
            "Training Batch 5: Collected 1000 timesteps, 2 episodes\n"
          ]
        },
        {
          "output_type": "stream",
          "name": "stderr",
          "text": [
            "\r  1%|          | 7/1000 [05:10<12:10:34, 44.14s/it]"
          ]
        },
        {
          "output_type": "stream",
          "name": "stdout",
          "text": [
            "Training Batch 6: Collected 1000 timesteps, 2 episodes\n"
          ]
        },
        {
          "output_type": "stream",
          "name": "stderr",
          "text": [
            "\r  1%|          | 8/1000 [05:55<12:13:58, 44.39s/it]"
          ]
        },
        {
          "output_type": "stream",
          "name": "stdout",
          "text": [
            "Training Batch 7: Collected 1000 timesteps, 2 episodes\n"
          ]
        },
        {
          "output_type": "stream",
          "name": "stderr",
          "text": [
            "\r  1%|          | 9/1000 [06:39<12:10:09, 44.21s/it]"
          ]
        },
        {
          "output_type": "stream",
          "name": "stdout",
          "text": [
            "Training Batch 8: Collected 1000 timesteps, 2 episodes\n"
          ]
        },
        {
          "output_type": "stream",
          "name": "stderr",
          "text": [
            "\r  1%|          | 10/1000 [07:24<12:14:06, 44.49s/it]"
          ]
        },
        {
          "output_type": "stream",
          "name": "stdout",
          "text": [
            "Training Batch 9: Collected 1000 timesteps, 2 episodes\n",
            "Training Batch 10: Collected 1000 timesteps, 2 episodes\n"
          ]
        },
        {
          "output_type": "stream",
          "name": "stderr",
          "text": [
            "\r  1%|          | 11/1000 [08:57<16:20:54, 59.51s/it]"
          ]
        },
        {
          "output_type": "stream",
          "name": "stdout",
          "text": [
            "Episode 10: Avg Test Reward = 253.75, Max Test Reward = 261.17\n"
          ]
        },
        {
          "output_type": "stream",
          "name": "stderr",
          "text": [
            "\r  1%|          | 12/1000 [09:44<15:15:23, 55.59s/it]"
          ]
        },
        {
          "output_type": "stream",
          "name": "stdout",
          "text": [
            "Training Batch 11: Collected 1000 timesteps, 2 episodes\n"
          ]
        },
        {
          "output_type": "stream",
          "name": "stderr",
          "text": [
            "\r  1%|▏         | 13/1000 [10:29<14:19:51, 52.27s/it]"
          ]
        },
        {
          "output_type": "stream",
          "name": "stdout",
          "text": [
            "Training Batch 12: Collected 1000 timesteps, 2 episodes\n"
          ]
        },
        {
          "output_type": "stream",
          "name": "stderr",
          "text": [
            "\r  1%|▏         | 14/1000 [11:14<13:43:11, 50.09s/it]"
          ]
        },
        {
          "output_type": "stream",
          "name": "stdout",
          "text": [
            "Training Batch 13: Collected 1000 timesteps, 2 episodes\n"
          ]
        },
        {
          "output_type": "stream",
          "name": "stderr",
          "text": [
            "\r  2%|▏         | 15/1000 [11:57<13:10:39, 48.16s/it]"
          ]
        },
        {
          "output_type": "stream",
          "name": "stdout",
          "text": [
            "Training Batch 14: Collected 1000 timesteps, 2 episodes\n"
          ]
        },
        {
          "output_type": "stream",
          "name": "stderr",
          "text": [
            "\r  2%|▏         | 16/1000 [12:41<12:48:10, 46.84s/it]"
          ]
        },
        {
          "output_type": "stream",
          "name": "stdout",
          "text": [
            "Training Batch 15: Collected 1000 timesteps, 2 episodes\n"
          ]
        },
        {
          "output_type": "stream",
          "name": "stderr",
          "text": [
            "\r  2%|▏         | 17/1000 [13:26<12:36:44, 46.19s/it]"
          ]
        },
        {
          "output_type": "stream",
          "name": "stdout",
          "text": [
            "Training Batch 16: Collected 1000 timesteps, 2 episodes\n"
          ]
        },
        {
          "output_type": "stream",
          "name": "stderr",
          "text": [
            "\r  2%|▏         | 18/1000 [14:09<12:22:45, 45.38s/it]"
          ]
        },
        {
          "output_type": "stream",
          "name": "stdout",
          "text": [
            "Training Batch 17: Collected 1000 timesteps, 2 episodes\n"
          ]
        },
        {
          "output_type": "stream",
          "name": "stderr",
          "text": [
            "\r  2%|▏         | 19/1000 [14:54<12:19:10, 45.21s/it]"
          ]
        },
        {
          "output_type": "stream",
          "name": "stdout",
          "text": [
            "Training Batch 18: Collected 1000 timesteps, 2 episodes\n"
          ]
        },
        {
          "output_type": "stream",
          "name": "stderr",
          "text": [
            "\r  2%|▏         | 20/1000 [15:38<12:12:11, 44.83s/it]"
          ]
        },
        {
          "output_type": "stream",
          "name": "stdout",
          "text": [
            "Training Batch 19: Collected 1000 timesteps, 2 episodes\n",
            "Training Batch 20: Collected 1000 timesteps, 2 episodes\n"
          ]
        },
        {
          "output_type": "stream",
          "name": "stderr",
          "text": [
            "\r  2%|▏         | 21/1000 [17:13<16:17:44, 59.92s/it]"
          ]
        },
        {
          "output_type": "stream",
          "name": "stdout",
          "text": [
            "Episode 20: Avg Test Reward = 56.75, Max Test Reward = 74.99\n"
          ]
        },
        {
          "output_type": "stream",
          "name": "stderr",
          "text": [
            "\r  2%|▏         | 22/1000 [17:57<14:56:10, 54.98s/it]"
          ]
        },
        {
          "output_type": "stream",
          "name": "stdout",
          "text": [
            "Training Batch 21: Collected 1000 timesteps, 2 episodes\n"
          ]
        },
        {
          "output_type": "stream",
          "name": "stderr",
          "text": [
            "\r  2%|▏         | 23/1000 [18:41<14:02:49, 51.76s/it]"
          ]
        },
        {
          "output_type": "stream",
          "name": "stdout",
          "text": [
            "Training Batch 22: Collected 1000 timesteps, 2 episodes\n"
          ]
        },
        {
          "output_type": "stream",
          "name": "stderr",
          "text": [
            "\r  2%|▏         | 24/1000 [19:25<13:25:34, 49.52s/it]"
          ]
        },
        {
          "output_type": "stream",
          "name": "stdout",
          "text": [
            "Training Batch 23: Collected 1000 timesteps, 2 episodes\n"
          ]
        },
        {
          "output_type": "stream",
          "name": "stderr",
          "text": [
            "\r  2%|▎         | 25/1000 [20:09<12:56:07, 47.76s/it]"
          ]
        },
        {
          "output_type": "stream",
          "name": "stdout",
          "text": [
            "Training Batch 24: Collected 1000 timesteps, 2 episodes\n"
          ]
        },
        {
          "output_type": "stream",
          "name": "stderr",
          "text": [
            "\r  3%|▎         | 26/1000 [20:54<12:43:25, 47.03s/it]"
          ]
        },
        {
          "output_type": "stream",
          "name": "stdout",
          "text": [
            "Training Batch 25: Collected 1000 timesteps, 2 episodes\n"
          ]
        },
        {
          "output_type": "stream",
          "name": "stderr",
          "text": [
            "\r  3%|▎         | 27/1000 [21:38<12:26:12, 46.02s/it]"
          ]
        },
        {
          "output_type": "stream",
          "name": "stdout",
          "text": [
            "Training Batch 26: Collected 1000 timesteps, 2 episodes\n"
          ]
        },
        {
          "output_type": "stream",
          "name": "stderr",
          "text": [
            "\r  3%|▎         | 28/1000 [22:22<12:17:26, 45.52s/it]"
          ]
        },
        {
          "output_type": "stream",
          "name": "stdout",
          "text": [
            "Training Batch 27: Collected 1000 timesteps, 2 episodes\n"
          ]
        },
        {
          "output_type": "stream",
          "name": "stderr",
          "text": [
            "\r  3%|▎         | 29/1000 [23:06<12:07:12, 44.94s/it]"
          ]
        },
        {
          "output_type": "stream",
          "name": "stdout",
          "text": [
            "Training Batch 28: Collected 1000 timesteps, 2 episodes\n"
          ]
        },
        {
          "output_type": "stream",
          "name": "stderr",
          "text": [
            "/usr/local/lib/python3.11/dist-packages/highway_env/envs/common/observation.py:228: SettingWithCopyWarning: \n",
            "A value is trying to be set on a copy of a slice from a DataFrame.\n",
            "Try using .loc[row_indexer,col_indexer] = value instead\n",
            "\n",
            "See the caveats in the documentation: https://pandas.pydata.org/pandas-docs/stable/user_guide/indexing.html#returning-a-view-versus-a-copy\n",
            "  df[feature] = utils.lmap(df[feature], [f_range[0], f_range[1]], [-1, 1])\n",
            "  3%|▎         | 30/1000 [23:51<12:06:01, 44.91s/it]"
          ]
        },
        {
          "output_type": "stream",
          "name": "stdout",
          "text": [
            "Training Batch 29: Collected 1000 timesteps, 2 episodes\n",
            "Training Batch 30: Collected 1000 timesteps, 2 episodes\n"
          ]
        },
        {
          "output_type": "stream",
          "name": "stderr",
          "text": [
            "\r  3%|▎         | 31/1000 [25:26<16:09:01, 60.00s/it]"
          ]
        },
        {
          "output_type": "stream",
          "name": "stdout",
          "text": [
            "Episode 30: Avg Test Reward = 61.89, Max Test Reward = 83.32\n"
          ]
        },
        {
          "output_type": "stream",
          "name": "stderr",
          "text": [
            "\r  3%|▎         | 32/1000 [26:11<14:58:26, 55.69s/it]"
          ]
        },
        {
          "output_type": "stream",
          "name": "stdout",
          "text": [
            "Training Batch 31: Collected 1000 timesteps, 2 episodes\n"
          ]
        },
        {
          "output_type": "stream",
          "name": "stderr",
          "text": [
            "\r  3%|▎         | 33/1000 [26:55<13:59:15, 52.07s/it]"
          ]
        },
        {
          "output_type": "stream",
          "name": "stdout",
          "text": [
            "Training Batch 32: Collected 1000 timesteps, 2 episodes\n"
          ]
        },
        {
          "output_type": "stream",
          "name": "stderr",
          "text": [
            "\r  3%|▎         | 34/1000 [27:39<13:18:10, 49.58s/it]"
          ]
        },
        {
          "output_type": "stream",
          "name": "stdout",
          "text": [
            "Training Batch 33: Collected 1000 timesteps, 2 episodes\n"
          ]
        },
        {
          "output_type": "stream",
          "name": "stderr",
          "text": [
            "\r  4%|▎         | 35/1000 [28:24<12:53:36, 48.10s/it]"
          ]
        },
        {
          "output_type": "stream",
          "name": "stdout",
          "text": [
            "Training Batch 34: Collected 1000 timesteps, 2 episodes\n"
          ]
        },
        {
          "output_type": "stream",
          "name": "stderr",
          "text": [
            "\r  4%|▎         | 36/1000 [29:07<12:32:05, 46.81s/it]"
          ]
        },
        {
          "output_type": "stream",
          "name": "stdout",
          "text": [
            "Training Batch 35: Collected 1000 timesteps, 2 episodes\n"
          ]
        },
        {
          "output_type": "stream",
          "name": "stderr",
          "text": [
            "\r  4%|▎         | 37/1000 [29:52<12:21:44, 46.21s/it]"
          ]
        },
        {
          "output_type": "stream",
          "name": "stdout",
          "text": [
            "Training Batch 36: Collected 1000 timesteps, 2 episodes\n"
          ]
        },
        {
          "output_type": "stream",
          "name": "stderr",
          "text": [
            "\r  4%|▍         | 38/1000 [30:36<12:08:40, 45.45s/it]"
          ]
        },
        {
          "output_type": "stream",
          "name": "stdout",
          "text": [
            "Training Batch 37: Collected 1000 timesteps, 2 episodes\n"
          ]
        },
        {
          "output_type": "stream",
          "name": "stderr",
          "text": [
            "\r  4%|▍         | 39/1000 [31:21<12:05:23, 45.29s/it]"
          ]
        },
        {
          "output_type": "stream",
          "name": "stdout",
          "text": [
            "Training Batch 38: Collected 1000 timesteps, 2 episodes\n"
          ]
        },
        {
          "output_type": "stream",
          "name": "stderr",
          "text": [
            "\r  4%|▍         | 40/1000 [32:05<11:59:43, 44.98s/it]"
          ]
        },
        {
          "output_type": "stream",
          "name": "stdout",
          "text": [
            "Training Batch 39: Collected 1000 timesteps, 2 episodes\n",
            "Training Batch 40: Collected 1000 timesteps, 2 episodes\n"
          ]
        },
        {
          "output_type": "stream",
          "name": "stderr",
          "text": [
            "\r  4%|▍         | 41/1000 [33:41<16:02:20, 60.21s/it]"
          ]
        },
        {
          "output_type": "stream",
          "name": "stdout",
          "text": [
            "Episode 40: Avg Test Reward = 148.16, Max Test Reward = 244.68\n"
          ]
        },
        {
          "output_type": "stream",
          "name": "stderr",
          "text": [
            "\r  4%|▍         | 42/1000 [34:24<14:42:39, 55.28s/it]"
          ]
        },
        {
          "output_type": "stream",
          "name": "stdout",
          "text": [
            "Training Batch 41: Collected 1000 timesteps, 2 episodes\n"
          ]
        },
        {
          "output_type": "stream",
          "name": "stderr",
          "text": [
            "\r  4%|▍         | 43/1000 [35:09<13:49:14, 51.99s/it]"
          ]
        },
        {
          "output_type": "stream",
          "name": "stdout",
          "text": [
            "Training Batch 42: Collected 1000 timesteps, 2 episodes\n"
          ]
        },
        {
          "output_type": "stream",
          "name": "stderr",
          "text": [
            "\r  4%|▍         | 44/1000 [35:53<13:10:21, 49.60s/it]"
          ]
        },
        {
          "output_type": "stream",
          "name": "stdout",
          "text": [
            "Training Batch 43: Collected 1000 timesteps, 2 episodes\n"
          ]
        },
        {
          "output_type": "stream",
          "name": "stderr",
          "text": [
            "\r  4%|▍         | 45/1000 [36:36<12:39:49, 47.74s/it]"
          ]
        },
        {
          "output_type": "stream",
          "name": "stdout",
          "text": [
            "Training Batch 44: Collected 1000 timesteps, 2 episodes\n"
          ]
        },
        {
          "output_type": "stream",
          "name": "stderr",
          "text": [
            "\r  5%|▍         | 46/1000 [37:21<12:23:47, 46.78s/it]"
          ]
        },
        {
          "output_type": "stream",
          "name": "stdout",
          "text": [
            "Training Batch 45: Collected 1000 timesteps, 2 episodes\n"
          ]
        },
        {
          "output_type": "stream",
          "name": "stderr",
          "text": [
            "\r  5%|▍         | 47/1000 [38:05<12:08:56, 45.89s/it]"
          ]
        },
        {
          "output_type": "stream",
          "name": "stdout",
          "text": [
            "Training Batch 46: Collected 1000 timesteps, 2 episodes\n"
          ]
        },
        {
          "output_type": "stream",
          "name": "stderr",
          "text": [
            "\r  5%|▍         | 48/1000 [38:50<12:06:44, 45.80s/it]"
          ]
        },
        {
          "output_type": "stream",
          "name": "stdout",
          "text": [
            "Training Batch 47: Collected 1000 timesteps, 2 episodes\n"
          ]
        },
        {
          "output_type": "stream",
          "name": "stderr",
          "text": [
            "\r  5%|▍         | 49/1000 [39:34<11:56:54, 45.23s/it]"
          ]
        },
        {
          "output_type": "stream",
          "name": "stdout",
          "text": [
            "Training Batch 48: Collected 1000 timesteps, 2 episodes\n"
          ]
        },
        {
          "output_type": "stream",
          "name": "stderr",
          "text": [
            "\r  5%|▌         | 50/1000 [40:19<11:55:33, 45.19s/it]"
          ]
        },
        {
          "output_type": "stream",
          "name": "stdout",
          "text": [
            "Training Batch 49: Collected 1000 timesteps, 2 episodes\n",
            "Training Batch 50: Collected 1000 timesteps, 2 episodes\n",
            "Episode 50: Avg Test Reward = 21.17, Max Test Reward = 23.65\n"
          ]
        },
        {
          "output_type": "display_data",
          "data": {
            "text/plain": [
              "<Figure size 1000x600 with 1 Axes>"
            ],
            "image/png": "[encoded data removed]"
          },
          "metadata": {}
        },
        {
          "output_type": "stream",
          "name": "stderr",
          "text": [
            "  5%|▌         | 52/1000 [42:37<14:32:04, 55.19s/it]"
          ]
        },
        {
          "output_type": "stream",
          "name": "stdout",
          "text": [
            "Training Batch 51: Collected 1000 timesteps, 2 episodes\n"
          ]
        },
        {
          "output_type": "stream",
          "name": "stderr",
          "text": [
            "\r  5%|▌         | 53/1000 [43:21<13:37:42, 51.81s/it]"
          ]
        },
        {
          "output_type": "stream",
          "name": "stdout",
          "text": [
            "Training Batch 52: Collected 1000 timesteps, 2 episodes\n"
          ]
        },
        {
          "output_type": "stream",
          "name": "stderr",
          "text": [
            "\r  5%|▌         | 54/1000 [44:05<12:59:53, 49.46s/it]"
          ]
        },
        {
          "output_type": "stream",
          "name": "stdout",
          "text": [
            "Training Batch 53: Collected 1000 timesteps, 2 episodes\n"
          ]
        },
        {
          "output_type": "stream",
          "name": "stderr",
          "text": [
            "\r  6%|▌         | 55/1000 [44:50<12:38:30, 48.16s/it]"
          ]
        },
        {
          "output_type": "stream",
          "name": "stdout",
          "text": [
            "Training Batch 54: Collected 1000 timesteps, 2 episodes\n"
          ]
        },
        {
          "output_type": "stream",
          "name": "stderr",
          "text": [
            "\r  6%|▌         | 56/1000 [45:34<12:16:45, 46.83s/it]"
          ]
        },
        {
          "output_type": "stream",
          "name": "stdout",
          "text": [
            "Training Batch 55: Collected 1000 timesteps, 2 episodes\n"
          ]
        },
        {
          "output_type": "stream",
          "name": "stderr",
          "text": [
            "\r  6%|▌         | 57/1000 [46:19<12:07:29, 46.29s/it]"
          ]
        },
        {
          "output_type": "stream",
          "name": "stdout",
          "text": [
            "Training Batch 56: Collected 1000 timesteps, 2 episodes\n"
          ]
        },
        {
          "output_type": "stream",
          "name": "stderr",
          "text": [
            "\r  6%|▌         | 58/1000 [47:03<11:57:04, 45.67s/it]"
          ]
        },
        {
          "output_type": "stream",
          "name": "stdout",
          "text": [
            "Training Batch 57: Collected 1000 timesteps, 2 episodes\n"
          ]
        },
        {
          "output_type": "stream",
          "name": "stderr",
          "text": [
            "\r  6%|▌         | 59/1000 [47:49<11:53:41, 45.51s/it]"
          ]
        },
        {
          "output_type": "stream",
          "name": "stdout",
          "text": [
            "Training Batch 58: Collected 1000 timesteps, 2 episodes\n"
          ]
        },
        {
          "output_type": "stream",
          "name": "stderr",
          "text": [
            "\r  6%|▌         | 60/1000 [48:33<11:46:03, 45.07s/it]"
          ]
        },
        {
          "output_type": "stream",
          "name": "stdout",
          "text": [
            "Training Batch 59: Collected 1000 timesteps, 2 episodes\n",
            "Training Batch 60: Collected 1000 timesteps, 2 episodes\n"
          ]
        },
        {
          "output_type": "stream",
          "name": "stderr",
          "text": [
            "\r  6%|▌         | 61/1000 [49:45<13:53:38, 53.27s/it]"
          ]
        },
        {
          "output_type": "stream",
          "name": "stdout",
          "text": [
            "Episode 60: Avg Test Reward = 183.38, Max Test Reward = 205.03\n"
          ]
        },
        {
          "output_type": "stream",
          "name": "stderr",
          "text": [
            "\r  6%|▌         | 62/1000 [50:29<13:09:46, 50.52s/it]"
          ]
        },
        {
          "output_type": "stream",
          "name": "stdout",
          "text": [
            "Training Batch 61: Collected 1000 timesteps, 2 episodes\n"
          ]
        },
        {
          "output_type": "stream",
          "name": "stderr",
          "text": [
            "\r  6%|▋         | 63/1000 [51:14<12:43:08, 48.87s/it]"
          ]
        },
        {
          "output_type": "stream",
          "name": "stdout",
          "text": [
            "Training Batch 62: Collected 1000 timesteps, 2 episodes\n"
          ]
        },
        {
          "output_type": "stream",
          "name": "stderr",
          "text": [
            "\r  6%|▋         | 64/1000 [51:58<12:18:56, 47.37s/it]"
          ]
        },
        {
          "output_type": "stream",
          "name": "stdout",
          "text": [
            "Training Batch 63: Collected 1000 timesteps, 2 episodes\n"
          ]
        },
        {
          "output_type": "stream",
          "name": "stderr",
          "text": [
            "\r  6%|▋         | 65/1000 [52:43<12:05:00, 46.52s/it]"
          ]
        },
        {
          "output_type": "stream",
          "name": "stdout",
          "text": [
            "Training Batch 64: Collected 1000 timesteps, 2 episodes\n"
          ]
        },
        {
          "output_type": "stream",
          "name": "stderr",
          "text": [
            "\r  7%|▋         | 66/1000 [53:27<11:54:32, 45.90s/it]"
          ]
        },
        {
          "output_type": "stream",
          "name": "stdout",
          "text": [
            "Training Batch 65: Collected 1000 timesteps, 2 episodes\n"
          ]
        },
        {
          "output_type": "stream",
          "name": "stderr",
          "text": [
            "\r  7%|▋         | 67/1000 [54:12<11:49:00, 45.60s/it]"
          ]
        },
        {
          "output_type": "stream",
          "name": "stdout",
          "text": [
            "Training Batch 66: Collected 1000 timesteps, 2 episodes\n"
          ]
        },
        {
          "output_type": "stream",
          "name": "stderr",
          "text": [
            "\r  7%|▋         | 68/1000 [54:56<11:42:46, 45.24s/it]"
          ]
        },
        {
          "output_type": "stream",
          "name": "stdout",
          "text": [
            "Training Batch 67: Collected 1000 timesteps, 2 episodes\n"
          ]
        },
        {
          "output_type": "stream",
          "name": "stderr",
          "text": [
            "\r  7%|▋         | 69/1000 [55:42<11:43:00, 45.31s/it]"
          ]
        },
        {
          "output_type": "stream",
          "name": "stdout",
          "text": [
            "Training Batch 68: Collected 1000 timesteps, 2 episodes\n"
          ]
        },
        {
          "output_type": "stream",
          "name": "stderr",
          "text": [
            "\r  7%|▋         | 70/1000 [56:26<11:35:51, 44.89s/it]"
          ]
        },
        {
          "output_type": "stream",
          "name": "stdout",
          "text": [
            "Training Batch 69: Collected 1000 timesteps, 2 episodes\n",
            "Training Batch 70: Collected 1000 timesteps, 2 episodes\n"
          ]
        },
        {
          "output_type": "stream",
          "name": "stderr",
          "text": [
            "\r  7%|▋         | 71/1000 [58:01<15:26:58, 59.87s/it]"
          ]
        },
        {
          "output_type": "stream",
          "name": "stdout",
          "text": [
            "Episode 70: Avg Test Reward = 107.94, Max Test Reward = 122.43\n"
          ]
        },
        {
          "output_type": "stream",
          "name": "stderr",
          "text": [
            "\r  7%|▋         | 72/1000 [58:45<14:14:16, 55.23s/it]"
          ]
        },
        {
          "output_type": "stream",
          "name": "stdout",
          "text": [
            "Training Batch 71: Collected 1000 timesteps, 2 episodes\n"
          ]
        },
        {
          "output_type": "stream",
          "name": "stderr",
          "text": [
            "\r  7%|▋         | 73/1000 [59:29<13:22:15, 51.93s/it]"
          ]
        },
        {
          "output_type": "stream",
          "name": "stdout",
          "text": [
            "Training Batch 72: Collected 1000 timesteps, 2 episodes\n"
          ]
        },
        {
          "output_type": "stream",
          "name": "stderr",
          "text": [
            "\r  7%|▋         | 74/1000 [1:00:14<12:49:47, 49.88s/it]"
          ]
        },
        {
          "output_type": "stream",
          "name": "stdout",
          "text": [
            "Training Batch 73: Collected 1000 timesteps, 2 episodes\n"
          ]
        },
        {
          "output_type": "stream",
          "name": "stderr",
          "text": [
            "\r  8%|▊         | 75/1000 [1:00:58<12:20:14, 48.02s/it]"
          ]
        },
        {
          "output_type": "stream",
          "name": "stdout",
          "text": [
            "Training Batch 74: Collected 1000 timesteps, 2 episodes\n"
          ]
        },
        {
          "output_type": "stream",
          "name": "stderr",
          "text": [
            "\r  8%|▊         | 76/1000 [1:01:43<12:04:02, 47.02s/it]"
          ]
        },
        {
          "output_type": "stream",
          "name": "stdout",
          "text": [
            "Training Batch 75: Collected 1000 timesteps, 2 episodes\n"
          ]
        },
        {
          "output_type": "stream",
          "name": "stderr",
          "text": [
            "\r  8%|▊         | 77/1000 [1:02:26<11:47:33, 45.99s/it]"
          ]
        },
        {
          "output_type": "stream",
          "name": "stdout",
          "text": [
            "Training Batch 76: Collected 1000 timesteps, 2 episodes\n"
          ]
        },
        {
          "output_type": "stream",
          "name": "stderr",
          "text": [
            "\r  8%|▊         | 78/1000 [1:03:12<11:43:45, 45.80s/it]"
          ]
        },
        {
          "output_type": "stream",
          "name": "stdout",
          "text": [
            "Training Batch 77: Collected 1000 timesteps, 2 episodes\n"
          ]
        },
        {
          "output_type": "stream",
          "name": "stderr",
          "text": [
            "\r  8%|▊         | 79/1000 [1:03:55<11:33:21, 45.17s/it]"
          ]
        },
        {
          "output_type": "stream",
          "name": "stdout",
          "text": [
            "Training Batch 78: Collected 1000 timesteps, 2 episodes\n"
          ]
        },
        {
          "output_type": "stream",
          "name": "stderr",
          "text": [
            "\r  8%|▊         | 80/1000 [1:04:40<11:31:09, 45.08s/it]"
          ]
        },
        {
          "output_type": "stream",
          "name": "stdout",
          "text": [
            "Training Batch 79: Collected 1000 timesteps, 2 episodes\n",
            "Training Batch 80: Collected 1000 timesteps, 2 episodes\n"
          ]
        },
        {
          "output_type": "stream",
          "name": "stderr",
          "text": [
            "\r  8%|▊         | 81/1000 [1:06:14<15:14:42, 59.72s/it]"
          ]
        },
        {
          "output_type": "stream",
          "name": "stdout",
          "text": [
            "Episode 80: Avg Test Reward = 196.74, Max Test Reward = 245.17\n"
          ]
        },
        {
          "output_type": "stream",
          "name": "stderr",
          "text": [
            "\r  8%|▊         | 82/1000 [1:06:59<14:07:18, 55.38s/it]"
          ]
        },
        {
          "output_type": "stream",
          "name": "stdout",
          "text": [
            "Training Batch 81: Collected 1000 timesteps, 2 episodes\n"
          ]
        },
        {
          "output_type": "stream",
          "name": "stderr",
          "text": [
            "\r  8%|▊         | 83/1000 [1:07:43<13:14:56, 52.01s/it]"
          ]
        },
        {
          "output_type": "stream",
          "name": "stdout",
          "text": [
            "Training Batch 82: Collected 1000 timesteps, 2 episodes\n"
          ]
        },
        {
          "output_type": "stream",
          "name": "stderr",
          "text": [
            "\r  8%|▊         | 84/1000 [1:08:28<12:41:46, 49.90s/it]"
          ]
        },
        {
          "output_type": "stream",
          "name": "stdout",
          "text": [
            "Training Batch 83: Collected 1000 timesteps, 2 episodes\n"
          ]
        },
        {
          "output_type": "stream",
          "name": "stderr",
          "text": [
            "\r  8%|▊         | 85/1000 [1:09:13<12:17:21, 48.35s/it]"
          ]
        },
        {
          "output_type": "stream",
          "name": "stdout",
          "text": [
            "Training Batch 84: Collected 1000 timesteps, 2 episodes\n"
          ]
        },
        {
          "output_type": "stream",
          "name": "stderr",
          "text": [
            "\r  9%|▊         | 86/1000 [1:10:00<12:09:55, 47.92s/it]"
          ]
        },
        {
          "output_type": "stream",
          "name": "stdout",
          "text": [
            "Training Batch 85: Collected 1000 timesteps, 2 episodes\n"
          ]
        },
        {
          "output_type": "stream",
          "name": "stderr",
          "text": [
            "\r  9%|▊         | 87/1000 [1:10:49<12:13:12, 48.18s/it]"
          ]
        },
        {
          "output_type": "stream",
          "name": "stdout",
          "text": [
            "Training Batch 86: Collected 1000 timesteps, 2 episodes\n"
          ]
        },
        {
          "output_type": "stream",
          "name": "stderr",
          "text": [
            "\r  9%|▉         | 88/1000 [1:11:38<12:18:36, 48.59s/it]"
          ]
        },
        {
          "output_type": "stream",
          "name": "stdout",
          "text": [
            "Training Batch 87: Collected 1000 timesteps, 2 episodes\n"
          ]
        },
        {
          "output_type": "stream",
          "name": "stderr",
          "text": [
            "\r  9%|▉         | 89/1000 [1:12:26<12:14:12, 48.36s/it]"
          ]
        },
        {
          "output_type": "stream",
          "name": "stdout",
          "text": [
            "Training Batch 88: Collected 1000 timesteps, 2 episodes\n"
          ]
        },
        {
          "output_type": "stream",
          "name": "stderr",
          "text": [
            "\r  9%|▉         | 90/1000 [1:13:12<12:02:44, 47.65s/it]"
          ]
        },
        {
          "output_type": "stream",
          "name": "stdout",
          "text": [
            "Training Batch 89: Collected 1000 timesteps, 2 episodes\n",
            "Training Batch 90: Collected 1000 timesteps, 2 episodes\n"
          ]
        },
        {
          "output_type": "stream",
          "name": "stderr",
          "text": [
            "/usr/local/lib/python3.11/dist-packages/highway_env/envs/common/observation.py:228: SettingWithCopyWarning: \n",
            "A value is trying to be set on a copy of a slice from a DataFrame.\n",
            "Try using .loc[row_indexer,col_indexer] = value instead\n",
            "\n",
            "See the caveats in the documentation: https://pandas.pydata.org/pandas-docs/stable/user_guide/indexing.html#returning-a-view-versus-a-copy\n",
            "  df[feature] = utils.lmap(df[feature], [f_range[0], f_range[1]], [-1, 1])\n",
            "/usr/local/lib/python3.11/dist-packages/highway_env/envs/common/observation.py:230: SettingWithCopyWarning: \n",
            "A value is trying to be set on a copy of a slice from a DataFrame.\n",
            "Try using .loc[row_indexer,col_indexer] = value instead\n",
            "\n",
            "See the caveats in the documentation: https://pandas.pydata.org/pandas-docs/stable/user_guide/indexing.html#returning-a-view-versus-a-copy\n",
            "  df[feature] = np.clip(df[feature], -1, 1)\n",
            "/usr/local/lib/python3.11/dist-packages/highway_env/envs/common/observation.py:228: SettingWithCopyWarning: \n",
            "A value is trying to be set on a copy of a slice from a DataFrame.\n",
            "Try using .loc[row_indexer,col_indexer] = value instead\n",
            "\n",
            "See the caveats in the documentation: https://pandas.pydata.org/pandas-docs/stable/user_guide/indexing.html#returning-a-view-versus-a-copy\n",
            "  df[feature] = utils.lmap(df[feature], [f_range[0], f_range[1]], [-1, 1])\n",
            "/usr/local/lib/python3.11/dist-packages/highway_env/envs/common/observation.py:230: SettingWithCopyWarning: \n",
            "A value is trying to be set on a copy of a slice from a DataFrame.\n",
            "Try using .loc[row_indexer,col_indexer] = value instead\n",
            "\n",
            "See the caveats in the documentation: https://pandas.pydata.org/pandas-docs/stable/user_guide/indexing.html#returning-a-view-versus-a-copy\n",
            "  df[feature] = np.clip(df[feature], -1, 1)\n",
            "/usr/local/lib/python3.11/dist-packages/highway_env/envs/common/observation.py:228: SettingWithCopyWarning: \n",
            "A value is trying to be set on a copy of a slice from a DataFrame.\n",
            "Try using .loc[row_indexer,col_indexer] = value instead\n",
            "\n",
            "See the caveats in the documentation: https://pandas.pydata.org/pandas-docs/stable/user_guide/indexing.html#returning-a-view-versus-a-copy\n",
            "  df[feature] = utils.lmap(df[feature], [f_range[0], f_range[1]], [-1, 1])\n",
            "/usr/local/lib/python3.11/dist-packages/highway_env/envs/common/observation.py:230: SettingWithCopyWarning: \n",
            "A value is trying to be set on a copy of a slice from a DataFrame.\n",
            "Try using .loc[row_indexer,col_indexer] = value instead\n",
            "\n",
            "See the caveats in the documentation: https://pandas.pydata.org/pandas-docs/stable/user_guide/indexing.html#returning-a-view-versus-a-copy\n",
            "  df[feature] = np.clip(df[feature], -1, 1)\n",
            "/usr/local/lib/python3.11/dist-packages/highway_env/envs/common/observation.py:228: SettingWithCopyWarning: \n",
            "A value is trying to be set on a copy of a slice from a DataFrame.\n",
            "Try using .loc[row_indexer,col_indexer] = value instead\n",
            "\n",
            "See the caveats in the documentation: https://pandas.pydata.org/pandas-docs/stable/user_guide/indexing.html#returning-a-view-versus-a-copy\n",
            "  df[feature] = utils.lmap(df[feature], [f_range[0], f_range[1]], [-1, 1])\n",
            "/usr/local/lib/python3.11/dist-packages/highway_env/envs/common/observation.py:230: SettingWithCopyWarning: \n",
            "A value is trying to be set on a copy of a slice from a DataFrame.\n",
            "Try using .loc[row_indexer,col_indexer] = value instead\n",
            "\n",
            "See the caveats in the documentation: https://pandas.pydata.org/pandas-docs/stable/user_guide/indexing.html#returning-a-view-versus-a-copy\n",
            "  df[feature] = np.clip(df[feature], -1, 1)\n",
            "  9%|▉         | 91/1000 [1:14:48<15:41:28, 62.14s/it]"
          ]
        },
        {
          "output_type": "stream",
          "name": "stdout",
          "text": [
            "Episode 90: Avg Test Reward = 150.97, Max Test Reward = 243.15\n"
          ]
        },
        {
          "output_type": "stream",
          "name": "stderr",
          "text": [
            "\r  9%|▉         | 92/1000 [1:15:34<14:26:09, 57.24s/it]"
          ]
        },
        {
          "output_type": "stream",
          "name": "stdout",
          "text": [
            "Training Batch 91: Collected 1000 timesteps, 2 episodes\n"
          ]
        },
        {
          "output_type": "stream",
          "name": "stderr",
          "text": [
            "\r  9%|▉         | 93/1000 [1:16:19<13:31:24, 53.68s/it]"
          ]
        },
        {
          "output_type": "stream",
          "name": "stdout",
          "text": [
            "Training Batch 92: Collected 1000 timesteps, 2 episodes\n"
          ]
        },
        {
          "output_type": "stream",
          "name": "stderr",
          "text": [
            "\r  9%|▉         | 94/1000 [1:17:06<12:57:30, 51.49s/it]"
          ]
        },
        {
          "output_type": "stream",
          "name": "stdout",
          "text": [
            "Training Batch 93: Collected 1000 timesteps, 2 episodes\n"
          ]
        },
        {
          "output_type": "stream",
          "name": "stderr",
          "text": [
            "\r 10%|▉         | 95/1000 [1:17:50<12:26:21, 49.48s/it]"
          ]
        },
        {
          "output_type": "stream",
          "name": "stdout",
          "text": [
            "Training Batch 94: Collected 1000 timesteps, 2 episodes\n"
          ]
        },
        {
          "output_type": "stream",
          "name": "stderr",
          "text": [
            "\r 10%|▉         | 96/1000 [1:18:37<12:11:27, 48.55s/it]"
          ]
        },
        {
          "output_type": "stream",
          "name": "stdout",
          "text": [
            "Training Batch 95: Collected 1000 timesteps, 2 episodes\n"
          ]
        },
        {
          "output_type": "stream",
          "name": "stderr",
          "text": [
            "\r 10%|▉         | 97/1000 [1:19:21<11:50:31, 47.21s/it]"
          ]
        },
        {
          "output_type": "stream",
          "name": "stdout",
          "text": [
            "Training Batch 96: Collected 1000 timesteps, 2 episodes\n"
          ]
        },
        {
          "output_type": "stream",
          "name": "stderr",
          "text": [
            "\r 10%|▉         | 98/1000 [1:20:07<11:44:41, 46.87s/it]"
          ]
        },
        {
          "output_type": "stream",
          "name": "stdout",
          "text": [
            "Training Batch 97: Collected 1000 timesteps, 2 episodes\n"
          ]
        },
        {
          "output_type": "stream",
          "name": "stderr",
          "text": [
            "\r 10%|▉         | 99/1000 [1:20:52<11:34:07, 46.22s/it]"
          ]
        },
        {
          "output_type": "stream",
          "name": "stdout",
          "text": [
            "Training Batch 98: Collected 1000 timesteps, 2 episodes\n"
          ]
        },
        {
          "output_type": "stream",
          "name": "stderr",
          "text": [
            "\r 10%|█         | 100/1000 [1:21:37<11:28:23, 45.89s/it]"
          ]
        },
        {
          "output_type": "stream",
          "name": "stdout",
          "text": [
            "Training Batch 99: Collected 1000 timesteps, 2 episodes\n",
            "Training Batch 100: Collected 1000 timesteps, 2 episodes\n",
            "Episode 100: Avg Test Reward = 105.68, Max Test Reward = 107.49\n"
          ]
        },
        {
          "output_type": "display_data",
          "data": {
            "text/plain": [
              "<Figure size 1000x600 with 1 Axes>"
            ],
            "image/png": "[encoded data removed]"
          },
          "metadata": {}
        },
        {
          "output_type": "stream",
          "name": "stderr",
          "text": [
            " 10%|█         | 102/1000 [1:23:58<14:01:00, 56.19s/it]"
          ]
        },
        {
          "output_type": "stream",
          "name": "stdout",
          "text": [
            "Training Batch 101: Collected 1000 timesteps, 2 episodes\n"
          ]
        },
        {
          "output_type": "stream",
          "name": "stderr",
          "text": [
            "\r 10%|█         | 103/1000 [1:24:42<13:06:51, 52.63s/it]"
          ]
        },
        {
          "output_type": "stream",
          "name": "stdout",
          "text": [
            "Training Batch 102: Collected 1000 timesteps, 2 episodes\n"
          ]
        },
        {
          "output_type": "stream",
          "name": "stderr",
          "text": [
            "\r 10%|█         | 104/1000 [1:25:28<12:33:54, 50.49s/it]"
          ]
        },
        {
          "output_type": "stream",
          "name": "stdout",
          "text": [
            "Training Batch 103: Collected 1000 timesteps, 2 episodes\n"
          ]
        },
        {
          "output_type": "stream",
          "name": "stderr",
          "text": [
            "\r 10%|█         | 105/1000 [1:26:12<12:05:39, 48.65s/it]"
          ]
        },
        {
          "output_type": "stream",
          "name": "stdout",
          "text": [
            "Training Batch 104: Collected 1000 timesteps, 2 episodes\n"
          ]
        },
        {
          "output_type": "stream",
          "name": "stderr",
          "text": [
            "\r 11%|█         | 106/1000 [1:26:58<11:52:55, 47.85s/it]"
          ]
        },
        {
          "output_type": "stream",
          "name": "stdout",
          "text": [
            "Training Batch 105: Collected 1000 timesteps, 2 episodes\n"
          ]
        },
        {
          "output_type": "stream",
          "name": "stderr",
          "text": [
            "\r 11%|█         | 107/1000 [1:27:43<11:39:12, 46.98s/it]"
          ]
        },
        {
          "output_type": "stream",
          "name": "stdout",
          "text": [
            "Training Batch 106: Collected 1000 timesteps, 2 episodes\n"
          ]
        },
        {
          "output_type": "stream",
          "name": "stderr",
          "text": [
            "\r 11%|█         | 108/1000 [1:28:30<11:40:08, 47.09s/it]"
          ]
        },
        {
          "output_type": "stream",
          "name": "stdout",
          "text": [
            "Training Batch 107: Collected 1000 timesteps, 2 episodes\n"
          ]
        },
        {
          "output_type": "stream",
          "name": "stderr",
          "text": [
            "\r 11%|█         | 109/1000 [1:29:18<11:42:50, 47.33s/it]"
          ]
        },
        {
          "output_type": "stream",
          "name": "stdout",
          "text": [
            "Training Batch 108: Collected 1000 timesteps, 2 episodes\n"
          ]
        },
        {
          "output_type": "stream",
          "name": "stderr",
          "text": [
            "\r 11%|█         | 110/1000 [1:30:04<11:35:45, 46.90s/it]"
          ]
        },
        {
          "output_type": "stream",
          "name": "stdout",
          "text": [
            "Training Batch 109: Collected 1000 timesteps, 2 episodes\n",
            "Training Batch 110: Collected 1000 timesteps, 2 episodes\n"
          ]
        },
        {
          "output_type": "stream",
          "name": "stderr",
          "text": [
            "\r 11%|█         | 111/1000 [1:31:42<15:21:12, 62.17s/it]"
          ]
        },
        {
          "output_type": "stream",
          "name": "stdout",
          "text": [
            "Episode 110: Avg Test Reward = 149.75, Max Test Reward = 170.93\n"
          ]
        },
        {
          "output_type": "stream",
          "name": "stderr",
          "text": [
            "\r 11%|█         | 112/1000 [1:32:28<14:09:45, 57.42s/it]"
          ]
        },
        {
          "output_type": "stream",
          "name": "stdout",
          "text": [
            "Training Batch 111: Collected 1000 timesteps, 2 episodes\n"
          ]
        },
        {
          "output_type": "stream",
          "name": "stderr",
          "text": [
            "\r 11%|█▏        | 113/1000 [1:33:14<13:17:44, 53.96s/it]"
          ]
        },
        {
          "output_type": "stream",
          "name": "stdout",
          "text": [
            "Training Batch 112: Collected 1000 timesteps, 2 episodes\n"
          ]
        },
        {
          "output_type": "stream",
          "name": "stderr",
          "text": [
            "\r 11%|█▏        | 114/1000 [1:34:01<12:43:00, 51.67s/it]"
          ]
        },
        {
          "output_type": "stream",
          "name": "stdout",
          "text": [
            "Training Batch 113: Collected 1000 timesteps, 2 episodes\n"
          ]
        },
        {
          "output_type": "stream",
          "name": "stderr",
          "text": [
            "\r 12%|█▏        | 115/1000 [1:34:46<12:13:09, 49.71s/it]"
          ]
        },
        {
          "output_type": "stream",
          "name": "stdout",
          "text": [
            "Training Batch 114: Collected 1000 timesteps, 2 episodes\n"
          ]
        },
        {
          "output_type": "stream",
          "name": "stderr",
          "text": [
            "\r 12%|█▏        | 116/1000 [1:35:32<11:56:29, 48.63s/it]"
          ]
        },
        {
          "output_type": "stream",
          "name": "stdout",
          "text": [
            "Training Batch 115: Collected 1000 timesteps, 2 episodes\n"
          ]
        },
        {
          "output_type": "stream",
          "name": "stderr",
          "text": [
            "\r 12%|█▏        | 117/1000 [1:36:17<11:40:24, 47.59s/it]"
          ]
        },
        {
          "output_type": "stream",
          "name": "stdout",
          "text": [
            "Training Batch 116: Collected 1000 timesteps, 2 episodes\n"
          ]
        },
        {
          "output_type": "stream",
          "name": "stderr",
          "text": [
            "\r 12%|█▏        | 118/1000 [1:37:03<11:32:10, 47.09s/it]"
          ]
        },
        {
          "output_type": "stream",
          "name": "stdout",
          "text": [
            "Training Batch 117: Collected 1000 timesteps, 2 episodes\n"
          ]
        },
        {
          "output_type": "stream",
          "name": "stderr",
          "text": [
            "\r 12%|█▏        | 119/1000 [1:37:48<11:21:13, 46.39s/it]"
          ]
        },
        {
          "output_type": "stream",
          "name": "stdout",
          "text": [
            "Training Batch 118: Collected 1000 timesteps, 2 episodes\n"
          ]
        },
        {
          "output_type": "stream",
          "name": "stderr",
          "text": [
            "\r 12%|█▏        | 120/1000 [1:38:33<11:18:07, 46.24s/it]"
          ]
        },
        {
          "output_type": "stream",
          "name": "stdout",
          "text": [
            "Training Batch 119: Collected 1000 timesteps, 2 episodes\n",
            "Training Batch 120: Collected 1000 timesteps, 2 episodes\n"
          ]
        },
        {
          "output_type": "stream",
          "name": "stderr",
          "text": [
            "\r 12%|█▏        | 121/1000 [1:40:08<14:51:37, 60.86s/it]"
          ]
        },
        {
          "output_type": "stream",
          "name": "stdout",
          "text": [
            "Episode 120: Avg Test Reward = 172.64, Max Test Reward = 243.14\n"
          ]
        },
        {
          "output_type": "stream",
          "name": "stderr",
          "text": [
            "\r 12%|█▏        | 122/1000 [1:40:54<13:42:13, 56.19s/it]"
          ]
        },
        {
          "output_type": "stream",
          "name": "stdout",
          "text": [
            "Training Batch 121: Collected 1000 timesteps, 2 episodes\n"
          ]
        },
        {
          "output_type": "stream",
          "name": "stderr",
          "text": [
            "\r 12%|█▏        | 123/1000 [1:41:38<12:47:38, 52.52s/it]"
          ]
        },
        {
          "output_type": "stream",
          "name": "stdout",
          "text": [
            "Training Batch 122: Collected 1000 timesteps, 2 episodes\n"
          ]
        },
        {
          "output_type": "stream",
          "name": "stderr",
          "text": [
            "\r 12%|█▏        | 124/1000 [1:42:23<12:15:51, 50.40s/it]"
          ]
        },
        {
          "output_type": "stream",
          "name": "stdout",
          "text": [
            "Training Batch 123: Collected 1000 timesteps, 2 episodes\n"
          ]
        },
        {
          "output_type": "stream",
          "name": "stderr",
          "text": [
            "\r 12%|█▎        | 125/1000 [1:43:07<11:47:07, 48.49s/it]"
          ]
        },
        {
          "output_type": "stream",
          "name": "stdout",
          "text": [
            "Training Batch 124: Collected 1000 timesteps, 2 episodes\n"
          ]
        },
        {
          "output_type": "stream",
          "name": "stderr",
          "text": [
            "\r 13%|█▎        | 126/1000 [1:43:52<11:31:08, 47.45s/it]"
          ]
        },
        {
          "output_type": "stream",
          "name": "stdout",
          "text": [
            "Training Batch 125: Collected 1000 timesteps, 2 episodes\n"
          ]
        },
        {
          "output_type": "stream",
          "name": "stderr",
          "text": [
            "\r 13%|█▎        | 127/1000 [1:44:36<11:14:02, 46.33s/it]"
          ]
        },
        {
          "output_type": "stream",
          "name": "stdout",
          "text": [
            "Training Batch 126: Collected 1000 timesteps, 2 episodes\n"
          ]
        },
        {
          "output_type": "stream",
          "name": "stderr",
          "text": [
            "\r 13%|█▎        | 128/1000 [1:45:21<11:06:12, 45.84s/it]"
          ]
        },
        {
          "output_type": "stream",
          "name": "stdout",
          "text": [
            "Training Batch 127: Collected 1000 timesteps, 2 episodes\n"
          ]
        },
        {
          "output_type": "stream",
          "name": "stderr",
          "text": [
            "\r 13%|█▎        | 129/1000 [1:46:04<10:55:03, 45.12s/it]"
          ]
        },
        {
          "output_type": "stream",
          "name": "stdout",
          "text": [
            "Training Batch 128: Collected 1000 timesteps, 2 episodes\n"
          ]
        },
        {
          "output_type": "stream",
          "name": "stderr",
          "text": [
            "\r 13%|█▎        | 130/1000 [1:46:49<10:53:05, 45.04s/it]"
          ]
        },
        {
          "output_type": "stream",
          "name": "stdout",
          "text": [
            "Training Batch 129: Collected 1000 timesteps, 2 episodes\n",
            "Training Batch 130: Collected 1000 timesteps, 2 episodes\n"
          ]
        },
        {
          "output_type": "stream",
          "name": "stderr",
          "text": [
            "\r 13%|█▎        | 131/1000 [1:48:22<14:23:06, 59.59s/it]"
          ]
        },
        {
          "output_type": "stream",
          "name": "stdout",
          "text": [
            "Episode 130: Avg Test Reward = 151.69, Max Test Reward = 244.59\n"
          ]
        },
        {
          "output_type": "stream",
          "name": "stderr",
          "text": [
            "\r 13%|█▎        | 132/1000 [1:49:07<13:17:14, 55.11s/it]"
          ]
        },
        {
          "output_type": "stream",
          "name": "stdout",
          "text": [
            "Training Batch 131: Collected 1000 timesteps, 2 episodes\n"
          ]
        },
        {
          "output_type": "stream",
          "name": "stderr",
          "text": [
            "\r 13%|█▎        | 133/1000 [1:49:52<12:33:01, 52.11s/it]"
          ]
        },
        {
          "output_type": "stream",
          "name": "stdout",
          "text": [
            "Training Batch 132: Collected 1000 timesteps, 2 episodes\n"
          ]
        },
        {
          "output_type": "stream",
          "name": "stderr",
          "text": [
            "\r 13%|█▎        | 134/1000 [1:50:36<11:55:36, 49.58s/it]"
          ]
        },
        {
          "output_type": "stream",
          "name": "stdout",
          "text": [
            "Training Batch 133: Collected 1000 timesteps, 2 episodes\n"
          ]
        },
        {
          "output_type": "stream",
          "name": "stderr",
          "text": [
            "\r 14%|█▎        | 135/1000 [1:51:20<11:32:25, 48.03s/it]"
          ]
        },
        {
          "output_type": "stream",
          "name": "stdout",
          "text": [
            "Training Batch 134: Collected 1000 timesteps, 2 episodes\n"
          ]
        },
        {
          "output_type": "stream",
          "name": "stderr",
          "text": [
            "\r 14%|█▎        | 136/1000 [1:52:04<11:13:44, 46.79s/it]"
          ]
        },
        {
          "output_type": "stream",
          "name": "stdout",
          "text": [
            "Training Batch 135: Collected 1000 timesteps, 2 episodes\n"
          ]
        },
        {
          "output_type": "stream",
          "name": "stderr",
          "text": [
            "\r 14%|█▎        | 137/1000 [1:52:49<11:05:06, 46.24s/it]"
          ]
        },
        {
          "output_type": "stream",
          "name": "stdout",
          "text": [
            "Training Batch 136: Collected 1000 timesteps, 2 episodes\n"
          ]
        },
        {
          "output_type": "stream",
          "name": "stderr",
          "text": [
            "\r 14%|█▍        | 138/1000 [1:53:33<10:52:14, 45.40s/it]"
          ]
        },
        {
          "output_type": "stream",
          "name": "stdout",
          "text": [
            "Training Batch 137: Collected 1000 timesteps, 2 episodes\n"
          ]
        },
        {
          "output_type": "stream",
          "name": "stderr",
          "text": [
            "\r 14%|█▍        | 139/1000 [1:54:17<10:49:07, 45.24s/it]"
          ]
        },
        {
          "output_type": "stream",
          "name": "stdout",
          "text": [
            "Training Batch 138: Collected 1000 timesteps, 2 episodes\n"
          ]
        },
        {
          "output_type": "stream",
          "name": "stderr",
          "text": [
            "\r 14%|█▍        | 140/1000 [1:55:01<10:41:21, 44.75s/it]"
          ]
        },
        {
          "output_type": "stream",
          "name": "stdout",
          "text": [
            "Training Batch 139: Collected 1000 timesteps, 2 episodes\n",
            "Training Batch 140: Collected 1000 timesteps, 2 episodes\n"
          ]
        },
        {
          "output_type": "stream",
          "name": "stderr",
          "text": [
            "\r 14%|█▍        | 141/1000 [1:56:34<14:07:45, 59.21s/it]"
          ]
        },
        {
          "output_type": "stream",
          "name": "stdout",
          "text": [
            "Episode 140: Avg Test Reward = 151.21, Max Test Reward = 244.44\n"
          ]
        },
        {
          "output_type": "stream",
          "name": "stderr",
          "text": [
            "\r 14%|█▍        | 142/1000 [1:57:19<13:05:06, 54.90s/it]"
          ]
        },
        {
          "output_type": "stream",
          "name": "stdout",
          "text": [
            "Training Batch 141: Collected 1000 timesteps, 2 episodes\n"
          ]
        },
        {
          "output_type": "stream",
          "name": "stderr",
          "text": [
            "\r 14%|█▍        | 143/1000 [1:58:02<12:13:52, 51.38s/it]"
          ]
        },
        {
          "output_type": "stream",
          "name": "stdout",
          "text": [
            "Training Batch 142: Collected 1000 timesteps, 2 episodes\n"
          ]
        },
        {
          "output_type": "stream",
          "name": "stderr",
          "text": [
            "\r 14%|█▍        | 144/1000 [1:58:47<11:47:28, 49.59s/it]"
          ]
        },
        {
          "output_type": "stream",
          "name": "stdout",
          "text": [
            "Training Batch 143: Collected 1000 timesteps, 2 episodes\n"
          ]
        },
        {
          "output_type": "stream",
          "name": "stderr",
          "text": [
            "\r 14%|█▍        | 145/1000 [1:59:31<11:22:02, 47.86s/it]"
          ]
        },
        {
          "output_type": "stream",
          "name": "stdout",
          "text": [
            "Training Batch 144: Collected 1000 timesteps, 2 episodes\n"
          ]
        },
        {
          "output_type": "stream",
          "name": "stderr",
          "text": [
            "\r 15%|█▍        | 146/1000 [2:00:16<11:08:37, 46.98s/it]"
          ]
        },
        {
          "output_type": "stream",
          "name": "stdout",
          "text": [
            "Training Batch 145: Collected 1000 timesteps, 2 episodes\n"
          ]
        },
        {
          "output_type": "stream",
          "name": "stderr",
          "text": [
            "\r 15%|█▍        | 147/1000 [2:01:00<10:53:33, 45.97s/it]"
          ]
        },
        {
          "output_type": "stream",
          "name": "stdout",
          "text": [
            "Training Batch 146: Collected 1000 timesteps, 2 episodes\n"
          ]
        },
        {
          "output_type": "stream",
          "name": "stderr",
          "text": [
            "\r 15%|█▍        | 148/1000 [2:01:45<10:48:35, 45.67s/it]"
          ]
        },
        {
          "output_type": "stream",
          "name": "stdout",
          "text": [
            "Training Batch 147: Collected 1000 timesteps, 2 episodes\n"
          ]
        },
        {
          "output_type": "stream",
          "name": "stderr",
          "text": [
            "\r 15%|█▍        | 149/1000 [2:02:29<10:41:00, 45.20s/it]"
          ]
        },
        {
          "output_type": "stream",
          "name": "stdout",
          "text": [
            "Training Batch 148: Collected 1000 timesteps, 2 episodes\n"
          ]
        },
        {
          "output_type": "stream",
          "name": "stderr",
          "text": [
            "\r 15%|█▌        | 150/1000 [2:03:14<10:38:05, 45.04s/it]"
          ]
        },
        {
          "output_type": "stream",
          "name": "stdout",
          "text": [
            "Training Batch 149: Collected 1000 timesteps, 2 episodes\n",
            "Training Batch 150: Collected 1000 timesteps, 2 episodes\n",
            "Episode 150: Avg Test Reward = 174.52, Max Test Reward = 247.52\n"
          ]
        },
        {
          "output_type": "display_data",
          "data": {
            "text/plain": [
              "<Figure size 1000x600 with 1 Axes>"
            ],
            "image/png": "[encoded data removed]"
          },
          "metadata": {}
        },
        {
          "output_type": "stream",
          "name": "stderr",
          "text": [
            " 15%|█▌        | 152/1000 [2:05:32<12:58:14, 55.06s/it]"
          ]
        },
        {
          "output_type": "stream",
          "name": "stdout",
          "text": [
            "Training Batch 151: Collected 1000 timesteps, 2 episodes\n"
          ]
        },
        {
          "output_type": "stream",
          "name": "stderr",
          "text": [
            "\r 15%|█▌        | 153/1000 [2:06:17<12:16:15, 52.16s/it]"
          ]
        },
        {
          "output_type": "stream",
          "name": "stdout",
          "text": [
            "Training Batch 152: Collected 1000 timesteps, 2 episodes\n"
          ]
        },
        {
          "output_type": "stream",
          "name": "stderr",
          "text": [
            "\r 15%|█▌        | 154/1000 [2:07:01<11:40:41, 49.69s/it]"
          ]
        },
        {
          "output_type": "stream",
          "name": "stdout",
          "text": [
            "Training Batch 153: Collected 1000 timesteps, 2 episodes\n"
          ]
        },
        {
          "output_type": "stream",
          "name": "stderr",
          "text": [
            "\r 16%|█▌        | 155/1000 [2:07:46<11:20:37, 48.33s/it]"
          ]
        },
        {
          "output_type": "stream",
          "name": "stdout",
          "text": [
            "Training Batch 154: Collected 1000 timesteps, 2 episodes\n"
          ]
        },
        {
          "output_type": "stream",
          "name": "stderr",
          "text": [
            "\r 16%|█▌        | 156/1000 [2:08:30<10:59:51, 46.91s/it]"
          ]
        },
        {
          "output_type": "stream",
          "name": "stdout",
          "text": [
            "Training Batch 155: Collected 1000 timesteps, 2 episodes\n"
          ]
        },
        {
          "output_type": "stream",
          "name": "stderr",
          "text": [
            "\r 16%|█▌        | 157/1000 [2:09:15<10:51:39, 46.38s/it]"
          ]
        },
        {
          "output_type": "stream",
          "name": "stdout",
          "text": [
            "Training Batch 156: Collected 1000 timesteps, 2 episodes\n"
          ]
        },
        {
          "output_type": "stream",
          "name": "stderr",
          "text": [
            "\r 16%|█▌        | 158/1000 [2:09:59<10:38:13, 45.48s/it]"
          ]
        },
        {
          "output_type": "stream",
          "name": "stdout",
          "text": [
            "Training Batch 157: Collected 1000 timesteps, 2 episodes\n"
          ]
        },
        {
          "output_type": "stream",
          "name": "stderr",
          "text": [
            "\r 16%|█▌        | 159/1000 [2:10:43<10:34:59, 45.30s/it]"
          ]
        },
        {
          "output_type": "stream",
          "name": "stdout",
          "text": [
            "Training Batch 158: Collected 1000 timesteps, 2 episodes\n"
          ]
        },
        {
          "output_type": "stream",
          "name": "stderr",
          "text": [
            "\r 16%|█▌        | 160/1000 [2:11:28<10:30:32, 45.04s/it]"
          ]
        },
        {
          "output_type": "stream",
          "name": "stdout",
          "text": [
            "Training Batch 159: Collected 1000 timesteps, 2 episodes\n",
            "Training Batch 160: Collected 1000 timesteps, 2 episodes\n"
          ]
        },
        {
          "output_type": "stream",
          "name": "stderr",
          "text": [
            "\r 16%|█▌        | 161/1000 [2:13:04<14:03:29, 60.32s/it]"
          ]
        },
        {
          "output_type": "stream",
          "name": "stdout",
          "text": [
            "Episode 160: Avg Test Reward = 174.10, Max Test Reward = 245.18\n"
          ]
        },
        {
          "output_type": "stream",
          "name": "stderr",
          "text": [
            "\r 16%|█▌        | 162/1000 [2:13:48<12:55:10, 55.50s/it]"
          ]
        },
        {
          "output_type": "stream",
          "name": "stdout",
          "text": [
            "Training Batch 161: Collected 1000 timesteps, 2 episodes\n"
          ]
        },
        {
          "output_type": "stream",
          "name": "stderr",
          "text": [
            "\r 16%|█▋        | 163/1000 [2:14:34<12:15:51, 52.75s/it]"
          ]
        },
        {
          "output_type": "stream",
          "name": "stdout",
          "text": [
            "Training Batch 162: Collected 1000 timesteps, 2 episodes\n"
          ]
        },
        {
          "output_type": "stream",
          "name": "stderr",
          "text": [
            "\r 16%|█▋        | 164/1000 [2:15:19<11:40:51, 50.30s/it]"
          ]
        },
        {
          "output_type": "stream",
          "name": "stdout",
          "text": [
            "Training Batch 163: Collected 1000 timesteps, 2 episodes\n"
          ]
        },
        {
          "output_type": "stream",
          "name": "stderr",
          "text": [
            "\r 16%|█▋        | 165/1000 [2:16:05<11:21:59, 49.01s/it]"
          ]
        },
        {
          "output_type": "stream",
          "name": "stdout",
          "text": [
            "Training Batch 164: Collected 1000 timesteps, 2 episodes\n"
          ]
        },
        {
          "output_type": "stream",
          "name": "stderr",
          "text": [
            "\r 17%|█▋        | 166/1000 [2:16:49<11:00:44, 47.54s/it]"
          ]
        },
        {
          "output_type": "stream",
          "name": "stdout",
          "text": [
            "Training Batch 165: Collected 1000 timesteps, 2 episodes\n"
          ]
        },
        {
          "output_type": "stream",
          "name": "stderr",
          "text": [
            "\r 17%|█▋        | 167/1000 [2:17:34<10:49:34, 46.79s/it]"
          ]
        },
        {
          "output_type": "stream",
          "name": "stdout",
          "text": [
            "Training Batch 166: Collected 1000 timesteps, 2 episodes\n"
          ]
        },
        {
          "output_type": "stream",
          "name": "stderr",
          "text": [
            "\r 17%|█▋        | 168/1000 [2:18:19<10:38:56, 46.08s/it]"
          ]
        },
        {
          "output_type": "stream",
          "name": "stdout",
          "text": [
            "Training Batch 167: Collected 1000 timesteps, 2 episodes\n"
          ]
        },
        {
          "output_type": "stream",
          "name": "stderr",
          "text": [
            "\r 17%|█▋        | 169/1000 [2:19:04<10:33:58, 45.77s/it]"
          ]
        },
        {
          "output_type": "stream",
          "name": "stdout",
          "text": [
            "Training Batch 168: Collected 1000 timesteps, 2 episodes\n"
          ]
        },
        {
          "output_type": "stream",
          "name": "stderr",
          "text": [
            "\r 17%|█▋        | 170/1000 [2:19:48<10:26:30, 45.29s/it]"
          ]
        },
        {
          "output_type": "stream",
          "name": "stdout",
          "text": [
            "Training Batch 169: Collected 1000 timesteps, 2 episodes\n",
            "Training Batch 170: Collected 1000 timesteps, 2 episodes\n"
          ]
        },
        {
          "output_type": "stream",
          "name": "stderr",
          "text": [
            "\r 17%|█▋        | 171/1000 [2:21:22<13:49:14, 60.02s/it]"
          ]
        },
        {
          "output_type": "stream",
          "name": "stdout",
          "text": [
            "Episode 170: Avg Test Reward = 200.75, Max Test Reward = 249.18\n"
          ]
        },
        {
          "output_type": "stream",
          "name": "stderr",
          "text": [
            "\r 17%|█▋        | 172/1000 [2:22:07<12:44:45, 55.42s/it]"
          ]
        },
        {
          "output_type": "stream",
          "name": "stdout",
          "text": [
            "Training Batch 171: Collected 1000 timesteps, 2 episodes\n"
          ]
        },
        {
          "output_type": "stream",
          "name": "stderr",
          "text": [
            "\r 17%|█▋        | 173/1000 [2:22:51<11:56:26, 51.98s/it]"
          ]
        },
        {
          "output_type": "stream",
          "name": "stdout",
          "text": [
            "Training Batch 172: Collected 1000 timesteps, 2 episodes\n"
          ]
        },
        {
          "output_type": "stream",
          "name": "stderr",
          "text": [
            "\r 17%|█▋        | 174/1000 [2:23:36<11:26:37, 49.88s/it]"
          ]
        },
        {
          "output_type": "stream",
          "name": "stdout",
          "text": [
            "Training Batch 173: Collected 1000 timesteps, 2 episodes\n"
          ]
        },
        {
          "output_type": "stream",
          "name": "stderr",
          "text": [
            "\r 18%|█▊        | 175/1000 [2:24:19<10:58:45, 47.91s/it]"
          ]
        },
        {
          "output_type": "stream",
          "name": "stdout",
          "text": [
            "Training Batch 174: Collected 1000 timesteps, 2 episodes\n"
          ]
        },
        {
          "output_type": "stream",
          "name": "stderr",
          "text": [
            "\r 18%|█▊        | 176/1000 [2:25:04<10:47:01, 47.11s/it]"
          ]
        },
        {
          "output_type": "stream",
          "name": "stdout",
          "text": [
            "Training Batch 175: Collected 1000 timesteps, 2 episodes\n"
          ]
        },
        {
          "output_type": "stream",
          "name": "stderr",
          "text": [
            "\r 18%|█▊        | 177/1000 [2:25:49<10:34:58, 46.29s/it]"
          ]
        },
        {
          "output_type": "stream",
          "name": "stdout",
          "text": [
            "Training Batch 176: Collected 1000 timesteps, 2 episodes\n"
          ]
        },
        {
          "output_type": "stream",
          "name": "stderr",
          "text": [
            "\r 18%|█▊        | 178/1000 [2:26:34<10:28:59, 45.91s/it]"
          ]
        },
        {
          "output_type": "stream",
          "name": "stdout",
          "text": [
            "Training Batch 177: Collected 1000 timesteps, 2 episodes\n"
          ]
        },
        {
          "output_type": "stream",
          "name": "stderr",
          "text": [
            "\r 18%|█▊        | 179/1000 [2:27:17<10:18:22, 45.19s/it]"
          ]
        },
        {
          "output_type": "stream",
          "name": "stdout",
          "text": [
            "Training Batch 178: Collected 1000 timesteps, 2 episodes\n"
          ]
        },
        {
          "output_type": "stream",
          "name": "stderr",
          "text": [
            "/usr/local/lib/python3.11/dist-packages/highway_env/envs/common/observation.py:228: SettingWithCopyWarning: \n",
            "A value is trying to be set on a copy of a slice from a DataFrame.\n",
            "Try using .loc[row_indexer,col_indexer] = value instead\n",
            "\n",
            "See the caveats in the documentation: https://pandas.pydata.org/pandas-docs/stable/user_guide/indexing.html#returning-a-view-versus-a-copy\n",
            "  df[feature] = utils.lmap(df[feature], [f_range[0], f_range[1]], [-1, 1])\n",
            " 18%|█▊        | 180/1000 [2:28:02<10:15:33, 45.04s/it]"
          ]
        },
        {
          "output_type": "stream",
          "name": "stdout",
          "text": [
            "Training Batch 179: Collected 1000 timesteps, 2 episodes\n",
            "Training Batch 180: Collected 1000 timesteps, 2 episodes\n"
          ]
        },
        {
          "output_type": "stream",
          "name": "stderr",
          "text": [
            "\r 18%|█▊        | 181/1000 [2:29:35<13:32:45, 59.54s/it]"
          ]
        },
        {
          "output_type": "stream",
          "name": "stdout",
          "text": [
            "Episode 180: Avg Test Reward = 62.85, Max Test Reward = 164.18\n"
          ]
        },
        {
          "output_type": "stream",
          "name": "stderr",
          "text": [
            "\r 18%|█▊        | 182/1000 [2:30:19<12:28:03, 54.87s/it]"
          ]
        },
        {
          "output_type": "stream",
          "name": "stdout",
          "text": [
            "Training Batch 181: Collected 1000 timesteps, 2 episodes\n"
          ]
        },
        {
          "output_type": "stream",
          "name": "stderr",
          "text": [
            "\r 18%|█▊        | 183/1000 [2:31:04<11:46:39, 51.90s/it]"
          ]
        },
        {
          "output_type": "stream",
          "name": "stdout",
          "text": [
            "Training Batch 182: Collected 1000 timesteps, 2 episodes\n"
          ]
        },
        {
          "output_type": "stream",
          "name": "stderr",
          "text": [
            "\r 18%|█▊        | 184/1000 [2:31:48<11:11:28, 49.37s/it]"
          ]
        },
        {
          "output_type": "stream",
          "name": "stdout",
          "text": [
            "Training Batch 183: Collected 1000 timesteps, 2 episodes\n"
          ]
        },
        {
          "output_type": "stream",
          "name": "stderr",
          "text": [
            "\r 18%|█▊        | 185/1000 [2:32:32<10:51:44, 47.98s/it]"
          ]
        },
        {
          "output_type": "stream",
          "name": "stdout",
          "text": [
            "Training Batch 184: Collected 1000 timesteps, 2 episodes\n"
          ]
        },
        {
          "output_type": "stream",
          "name": "stderr",
          "text": [
            "\r 19%|█▊        | 186/1000 [2:33:16<10:34:02, 46.74s/it]"
          ]
        },
        {
          "output_type": "stream",
          "name": "stdout",
          "text": [
            "Training Batch 185: Collected 1000 timesteps, 2 episodes\n"
          ]
        },
        {
          "output_type": "stream",
          "name": "stderr",
          "text": [
            "\r 19%|█▊        | 187/1000 [2:34:00<10:22:37, 45.95s/it]"
          ]
        },
        {
          "output_type": "stream",
          "name": "stdout",
          "text": [
            "Training Batch 186: Collected 1000 timesteps, 2 episodes\n"
          ]
        },
        {
          "output_type": "stream",
          "name": "stderr",
          "text": [
            "\r 19%|█▉        | 188/1000 [2:34:44<10:11:24, 45.18s/it]"
          ]
        },
        {
          "output_type": "stream",
          "name": "stdout",
          "text": [
            "Training Batch 187: Collected 1000 timesteps, 2 episodes\n"
          ]
        },
        {
          "output_type": "stream",
          "name": "stderr",
          "text": [
            "\r 19%|█▉        | 189/1000 [2:35:27<10:03:05, 44.62s/it]"
          ]
        },
        {
          "output_type": "stream",
          "name": "stdout",
          "text": [
            "Training Batch 188: Collected 1000 timesteps, 2 episodes\n"
          ]
        },
        {
          "output_type": "stream",
          "name": "stderr",
          "text": [
            "\r 19%|█▉        | 190/1000 [2:36:12<10:03:02, 44.67s/it]"
          ]
        },
        {
          "output_type": "stream",
          "name": "stdout",
          "text": [
            "Training Batch 189: Collected 1000 timesteps, 2 episodes\n",
            "Training Batch 190: Collected 1000 timesteps, 2 episodes\n"
          ]
        },
        {
          "output_type": "stream",
          "name": "stderr",
          "text": [
            "\r 19%|█▉        | 191/1000 [2:37:45<13:18:24, 59.21s/it]"
          ]
        },
        {
          "output_type": "stream",
          "name": "stdout",
          "text": [
            "Episode 190: Avg Test Reward = 11.54, Max Test Reward = 11.90\n"
          ]
        },
        {
          "output_type": "stream",
          "name": "stderr",
          "text": [
            "\r 19%|█▉        | 192/1000 [2:38:30<12:18:32, 54.84s/it]"
          ]
        },
        {
          "output_type": "stream",
          "name": "stdout",
          "text": [
            "Training Batch 191: Collected 1000 timesteps, 2 episodes\n"
          ]
        },
        {
          "output_type": "stream",
          "name": "stderr",
          "text": [
            "\r 19%|█▉        | 193/1000 [2:39:14<11:33:12, 51.54s/it]"
          ]
        },
        {
          "output_type": "stream",
          "name": "stdout",
          "text": [
            "Training Batch 192: Collected 1000 timesteps, 2 episodes\n"
          ]
        },
        {
          "output_type": "stream",
          "name": "stderr",
          "text": [
            "\r 19%|█▉        | 194/1000 [2:39:58<11:03:17, 49.38s/it]"
          ]
        },
        {
          "output_type": "stream",
          "name": "stdout",
          "text": [
            "Training Batch 193: Collected 1000 timesteps, 2 episodes\n"
          ]
        },
        {
          "output_type": "stream",
          "name": "stderr",
          "text": [
            "\r 20%|█▉        | 195/1000 [2:40:42<10:41:11, 47.79s/it]"
          ]
        },
        {
          "output_type": "stream",
          "name": "stdout",
          "text": [
            "Training Batch 194: Collected 1000 timesteps, 2 episodes\n"
          ]
        },
        {
          "output_type": "stream",
          "name": "stderr",
          "text": [
            "\r 20%|█▉        | 196/1000 [2:41:26<10:23:36, 46.54s/it]"
          ]
        },
        {
          "output_type": "stream",
          "name": "stdout",
          "text": [
            "Training Batch 195: Collected 1000 timesteps, 2 episodes\n"
          ]
        },
        {
          "output_type": "stream",
          "name": "stderr",
          "text": [
            "\r 20%|█▉        | 197/1000 [2:42:10<10:13:29, 45.84s/it]"
          ]
        },
        {
          "output_type": "stream",
          "name": "stdout",
          "text": [
            "Training Batch 196: Collected 1000 timesteps, 2 episodes\n"
          ]
        },
        {
          "output_type": "stream",
          "name": "stderr",
          "text": [
            "\r 20%|█▉        | 198/1000 [2:42:53<10:02:49, 45.10s/it]"
          ]
        },
        {
          "output_type": "stream",
          "name": "stdout",
          "text": [
            "Training Batch 197: Collected 1000 timesteps, 2 episodes\n"
          ]
        },
        {
          "output_type": "stream",
          "name": "stderr",
          "text": [
            "\r 20%|█▉        | 199/1000 [2:43:38<9:59:38, 44.92s/it] "
          ]
        },
        {
          "output_type": "stream",
          "name": "stdout",
          "text": [
            "Training Batch 198: Collected 1000 timesteps, 2 episodes\n"
          ]
        },
        {
          "output_type": "stream",
          "name": "stderr",
          "text": [
            "/usr/local/lib/python3.11/dist-packages/highway_env/envs/common/observation.py:228: SettingWithCopyWarning: \n",
            "A value is trying to be set on a copy of a slice from a DataFrame.\n",
            "Try using .loc[row_indexer,col_indexer] = value instead\n",
            "\n",
            "See the caveats in the documentation: https://pandas.pydata.org/pandas-docs/stable/user_guide/indexing.html#returning-a-view-versus-a-copy\n",
            "  df[feature] = utils.lmap(df[feature], [f_range[0], f_range[1]], [-1, 1])\n",
            "/usr/local/lib/python3.11/dist-packages/highway_env/envs/common/observation.py:230: SettingWithCopyWarning: \n",
            "A value is trying to be set on a copy of a slice from a DataFrame.\n",
            "Try using .loc[row_indexer,col_indexer] = value instead\n",
            "\n",
            "See the caveats in the documentation: https://pandas.pydata.org/pandas-docs/stable/user_guide/indexing.html#returning-a-view-versus-a-copy\n",
            "  df[feature] = np.clip(df[feature], -1, 1)\n",
            "/usr/local/lib/python3.11/dist-packages/highway_env/envs/common/observation.py:228: SettingWithCopyWarning: \n",
            "A value is trying to be set on a copy of a slice from a DataFrame.\n",
            "Try using .loc[row_indexer,col_indexer] = value instead\n",
            "\n",
            "See the caveats in the documentation: https://pandas.pydata.org/pandas-docs/stable/user_guide/indexing.html#returning-a-view-versus-a-copy\n",
            "  df[feature] = utils.lmap(df[feature], [f_range[0], f_range[1]], [-1, 1])\n",
            "/usr/local/lib/python3.11/dist-packages/highway_env/envs/common/observation.py:230: SettingWithCopyWarning: \n",
            "A value is trying to be set on a copy of a slice from a DataFrame.\n",
            "Try using .loc[row_indexer,col_indexer] = value instead\n",
            "\n",
            "See the caveats in the documentation: https://pandas.pydata.org/pandas-docs/stable/user_guide/indexing.html#returning-a-view-versus-a-copy\n",
            "  df[feature] = np.clip(df[feature], -1, 1)\n",
            "/usr/local/lib/python3.11/dist-packages/highway_env/envs/common/observation.py:228: SettingWithCopyWarning: \n",
            "A value is trying to be set on a copy of a slice from a DataFrame.\n",
            "Try using .loc[row_indexer,col_indexer] = value instead\n",
            "\n",
            "See the caveats in the documentation: https://pandas.pydata.org/pandas-docs/stable/user_guide/indexing.html#returning-a-view-versus-a-copy\n",
            "  df[feature] = utils.lmap(df[feature], [f_range[0], f_range[1]], [-1, 1])\n",
            "/usr/local/lib/python3.11/dist-packages/highway_env/envs/common/observation.py:230: SettingWithCopyWarning: \n",
            "A value is trying to be set on a copy of a slice from a DataFrame.\n",
            "Try using .loc[row_indexer,col_indexer] = value instead\n",
            "\n",
            "See the caveats in the documentation: https://pandas.pydata.org/pandas-docs/stable/user_guide/indexing.html#returning-a-view-versus-a-copy\n",
            "  df[feature] = np.clip(df[feature], -1, 1)\n",
            "/usr/local/lib/python3.11/dist-packages/highway_env/envs/common/observation.py:228: SettingWithCopyWarning: \n",
            "A value is trying to be set on a copy of a slice from a DataFrame.\n",
            "Try using .loc[row_indexer,col_indexer] = value instead\n",
            "\n",
            "See the caveats in the documentation: https://pandas.pydata.org/pandas-docs/stable/user_guide/indexing.html#returning-a-view-versus-a-copy\n",
            "  df[feature] = utils.lmap(df[feature], [f_range[0], f_range[1]], [-1, 1])\n",
            "/usr/local/lib/python3.11/dist-packages/highway_env/envs/common/observation.py:230: SettingWithCopyWarning: \n",
            "A value is trying to be set on a copy of a slice from a DataFrame.\n",
            "Try using .loc[row_indexer,col_indexer] = value instead\n",
            "\n",
            "See the caveats in the documentation: https://pandas.pydata.org/pandas-docs/stable/user_guide/indexing.html#returning-a-view-versus-a-copy\n",
            "  df[feature] = np.clip(df[feature], -1, 1)\n",
            " 20%|██        | 200/1000 [2:44:22<9:55:04, 44.63s/it]"
          ]
        },
        {
          "output_type": "stream",
          "name": "stdout",
          "text": [
            "Training Batch 199: Collected 1000 timesteps, 2 episodes\n",
            "Training Batch 200: Collected 1000 timesteps, 2 episodes\n",
            "Episode 200: Avg Test Reward = 95.22, Max Test Reward = 169.01\n"
          ]
        },
        {
          "output_type": "display_data",
          "data": {
            "text/plain": [
              "<Figure size 1000x600 with 1 Axes>"
            ],
            "image/png": "[encoded data removed]"
          },
          "metadata": {}
        },
        {
          "output_type": "stream",
          "name": "stderr",
          "text": [
            " 20%|██        | 202/1000 [2:46:41<12:14:28, 55.22s/it]"
          ]
        },
        {
          "output_type": "stream",
          "name": "stdout",
          "text": [
            "Training Batch 201: Collected 1000 timesteps, 2 episodes\n"
          ]
        },
        {
          "output_type": "stream",
          "name": "stderr",
          "text": [
            "\r 20%|██        | 203/1000 [2:47:26<11:29:41, 51.92s/it]"
          ]
        },
        {
          "output_type": "stream",
          "name": "stdout",
          "text": [
            "Training Batch 202: Collected 1000 timesteps, 2 episodes\n"
          ]
        },
        {
          "output_type": "stream",
          "name": "stderr",
          "text": [
            "\r 20%|██        | 204/1000 [2:48:10<11:00:30, 49.79s/it]"
          ]
        },
        {
          "output_type": "stream",
          "name": "stdout",
          "text": [
            "Training Batch 203: Collected 1000 timesteps, 2 episodes\n"
          ]
        },
        {
          "output_type": "stream",
          "name": "stderr",
          "text": [
            "\r 20%|██        | 205/1000 [2:48:54<10:36:04, 48.01s/it]"
          ]
        },
        {
          "output_type": "stream",
          "name": "stdout",
          "text": [
            "Training Batch 204: Collected 1000 timesteps, 2 episodes\n"
          ]
        },
        {
          "output_type": "stream",
          "name": "stderr",
          "text": [
            "\r 21%|██        | 206/1000 [2:49:40<10:24:38, 47.20s/it]"
          ]
        },
        {
          "output_type": "stream",
          "name": "stdout",
          "text": [
            "Training Batch 205: Collected 1000 timesteps, 2 episodes\n"
          ]
        },
        {
          "output_type": "stream",
          "name": "stderr",
          "text": [
            "\r 21%|██        | 207/1000 [2:50:24<10:11:33, 46.27s/it]"
          ]
        },
        {
          "output_type": "stream",
          "name": "stdout",
          "text": [
            "Training Batch 206: Collected 1000 timesteps, 2 episodes\n"
          ]
        },
        {
          "output_type": "stream",
          "name": "stderr",
          "text": [
            "\r 21%|██        | 208/1000 [2:51:09<10:05:17, 45.86s/it]"
          ]
        },
        {
          "output_type": "stream",
          "name": "stdout",
          "text": [
            "Training Batch 207: Collected 1000 timesteps, 2 episodes\n"
          ]
        },
        {
          "output_type": "stream",
          "name": "stderr",
          "text": [
            "\r 21%|██        | 209/1000 [2:51:52<9:56:48, 45.27s/it] "
          ]
        },
        {
          "output_type": "stream",
          "name": "stdout",
          "text": [
            "Training Batch 208: Collected 1000 timesteps, 2 episodes\n"
          ]
        },
        {
          "output_type": "stream",
          "name": "stderr",
          "text": [
            "/usr/local/lib/python3.11/dist-packages/highway_env/envs/common/observation.py:228: SettingWithCopyWarning: \n",
            "A value is trying to be set on a copy of a slice from a DataFrame.\n",
            "Try using .loc[row_indexer,col_indexer] = value instead\n",
            "\n",
            "See the caveats in the documentation: https://pandas.pydata.org/pandas-docs/stable/user_guide/indexing.html#returning-a-view-versus-a-copy\n",
            "  df[feature] = utils.lmap(df[feature], [f_range[0], f_range[1]], [-1, 1])\n",
            "/usr/local/lib/python3.11/dist-packages/highway_env/envs/common/observation.py:230: SettingWithCopyWarning: \n",
            "A value is trying to be set on a copy of a slice from a DataFrame.\n",
            "Try using .loc[row_indexer,col_indexer] = value instead\n",
            "\n",
            "See the caveats in the documentation: https://pandas.pydata.org/pandas-docs/stable/user_guide/indexing.html#returning-a-view-versus-a-copy\n",
            "  df[feature] = np.clip(df[feature], -1, 1)\n",
            "/usr/local/lib/python3.11/dist-packages/highway_env/envs/common/observation.py:228: SettingWithCopyWarning: \n",
            "A value is trying to be set on a copy of a slice from a DataFrame.\n",
            "Try using .loc[row_indexer,col_indexer] = value instead\n",
            "\n",
            "See the caveats in the documentation: https://pandas.pydata.org/pandas-docs/stable/user_guide/indexing.html#returning-a-view-versus-a-copy\n",
            "  df[feature] = utils.lmap(df[feature], [f_range[0], f_range[1]], [-1, 1])\n",
            "/usr/local/lib/python3.11/dist-packages/highway_env/envs/common/observation.py:230: SettingWithCopyWarning: \n",
            "A value is trying to be set on a copy of a slice from a DataFrame.\n",
            "Try using .loc[row_indexer,col_indexer] = value instead\n",
            "\n",
            "See the caveats in the documentation: https://pandas.pydata.org/pandas-docs/stable/user_guide/indexing.html#returning-a-view-versus-a-copy\n",
            "  df[feature] = np.clip(df[feature], -1, 1)\n",
            "/usr/local/lib/python3.11/dist-packages/highway_env/envs/common/observation.py:228: SettingWithCopyWarning: \n",
            "A value is trying to be set on a copy of a slice from a DataFrame.\n",
            "Try using .loc[row_indexer,col_indexer] = value instead\n",
            "\n",
            "See the caveats in the documentation: https://pandas.pydata.org/pandas-docs/stable/user_guide/indexing.html#returning-a-view-versus-a-copy\n",
            "  df[feature] = utils.lmap(df[feature], [f_range[0], f_range[1]], [-1, 1])\n",
            "/usr/local/lib/python3.11/dist-packages/highway_env/envs/common/observation.py:230: SettingWithCopyWarning: \n",
            "A value is trying to be set on a copy of a slice from a DataFrame.\n",
            "Try using .loc[row_indexer,col_indexer] = value instead\n",
            "\n",
            "See the caveats in the documentation: https://pandas.pydata.org/pandas-docs/stable/user_guide/indexing.html#returning-a-view-versus-a-copy\n",
            "  df[feature] = np.clip(df[feature], -1, 1)\n",
            "/usr/local/lib/python3.11/dist-packages/highway_env/envs/common/observation.py:228: SettingWithCopyWarning: \n",
            "A value is trying to be set on a copy of a slice from a DataFrame.\n",
            "Try using .loc[row_indexer,col_indexer] = value instead\n",
            "\n",
            "See the caveats in the documentation: https://pandas.pydata.org/pandas-docs/stable/user_guide/indexing.html#returning-a-view-versus-a-copy\n",
            "  df[feature] = utils.lmap(df[feature], [f_range[0], f_range[1]], [-1, 1])\n",
            "/usr/local/lib/python3.11/dist-packages/highway_env/envs/common/observation.py:230: SettingWithCopyWarning: \n",
            "A value is trying to be set on a copy of a slice from a DataFrame.\n",
            "Try using .loc[row_indexer,col_indexer] = value instead\n",
            "\n",
            "See the caveats in the documentation: https://pandas.pydata.org/pandas-docs/stable/user_guide/indexing.html#returning-a-view-versus-a-copy\n",
            "  df[feature] = np.clip(df[feature], -1, 1)\n",
            " 21%|██        | 210/1000 [2:52:37<9:51:59, 44.96s/it]"
          ]
        },
        {
          "output_type": "stream",
          "name": "stdout",
          "text": [
            "Training Batch 209: Collected 1000 timesteps, 2 episodes\n",
            "Training Batch 210: Collected 1000 timesteps, 2 episodes\n"
          ]
        },
        {
          "output_type": "stream",
          "name": "stderr",
          "text": [
            "\r 21%|██        | 211/1000 [2:54:10<13:03:34, 59.59s/it]"
          ]
        },
        {
          "output_type": "stream",
          "name": "stdout",
          "text": [
            "Episode 210: Avg Test Reward = 73.79, Max Test Reward = 105.39\n"
          ]
        },
        {
          "output_type": "stream",
          "name": "stderr",
          "text": [
            "\r 21%|██        | 212/1000 [2:54:55<12:03:11, 55.07s/it]"
          ]
        },
        {
          "output_type": "stream",
          "name": "stdout",
          "text": [
            "Training Batch 211: Collected 1000 timesteps, 2 episodes\n"
          ]
        },
        {
          "output_type": "stream",
          "name": "stderr",
          "text": [
            "\r 21%|██▏       | 213/1000 [2:55:40<11:22:47, 52.06s/it]"
          ]
        },
        {
          "output_type": "stream",
          "name": "stdout",
          "text": [
            "Training Batch 212: Collected 1000 timesteps, 2 episodes\n"
          ]
        },
        {
          "output_type": "stream",
          "name": "stderr",
          "text": [
            "\r 21%|██▏       | 214/1000 [2:56:24<10:50:32, 49.66s/it]"
          ]
        },
        {
          "output_type": "stream",
          "name": "stdout",
          "text": [
            "Training Batch 213: Collected 1000 timesteps, 2 episodes\n"
          ]
        },
        {
          "output_type": "stream",
          "name": "stderr",
          "text": [
            "\r 22%|██▏       | 215/1000 [2:57:08<10:29:03, 48.08s/it]"
          ]
        },
        {
          "output_type": "stream",
          "name": "stdout",
          "text": [
            "Training Batch 214: Collected 1000 timesteps, 2 episodes\n"
          ]
        },
        {
          "output_type": "stream",
          "name": "stderr",
          "text": [
            "\r 22%|██▏       | 216/1000 [2:57:52<10:11:25, 46.79s/it]"
          ]
        },
        {
          "output_type": "stream",
          "name": "stdout",
          "text": [
            "Training Batch 215: Collected 1000 timesteps, 2 episodes\n"
          ]
        },
        {
          "output_type": "stream",
          "name": "stderr",
          "text": [
            "\r 22%|██▏       | 217/1000 [2:58:38<10:05:36, 46.41s/it]"
          ]
        },
        {
          "output_type": "stream",
          "name": "stdout",
          "text": [
            "Training Batch 216: Collected 1000 timesteps, 2 episodes\n"
          ]
        },
        {
          "output_type": "stream",
          "name": "stderr",
          "text": [
            "\r 22%|██▏       | 218/1000 [2:59:22<9:55:52, 45.72s/it] "
          ]
        },
        {
          "output_type": "stream",
          "name": "stdout",
          "text": [
            "Training Batch 217: Collected 1000 timesteps, 2 episodes\n"
          ]
        },
        {
          "output_type": "stream",
          "name": "stderr",
          "text": [
            "\r 22%|██▏       | 219/1000 [3:00:07<9:51:42, 45.46s/it]"
          ]
        },
        {
          "output_type": "stream",
          "name": "stdout",
          "text": [
            "Training Batch 218: Collected 1000 timesteps, 2 episodes\n"
          ]
        },
        {
          "output_type": "stream",
          "name": "stderr",
          "text": [
            "\r 22%|██▏       | 220/1000 [3:00:51<9:45:14, 45.02s/it]"
          ]
        },
        {
          "output_type": "stream",
          "name": "stdout",
          "text": [
            "Training Batch 219: Collected 1000 timesteps, 2 episodes\n",
            "Training Batch 220: Collected 1000 timesteps, 2 episodes\n"
          ]
        },
        {
          "output_type": "stream",
          "name": "stderr",
          "text": [
            "\r 22%|██▏       | 221/1000 [3:02:26<13:00:39, 60.13s/it]"
          ]
        },
        {
          "output_type": "stream",
          "name": "stdout",
          "text": [
            "Episode 220: Avg Test Reward = 73.92, Max Test Reward = 107.33\n"
          ]
        },
        {
          "output_type": "stream",
          "name": "stderr",
          "text": [
            "\r 22%|██▏       | 222/1000 [3:03:12<12:02:46, 55.74s/it]"
          ]
        },
        {
          "output_type": "stream",
          "name": "stdout",
          "text": [
            "Training Batch 221: Collected 1000 timesteps, 2 episodes\n"
          ]
        },
        {
          "output_type": "stream",
          "name": "stderr",
          "text": [
            "\r 22%|██▏       | 223/1000 [3:03:57<11:20:11, 52.52s/it]"
          ]
        },
        {
          "output_type": "stream",
          "name": "stdout",
          "text": [
            "Training Batch 222: Collected 1000 timesteps, 2 episodes\n"
          ]
        },
        {
          "output_type": "stream",
          "name": "stderr",
          "text": [
            "\r 22%|██▏       | 224/1000 [3:04:40<10:45:54, 49.94s/it]"
          ]
        },
        {
          "output_type": "stream",
          "name": "stdout",
          "text": [
            "Training Batch 223: Collected 1000 timesteps, 2 episodes\n"
          ]
        },
        {
          "output_type": "stream",
          "name": "stderr",
          "text": [
            "\r 22%|██▎       | 225/1000 [3:05:25<10:25:40, 48.44s/it]"
          ]
        },
        {
          "output_type": "stream",
          "name": "stdout",
          "text": [
            "Training Batch 224: Collected 1000 timesteps, 2 episodes\n"
          ]
        },
        {
          "output_type": "stream",
          "name": "stderr",
          "text": [
            "\r 23%|██▎       | 226/1000 [3:06:09<10:06:24, 47.01s/it]"
          ]
        },
        {
          "output_type": "stream",
          "name": "stdout",
          "text": [
            "Training Batch 225: Collected 1000 timesteps, 2 episodes\n"
          ]
        },
        {
          "output_type": "stream",
          "name": "stderr",
          "text": [
            "\r 23%|██▎       | 227/1000 [3:06:53<9:54:03, 46.11s/it] "
          ]
        },
        {
          "output_type": "stream",
          "name": "stdout",
          "text": [
            "Training Batch 226: Collected 1000 timesteps, 2 episodes\n"
          ]
        },
        {
          "output_type": "stream",
          "name": "stderr",
          "text": [
            "\r 23%|██▎       | 228/1000 [3:07:37<9:44:06, 45.40s/it]"
          ]
        },
        {
          "output_type": "stream",
          "name": "stdout",
          "text": [
            "Training Batch 227: Collected 1000 timesteps, 2 episodes\n"
          ]
        },
        {
          "output_type": "stream",
          "name": "stderr",
          "text": [
            "\r 23%|██▎       | 229/1000 [3:08:20<9:35:57, 44.82s/it]"
          ]
        },
        {
          "output_type": "stream",
          "name": "stdout",
          "text": [
            "Training Batch 228: Collected 1000 timesteps, 2 episodes\n"
          ]
        }
      ]
    }
  ],
  "metadata": {
    "colab": {
      "provenance": [],
      "include_colab_link": true
    },
    "kernelspec": {
      "display_name": "Python 3",
      "name": "python3"
    },
    "language_info": {
      "name": "python"
    }
  },
  "nbformat": 4,
  "nbformat_minor": 0
}