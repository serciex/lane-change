{
  "cells": [
    {
      "cell_type": "markdown",
      "metadata": {
        "id": "view-in-github",
        "colab_type": "text"
      },
      "source": [
        "<a href=\"https://colab.research.google.com/github/serciex/lane-change/blob/main/V3.ipynb\" target=\"_parent\"><img src=\"https://colab.research.google.com/assets/colab-badge.svg\" alt=\"Open In Colab\"/></a>"
      ]
    },
    {
      "cell_type": "markdown",
      "metadata": {
        "id": "ZAqx0bsIEQbi"
      },
      "source": [
        "Installing Prerequisites"
      ]
    },
    {
      "cell_type": "code",
      "execution_count": 1,
      "metadata": {
        "colab": {
          "base_uri": "https://localhost:8080/",
          "height": 0
        },
        "collapsed": true,
        "id": "AAc_-AeGEE5H",
        "outputId": "79739367-b684-47f6-cf4c-049cb0b239b8"
      },
      "outputs": [
        {
          "output_type": "stream",
          "name": "stdout",
          "text": [
            "Requirement already satisfied: pygame in /usr/local/lib/python3.11/dist-packages (2.6.1)\n",
            "Collecting highway-env\n",
            "  Downloading highway_env-1.10.1-py3-none-any.whl.metadata (16 kB)\n",
            "Requirement already satisfied: gymnasium>=1.0.0a2 in /usr/local/lib/python3.11/dist-packages (from highway-env) (1.1.1)\n",
            "Requirement already satisfied: farama-notifications>=0.0.1 in /usr/local/lib/python3.11/dist-packages (from highway-env) (0.0.4)\n",
            "Requirement already satisfied: numpy>=1.21.0 in /usr/local/lib/python3.11/dist-packages (from highway-env) (2.0.2)\n",
            "Requirement already satisfied: pygame>=2.0.2 in /usr/local/lib/python3.11/dist-packages (from highway-env) (2.6.1)\n",
            "Requirement already satisfied: matplotlib in /usr/local/lib/python3.11/dist-packages (from highway-env) (3.10.0)\n",
            "Requirement already satisfied: pandas in /usr/local/lib/python3.11/dist-packages (from highway-env) (2.2.2)\n",
            "Requirement already satisfied: scipy in /usr/local/lib/python3.11/dist-packages (from highway-env) (1.15.3)\n",
            "Requirement already satisfied: cloudpickle>=1.2.0 in /usr/local/lib/python3.11/dist-packages (from gymnasium>=1.0.0a2->highway-env) (3.1.1)\n",
            "Requirement already satisfied: typing-extensions>=4.3.0 in /usr/local/lib/python3.11/dist-packages (from gymnasium>=1.0.0a2->highway-env) (4.14.0)\n",
            "Requirement already satisfied: contourpy>=1.0.1 in /usr/local/lib/python3.11/dist-packages (from matplotlib->highway-env) (1.3.2)\n",
            "Requirement already satisfied: cycler>=0.10 in /usr/local/lib/python3.11/dist-packages (from matplotlib->highway-env) (0.12.1)\n",
            "Requirement already satisfied: fonttools>=4.22.0 in /usr/local/lib/python3.11/dist-packages (from matplotlib->highway-env) (4.58.4)\n",
            "Requirement already satisfied: kiwisolver>=1.3.1 in /usr/local/lib/python3.11/dist-packages (from matplotlib->highway-env) (1.4.8)\n",
            "Requirement already satisfied: packaging>=20.0 in /usr/local/lib/python3.11/dist-packages (from matplotlib->highway-env) (24.2)\n",
            "Requirement already satisfied: pillow>=8 in /usr/local/lib/python3.11/dist-packages (from matplotlib->highway-env) (11.2.1)\n",
            "Requirement already satisfied: pyparsing>=2.3.1 in /usr/local/lib/python3.11/dist-packages (from matplotlib->highway-env) (3.2.3)\n",
            "Requirement already satisfied: python-dateutil>=2.7 in /usr/local/lib/python3.11/dist-packages (from matplotlib->highway-env) (2.9.0.post0)\n",
            "Requirement already satisfied: pytz>=2020.1 in /usr/local/lib/python3.11/dist-packages (from pandas->highway-env) (2025.2)\n",
            "Requirement already satisfied: tzdata>=2022.7 in /usr/local/lib/python3.11/dist-packages (from pandas->highway-env) (2025.2)\n",
            "Requirement already satisfied: six>=1.5 in /usr/local/lib/python3.11/dist-packages (from python-dateutil>=2.7->matplotlib->highway-env) (1.17.0)\n",
            "Downloading highway_env-1.10.1-py3-none-any.whl (104 kB)\n",
            "\u001b[2K   \u001b[90m━━━━━━━━━━━━━━━━━━━━━━━━━━━━━━━━━━━━━━━━\u001b[0m \u001b[32m105.0/105.0 kB\u001b[0m \u001b[31m4.9 MB/s\u001b[0m eta \u001b[36m0:00:00\u001b[0m\n",
            "\u001b[?25hInstalling collected packages: highway-env\n",
            "Successfully installed highway-env-1.10.1\n"
          ]
        }
      ],
      "source": [
        "!pip install pygame\n",
        "!pip install highway-env"
      ]
    },
    {
      "cell_type": "markdown",
      "metadata": {
        "id": "Civ2P__KEUSq"
      },
      "source": [
        "Testing"
      ]
    },
    {
      "cell_type": "code",
      "execution_count": 2,
      "metadata": {
        "id": "-ZwGd9eVEWGY"
      },
      "outputs": [],
      "source": [
        "#Import Libraries\n",
        "from os import truncate\n",
        "import math\n",
        "import gymnasium\n",
        "import highway_env\n",
        "from matplotlib import pyplot as plt\n",
        "import pygame\n",
        "import numpy as np\n",
        "import os\n",
        "import torch\n",
        "import torch.nn as nn\n",
        "import torch.nn.functional as F\n",
        "import tqdm\n",
        "import gym\n",
        "from random import randint\n",
        "from torch.utils.data import DataLoader, TensorDataset\n",
        "import matplotlib.pyplot as plt\n",
        "from collections import deque\n",
        "import random\n",
        "import torch.optim as optim\n",
        "import tqdm\n",
        "\n",
        "# Workaround for gym compatibility\n",
        "if not hasattr(np, 'bool8'):\n",
        "    np.bool8 = np.bool_\n",
        "\n",
        "%matplotlib inline"
      ]
    },
    {
      "cell_type": "markdown",
      "metadata": {
        "id": "XF-2bRYTIjH6"
      },
      "source": [
        "Environment Definition"
      ]
    },
    {
      "cell_type": "code",
      "execution_count": 3,
      "metadata": {
        "colab": {
          "base_uri": "https://localhost:8080/",
          "height": 0
        },
        "id": "y922XK-cIewr",
        "outputId": "11b7034a-c06b-465f-869d-934c717a73b8"
      },
      "outputs": [
        {
          "output_type": "execute_result",
          "data": {
            "text/plain": [
              "<highway_env.envs.common.action.ContinuousAction at 0x7b74b717c110>"
            ]
          },
          "metadata": {},
          "execution_count": 3
        }
      ],
      "source": [
        "# Configure Environment Conditions\n",
        "config = {\n",
        "    \"lanes_count\": 3,\n",
        "    \"lane_width\": 3.75,\n",
        "    \"observation\": {\n",
        "        \"type\": \"Kinematics\",\n",
        "        \"features\": [\"x\", \"y\", \"vx\", \"vy\", \"heading\", \"lat_off\"]\n",
        "    },\n",
        "    \"action\": {\"type\": \"ContinuousAction\"},\"ego_spawn_random\": True,\n",
        "    \"policy_frequency\": 10,\n",
        "}\n",
        "env = gymnasium.make('highway-v0', render_mode='rgb_array', config=config)\n",
        "frames = []\n",
        "\n",
        "# Action Setup\n",
        "highway_env.envs.common.action.ContinuousAction(env, lateral=True,\n",
        "                                                longitudinal=True)"
      ]
    },
    {
      "cell_type": "markdown",
      "source": [
        "IDM Controller"
      ],
      "metadata": {
        "id": "t2j5j5Q8Fh9C"
      }
    },
    {
      "cell_type": "code",
      "execution_count": 4,
      "metadata": {
        "id": "2HbWr4urTXQ8"
      },
      "outputs": [],
      "source": [
        "# Environment Manager\n",
        "class ENV(env.__class__):\n",
        "  \"\"\"\n",
        "  s = (v,a,x,y,thetha,id,w,c) ∈ S\n",
        "\n",
        "  Lateral Agent State:\n",
        "  Obs Data:\n",
        "  x = vehicle x position (x)\n",
        "  y = vehicle y position (y)\n",
        "  v = vehicle speed (vx)\n",
        "  thetha = yaw angle (heading)\n",
        "\n",
        "  Input:\n",
        "  a = longitudinal acceleration (longitudinal_control)\n",
        "  id = target lane id\n",
        "  w = lane width\n",
        "  c = road curvature\n",
        "\n",
        "  Extra Data:\n",
        "  vy = lateral rate (vy)\n",
        "  delta_lat_deviation = change in lateral deviation (lat_off)\n",
        "\n",
        "  \"\"\"\n",
        "  def __init__(self, obs, desired_parameters, control_parameters):\n",
        "    self.obs = obs\n",
        "    # Unpack initial parameters: [s0, v0]\n",
        "    self.s0, self.v0 = desired_parameters\n",
        "\n",
        "    # Unpack control parameters: [a, b, delta, T]\n",
        "    self.a, self.b, self.delta, self.T = control_parameters\n",
        "\n",
        "  def ego_state_idm(self):\n",
        "      ax, ay, avx, avy, athetha, _ = self.obs[0]\n",
        "      self._ego_state_idm = {\"x\": ax, \"y\": ay, \"vx\": avx,\"thetha\": athetha,\n",
        "                         \"longitudinal_acceleration\":self.a}\n",
        "\n",
        "      return self._ego_state_idm\n",
        "\n",
        "  def update(self,obs):\n",
        "    self.obs = obs\n",
        "\n",
        "  def ego_state_agent(self,target_id):\n",
        "      ax, ay, avx, avy, athetha, _ = self.obs[0]\n",
        "      vehicle = env.unwrapped.vehicle\n",
        "\n",
        "      # Control Parameters\n",
        "      self.id = target_id\n",
        "\n",
        "      # Environment Parameters\n",
        "      self.s,_ = vehicle.lane.local_coordinates(vehicle.position)\n",
        "      self.w = vehicle.lane.width\n",
        "      self.c = vehicle.lane.heading_at(np.clip(\n",
        "          vehicle.lane.local_coordinates(vehicle.position)[0],\n",
        "          0, vehicle.lane.length))\n",
        "      self.v = math.sqrt(avx**2+avy**2)\n",
        "\n",
        "      self._ego_state_agent = {\"x\": ax, \"y\": ay, \"vx\": self.v,\"thetha\": athetha,\n",
        "                         \"lane_width\":self.w,\"lane_id\":self.id,\n",
        "                         \"self_curvature\":self.c,\n",
        "                         \"longitudinal_acceleration\":self.a}\n",
        "\n",
        "      return self._ego_state_agent\n",
        "\n",
        "  def longitudinal_lead_state(self):\n",
        "      # Lead State Parameters on the same Lane (5 columns: presence, x, y, vx, vy)\n",
        "      ego_vehicle = env.unwrapped.vehicle\n",
        "      lead_vehicle = env.unwrapped.road.neighbour_vehicles(ego_vehicle, lane_index=ego_vehicle.lane_index)[0]\n",
        "\n",
        "      if lead_vehicle:\n",
        "          gap = lead_vehicle.position[0] - ego_vehicle.position[0]\n",
        "          delta_velocity = ego_vehicle.velocity[0] - lead_vehicle.velocity[0]\n",
        "          self._longitudinal_lead_state = {\"x\": gap, \"vx\": delta_velocity}\n",
        "      else:\n",
        "          self._longitudinal_lead_state = {\"x\": 10, \"vx\": 0}\n",
        "\n",
        "      return self._longitudinal_lead_state\n",
        "\n",
        "  def idm_controller(self):\n",
        "      # Unpack input variables: [s, v, delta_v]\n",
        "      s, v, delta_v = self.longitudinal_lead_state()['x'], self.ego_state_idm()['vx'], self.longitudinal_lead_state()['vx']\n",
        "\n",
        "      # Small epsilon to account for very small gaps and avoid division by zero\n",
        "      epsilon = 1e-6\n",
        "\n",
        "      # Desired gap: s* = s0 + v*T + (v * delta_v) / (2 * sqrt(a * b))\n",
        "      desired_gap = self.s0 + max(0, v * self.T + ((v * delta_v) / (2 * math.sqrt(self.a * self.b))))\n",
        "\n",
        "      # IDM acceleration: a_IDM = a * [ 1 - (v / v0)^delta - (s* / s)^2 ]\n",
        "      acceleration = self.a * (1 - (v / self.v0)**self.delta - (desired_gap / (s + epsilon))**2)\n",
        "\n",
        "      return acceleration\n",
        "\n",
        "\n",
        "  #Reward Function\n",
        "  def reward_function(self, obs_old, obs_new, target_id, w1=1, w2=1, w3=0.05):\n",
        "    \"\"\"\n",
        "    Reward Function:\n",
        "\n",
        "    Acceleration Reward: r_acce = w1*f_acce(a_yaw)\n",
        "    a_yaw = lateral acceleration (self.action)\n",
        "\n",
        "    Rate Reward: r_rate = w2*f_rate(w_yaw)\n",
        "    w_yaw = lateral rate (vy)\n",
        "\n",
        "    Time Reward: r_time = w3*f_time (delta_lat_deviation)\n",
        "    delta_lat_deviation = change in lateral deviation (self.lat_off)\n",
        "\n",
        "    Reward = Cummulative Sum of r_acce + Cummulative Sum of r_rate + Cummulative Sum of r_time\n",
        "\n",
        "    \"\"\"\n",
        "\n",
        "    self.target_id = (\"0\",\"1\",target_id)\n",
        "    target_lane_object = env.unwrapped.road.network.get_lane(self.target_id)\n",
        "    vehicle_s, _ = env.unwrapped.vehicle.lane.local_coordinates(env.unwrapped.vehicle.position)\n",
        "    _ , self.delta_lat_deviaton = target_lane_object.local_coordinates(env.unwrapped.vehicle.position)\n",
        "\n",
        "    obs = obs_new[0]\n",
        "    obs_old = obs_old[0]\n",
        "\n",
        "    w_yaw = (obs[0] * obs[3] - obs[1] * obs[2]) / (obs[0]**2 + obs[1]**2 + 1e-8)\n",
        "    w_yaw_old = (obs_old[0] * obs_old[3] - obs_old[1] * obs_old[2]) / (obs_old[0]**2 + obs_old[1]**2 + 1e-8)\n",
        "\n",
        "    self.w_acce = (w_yaw-w_yaw_old)*env.unwrapped.config['policy_frequency']\n",
        "\n",
        "    # Acceleration Reward\n",
        "    acce_reward = -1*abs(self.w_acce)\n",
        "\n",
        "    # Rate Reward\n",
        "    rate_reward = -1*abs(w_yaw)\n",
        "\n",
        "    # Time Reward\n",
        "    time_reward = -0.05 * abs(self.delta_lat_deviaton)\n",
        "\n",
        "    # Overall Reward\n",
        "    self.reward = w1*acce_reward + w2*rate_reward + w3*time_reward\n",
        "\n",
        "    return [self.reward, acce_reward, rate_reward, time_reward]\n",
        "\n",
        "\n",
        "  def action(self, obs, lateral_action):\n",
        "      self.obs = obs\n",
        "      L = env.unwrapped.vehicle.LENGTH\n",
        "      self.acc = self.idm_controller()\n",
        "\n",
        "      # Calculate steering angle from lateral acceleration\n",
        "      self.angle = math.atan(L * lateral_action / self.ego_state_idm()['vx']**2)\n",
        "\n",
        "      # Return the action as [longitudinal_acceleration, steering_angle]\n",
        "      calculated_action = [self.acc, self.angle]\n",
        "\n",
        "      return calculated_action"
      ]
    },
    {
      "cell_type": "markdown",
      "metadata": {
        "id": "kEPNdVET6-mv"
      },
      "source": [
        "Agent Defintion"
      ]
    },
    {
      "cell_type": "code",
      "source": [
        "class ActorCritic(nn.Module):\n",
        "    def __init__(self, state_dim=8, action_dim=1, hidden_size=128):\n",
        "        super().__init__()\n",
        "        self.action_dim = action_dim\n",
        "\n",
        "        # Policy head (actor) - Output 2 values: mean and log_std\n",
        "        self.actor = nn.Sequential(\n",
        "            nn.Linear(state_dim, hidden_size),\n",
        "            nn.Tanh(),\n",
        "            nn.Linear(hidden_size, hidden_size),\n",
        "            nn.Tanh(),\n",
        "            nn.Linear(hidden_size, self.action_dim * 2),  # Use self.action_dim here\n",
        "        )\n",
        "\n",
        "        # Value head (critic)\n",
        "        self.critic = nn.Sequential(\n",
        "            nn.Linear(state_dim, hidden_size),\n",
        "            nn.Tanh(),\n",
        "            nn.Linear(hidden_size, hidden_size),\n",
        "            nn.Tanh(),\n",
        "            nn.Linear(hidden_size, 1)\n",
        "        )\n",
        "\n",
        "    def forward(self, x):\n",
        "        # Value head\n",
        "        value = self.critic(x)\n",
        "\n",
        "        # Policy head\n",
        "        actor_output = self.actor(x)\n",
        "        action_mean, action_log_std = torch.split(actor_output, self.action_dim, dim=-1) # Split output\n",
        "\n",
        "        action_std = torch.exp(action_log_std)\n",
        "        action_dist = torch.distributions.Normal(action_mean, action_std)\n",
        "\n",
        "        return action_dist, value\n",
        "\n",
        "    def action(self, state, deterministic = False):\n",
        "        action_dist, value = self.forward(state)\n",
        "\n",
        "        if deterministic:\n",
        "            action = action_dist.mean\n",
        "            log_prob = action_dist.log_prob(action)\n",
        "\n",
        "        else:\n",
        "          action = action_dist.sample()\n",
        "          log_prob = action_dist.log_prob(action)\n",
        "\n",
        "        return action, log_prob, value"
      ],
      "metadata": {
        "id": "MW5pZ2IxtbyI"
      },
      "execution_count": 5,
      "outputs": []
    },
    {
      "cell_type": "markdown",
      "metadata": {
        "id": "enKF1jUjQxpL"
      },
      "source": [
        "Lateral Controller (Gap Checker)"
      ]
    },
    {
      "cell_type": "code",
      "execution_count": 6,
      "metadata": {
        "id": "ydU55ZY5eX4U"
      },
      "outputs": [],
      "source": [
        "import numpy as np\n",
        "\n",
        "class Gap_Controller(env.__class__):\n",
        "    def __init__(self, obs=None, following_gap_threshold=10.0):\n",
        "        # Optionally store an initial observation if provided.\n",
        "        if obs is not None:\n",
        "            self.obs = obs\n",
        "        # Threshold for safety gap with the following vehicle\n",
        "        self.following_gap_threshold = following_gap_threshold\n",
        "\n",
        "    def lane_checker(self):\n",
        "        \"\"\"\n",
        "        Determines which adjacent lane offers the safest gap for a lane change.\n",
        "        It examines the current lane, the lane to the left, and the lane to the right,\n",
        "        returning the lane index that has the largest safe front gap available.\n",
        "        In addition, if the gap with the following vehicle in the target lane is below the safety\n",
        "        threshold, the lane change is aborted and the current lane is chosen.\n",
        "\n",
        "        Returns:\n",
        "            int: The target lane index (the lane with the largest safe gap, or the current lane)\n",
        "                 if the candidate lane's following vehicle gap is unsafe.\n",
        "        \"\"\"\n",
        "        lane_number = len(env.unwrapped.road.network.lanes_list())\n",
        "        ego = env.unwrapped.vehicle\n",
        "\n",
        "        # Initialize front gap values with a default that indicates an unsafe or non-existent gap.\n",
        "        gap_current_front = -float('inf')\n",
        "        gap_right_front = -float('inf')\n",
        "        gap_left_front = -float('inf')\n",
        "\n",
        "        # Initialize following gap values (gap between ego and the vehicle behind)\n",
        "        gap_current_follower = float('inf')\n",
        "        gap_right_follower = float('inf')\n",
        "        gap_left_follower = float('inf')\n",
        "\n",
        "        # Get vehicle neighbours in current lane:\n",
        "        neighbours_current = env.unwrapped.road.neighbour_vehicles(ego, ego.lane_index)\n",
        "        # neighbours_current[0] is the vehicle ahead and [1] is the following vehicle.\n",
        "        if neighbours_current:\n",
        "            if neighbours_current[0]:\n",
        "                gap_current_front = neighbours_current[0].position[0] - ego.position[0]\n",
        "            if len(neighbours_current) > 1 and neighbours_current[1]:\n",
        "                gap_current_follower = ego.position[0] - neighbours_current[1].position[0]\n",
        "\n",
        "        # Compute the left and right lane indices.\n",
        "        current_lane = list(ego.lane_index)\n",
        "        if current_lane[2] > 0:\n",
        "            lane_left = (current_lane[0], current_lane[1], current_lane[2] - 1)\n",
        "        else:\n",
        "            lane_left = ego.lane_index\n",
        "\n",
        "        if current_lane[2] < (lane_number - 1):\n",
        "            lane_right = (current_lane[0], current_lane[1], current_lane[2] + 1)\n",
        "        else:\n",
        "            lane_right = ego.lane_index\n",
        "\n",
        "        # Retrieve neighbour vehicles for the right lane.\n",
        "        neighbours_right = env.unwrapped.road.neighbour_vehicles(ego, lane_index=lane_right)\n",
        "        if neighbours_right:\n",
        "            if neighbours_right[0]:\n",
        "                gap_right_front = neighbours_right[0].position[0] - ego.position[0]\n",
        "            if len(neighbours_right) > 1 and neighbours_right[1]:\n",
        "                gap_right_follower = ego.position[0] - neighbours_right[1].position[0]\n",
        "\n",
        "        # Retrieve neighbour vehicles for the left lane.\n",
        "        neighbours_left = env.unwrapped.road.neighbour_vehicles(ego, lane_index=lane_left)\n",
        "        if neighbours_left:\n",
        "            if neighbours_left[0]:\n",
        "                gap_left_front = neighbours_left[0].position[0] - ego.position[0]\n",
        "            if len(neighbours_left) > 1 and neighbours_left[1]:\n",
        "                gap_left_follower = ego.position[0] - neighbours_left[1].position[0]\n",
        "\n",
        "        # Compare the front gaps: current, right, and left.\n",
        "        front_gaps = [gap_current_front, gap_right_front, gap_left_front]\n",
        "        best_index = np.argmax(front_gaps)\n",
        "\n",
        "        # Determine the target lane index based on the best candidate.\n",
        "        # best_index: 0 => current lane, 1 => right lane, 2 => left lane.\n",
        "        if best_index == 1:\n",
        "            candidate_lane = lane_right\n",
        "            candidate_follower_gap = gap_right_follower\n",
        "        elif best_index == 2:\n",
        "            candidate_lane = lane_left\n",
        "            candidate_follower_gap = gap_left_follower\n",
        "        else:\n",
        "            candidate_lane = ego.lane_index\n",
        "            candidate_follower_gap = gap_current_follower  # in current lane, we don't enforce follower gap condition\n",
        "\n",
        "        # Check if the candidate lane (if different from the current lane)\n",
        "        # meets the follower gap condition.\n",
        "        if candidate_lane != ego.lane_index:\n",
        "            if candidate_follower_gap < self.following_gap_threshold:\n",
        "                # The follower gap is too small; do not change lanes.\n",
        "                target_lane_id = ego.lane_index[2]\n",
        "            else:\n",
        "                target_lane_id = candidate_lane[2]\n",
        "        else:\n",
        "            target_lane_id = ego.lane_index[2]\n",
        "\n",
        "        return target_lane_id\n"
      ]
    },
    {
      "cell_type": "markdown",
      "metadata": {
        "id": "21gxd9D8au1O"
      },
      "source": [
        "Initialize Environment"
      ]
    },
    {
      "cell_type": "code",
      "execution_count": 7,
      "metadata": {
        "id": "gPl1lptqKdAy"
      },
      "outputs": [],
      "source": [
        "# Initialize Environment\n",
        "obs, _ = env.reset()\n",
        "# IDM Initialization\n",
        "control_parameters = [0.1, 5, 4, 4]  # a, b, δ, T\n",
        "desired_parameters = [20, 10.0]       # s0, v0\n",
        "\n",
        "# Initialize Environment Manager and Reward\n",
        "state_manager = ENV(obs,control_parameters=control_parameters,desired_parameters=desired_parameters)\n",
        "\n",
        "# State Manager for Ego and Lead State\n",
        "ego_state_idm = state_manager.ego_state_idm()\n",
        "lead_state = state_manager.longitudinal_lead_state()"
      ]
    },
    {
      "cell_type": "markdown",
      "metadata": {
        "id": "fZvAgaQfIyK6"
      },
      "source": [
        "Training Loop"
      ]
    },
    {
      "cell_type": "markdown",
      "metadata": {
        "id": "IhoITfrZ_nOt"
      },
      "source": [
        "Always Active (Option 1)"
      ]
    },
    {
      "cell_type": "code",
      "execution_count": 8,
      "metadata": {
        "id": "RYA-H09sIw2_",
        "colab": {
          "base_uri": "https://localhost:8080/",
          "height": 0
        },
        "outputId": "e1071ab5-a1a4-4304-b432-e49f46cf4353"
      },
      "outputs": [
        {
          "output_type": "stream",
          "name": "stdout",
          "text": [
            "State Dimension: 8, Action Dimension: 1\n"
          ]
        }
      ],
      "source": [
        "################################################################################\n",
        "\"\"\"Initialization\"\"\"\n",
        "################################################################################\n",
        "\n",
        "# Agent Initialization\n",
        "total_steps_taken = 0\n",
        "lr = 0.01  # Reduced learning rate\n",
        "gamma = 0.99  # Higher discount factor for better long-term rewards\n",
        "action_dim = 1  # Lateral acceleration\n",
        "\n",
        "# Reasonable hyperparameter sizes\n",
        "buffer_size = int(1e5)  # 100k buffer\n",
        "batch_size = 256  # Standard batch size\n",
        "max_timesteps = int(4e4)  # 40k total timesteps\n",
        "\n",
        "plot_freq_steps = 5000  # Plot every 5000 timesteps\n",
        "\n",
        "# Epsilon-Greedy Parameters\n",
        "epsilon = 0.3\n",
        "\n",
        "# Tracking for performance\n",
        "timestep_rewards = []  # Store rewards by timestep\n",
        "timestep_acce_rewards = []  # Store acceleration rewards\n",
        "timestep_rate_rewards = []  # Store rate rewards\n",
        "timestep_time_rewards = []  # Store time rewards\n",
        "global_returns = []  # Cumulative return tracking\n",
        "loss_history = []  # Loss values\n",
        "timesteps_list = []  # Track timesteps for plotting\n",
        "episode_lengths = []  # Track episode lengths\n",
        "episode_indices = []  # Track episode indices for plotting\n",
        "\n",
        "target_id = env.unwrapped.vehicle.lane_index[-1]\n",
        "device = torch.device(\"cuda\" if torch.cuda.is_available() else \"cpu\")\n",
        "\n",
        "# Environment Information\n",
        "L = env.unwrapped.vehicle.LENGTH\n",
        "agent_state = state_manager.ego_state_agent(target_id=target_id)\n",
        "state_dim = len(agent_state)\n",
        "action_dim = 1\n",
        "print(f\"State Dimension: {state_dim}, Action Dimension: {action_dim}\")"
      ]
    },
    {
      "cell_type": "markdown",
      "source": [
        "Model"
      ],
      "metadata": {
        "id": "_r2sQPbixCmM"
      }
    },
    {
      "cell_type": "markdown",
      "source": [
        "Hyperparameters"
      ],
      "metadata": {
        "id": "Rybk4w1dlqba"
      }
    },
    {
      "cell_type": "code",
      "source": [
        "# Define hyperparameters\n",
        "max_timesteps_per_rollout = 500  # Max timesteps per rollout\n",
        "K = 10    # Number of policy update epochs\n",
        "test_rate = 5  # Test every 5 batches\n",
        "num_test = 0\n",
        "\n",
        "batch_size = 64\n",
        "gamma = 0.99\n",
        "device = torch.device('cuda' if torch.cuda.is_available() else 'cpu')\n",
        "vf_coeff_cl = 0.5\n",
        "ent_coef_c2 = 0.01\n",
        "epsilon = 0.2\n",
        "gae_lambda = 0.99\n",
        "\n",
        "# Episode counter\n",
        "max_episodes_per_rollout = 1\n",
        "nb_episodes = 1000\n",
        "nb_batches = round(nb_episodes/max_episodes_per_rollout)\n",
        "\n",
        "# Define action dimension (continuous action space)\n",
        "action_dim = 1  # For lateral acceleration\n",
        "\n",
        "# Initialize model and optimizer\n",
        "model = ActorCritic(state_dim=state_dim, action_dim=action_dim).to(device)\n",
        "actor_params = list(model.actor.parameters())\n",
        "critic_params = list(model.critic.parameters())\n",
        "\n",
        "actor_optimizer = torch.optim.Adam(actor_params, lr=3e-4)\n",
        "critic_optimizer = torch.optim.Adam(critic_params, lr=1e-3)\n",
        "\n",
        "# Tracking variables\n",
        "total_env_episodes = 0\n",
        "max_reward = float('-inf')\n",
        "batch_average_reward_history = []\n",
        "batch_episode_history = []\n",
        "individual_test_rewards = []\n",
        "individual_test_episodes = []"
      ],
      "metadata": {
        "id": "jbBscUzUlq5w"
      },
      "execution_count": 9,
      "outputs": []
    },
    {
      "cell_type": "markdown",
      "source": [
        "Training Loop"
      ],
      "metadata": {
        "id": "wegOHhwult8a"
      }
    },
    {
      "cell_type": "code",
      "source": [
        "# Initialize plot outside the loop (before the training loop starts)\n",
        "plt.figure(figsize=(10, 6))\n",
        "plt.ion()  # Turn on interactive mode"
      ],
      "metadata": {
        "colab": {
          "base_uri": "https://localhost:8080/",
          "height": 55
        },
        "id": "81d2agkY-R8r",
        "outputId": "8089e976-50e5-4748-9fe2-03f069f1f410"
      },
      "execution_count": 10,
      "outputs": [
        {
          "output_type": "execute_result",
          "data": {
            "text/plain": [
              "<contextlib.ExitStack at 0x7b74721b7450>"
            ]
          },
          "metadata": {},
          "execution_count": 10
        },
        {
          "output_type": "display_data",
          "data": {
            "text/plain": [
              "<Figure size 1000x600 with 0 Axes>"
            ]
          },
          "metadata": {}
        }
      ]
    },
    {
      "cell_type": "code",
      "source": [
        "rollout_size = 5\n",
        "\n",
        "# Training loop\n",
        "for batch in tqdm.tqdm(range(nb_batches)):\n",
        "\n",
        "    # PPO Initialization\n",
        "    advantages = torch.zeros(max_timesteps_per_rollout*rollout_size, dtype=torch.float32, device=device)\n",
        "    buffer_states = torch.zeros((max_timesteps_per_rollout*rollout_size, state_dim), dtype=torch.float32, device=device)\n",
        "    buffer_actions = torch.zeros((max_timesteps_per_rollout*rollout_size, action_dim), dtype=torch.float32, device=device)\n",
        "    buffer_log_probs = torch.zeros((max_timesteps_per_rollout*rollout_size), dtype=torch.float32, device=device)\n",
        "    buffer_state_values = torch.zeros((max_timesteps_per_rollout*rollout_size+1), dtype=torch.float32, device=device)\n",
        "    buffer_rewards = torch.zeros((max_timesteps_per_rollout*rollout_size), dtype=torch.float32, device=device)\n",
        "    buffer_is_terminal = torch.zeros((max_timesteps_per_rollout*rollout_size), dtype=torch.float32, device=device)\n",
        "\n",
        "    # Env Initialization\n",
        "    obs, _ = env.reset()\n",
        "    state_manager.update(obs)\n",
        "\n",
        "    # Initialize target_id\n",
        "    target_id = env.unwrapped.vehicle.lane_index[-1]\n",
        "    agent_state = state_manager.ego_state_agent(target_id=target_id)\n",
        "\n",
        "    # Episode Reset\n",
        "    obs, _ = env.reset()\n",
        "    state_manager.update(obs)\n",
        "    done = False\n",
        "    obs_old = obs\n",
        "    episode_step = 0\n",
        "    episode_return = 0.0\n",
        "    t = 0\n",
        "    rollout = 0\n",
        "\n",
        "    while not done and rollout < rollout_size:\n",
        "      gap_control = Gap_Controller(obs, following_gap_threshold=30)\n",
        "      activated_target_lane = gap_control.lane_checker()\n",
        "\n",
        "      # Determine target lane\n",
        "      target_id = activated_target_lane\n",
        "      agent_state = state_manager.ego_state_agent(target_id=target_id)\n",
        "\n",
        "      # Convert agent state dict to tensor\n",
        "      state_tensor = torch.tensor(\n",
        "          [agent_state[key] for key in ['vx', 'longitudinal_acceleration', 'x', 'y', 'thetha', 'lane_id', 'lane_width', 'self_curvature']],\n",
        "          dtype=torch.float32, device=device\n",
        "      ).unsqueeze(0)\n",
        "\n",
        "      # Get action and value from model\n",
        "      with torch.no_grad():\n",
        "          agent_action, log_prob, value = model.action(state_tensor)\n",
        "          action = state_manager.action(obs,agent_action)\n",
        "\n",
        "      # Take action in environment\n",
        "      obs, reward, done, truncated, info = env.step(action)\n",
        "      done = done or truncated\n",
        "\n",
        "      # Terminal conditions\n",
        "      if info[\"crashed\"] or not env.unwrapped.vehicle.on_road or t>=max_timesteps_per_rollout:\n",
        "          done = True\n",
        "\n",
        "      # Update state manager with new observation and applied longitudinal control\n",
        "      state_manager.update(obs)\n",
        "\n",
        "      # Compute reward based on the new state\n",
        "      reward_components = state_manager.reward_function(obs_old, obs, target_id)\n",
        "      reward = reward_components[0]\n",
        "\n",
        "      # Store trajectory information\n",
        "      buffer_states[t] = state_tensor.squeeze(0)\n",
        "      buffer_actions[t] = agent_action\n",
        "      buffer_log_probs[t] = log_prob\n",
        "      buffer_state_values[t] = value\n",
        "      buffer_rewards[t] = torch.tensor(reward, dtype=torch.float32, device=device)\n",
        "      buffer_is_terminal[t] = done\n",
        "\n",
        "      t += 1  # Increment timestep counter\n",
        "      obs_old = obs\n",
        "\n",
        "      # If episode is done, increment rollout and reset for next episode\n",
        "      if done:\n",
        "          rollout += 1\n",
        "          if rollout < rollout_size:\n",
        "              obs, _ = env.reset()\n",
        "              state_manager.update(obs)\n",
        "              done = False\n",
        "              obs_old = obs\n",
        "\n",
        "    # Print rollout info\n",
        "    print(f\"Training Batch {batch+1}: Collected {t} timesteps Episode Count: {rollout}\")\n",
        "\n",
        "    # Calculate advantages using GAE\n",
        "    gae = 0\n",
        "    advantages = torch.zeros(t, dtype=torch.float32, device=device)\n",
        "\n",
        "    for t_idx in range(t-1, -1, -1):\n",
        "        if buffer_is_terminal[t_idx]:\n",
        "            terminal = 1\n",
        "            next_value = 0\n",
        "        else:\n",
        "            terminal = 0\n",
        "            if t_idx == t-1:\n",
        "                next_value = 0\n",
        "            else:\n",
        "                next_value = buffer_state_values[t_idx+1]\n",
        "\n",
        "        delta = buffer_rewards[t_idx] + gamma * next_value * (1-terminal) - buffer_state_values[t_idx]\n",
        "        gae = delta + (gamma * gae_lambda) * gae * (1-terminal)\n",
        "        advantages[t_idx] = gae\n",
        "\n",
        "    # Prepare data for policy update\n",
        "    advantages_data_loader = DataLoader(\n",
        "        TensorDataset(\n",
        "            advantages.detach(),\n",
        "            buffer_states[:t].detach(),\n",
        "            buffer_actions[:t].detach(),\n",
        "            buffer_log_probs[:t].detach(),\n",
        "            buffer_state_values[:t].detach()),\n",
        "        batch_size=min(batch_size, t),\n",
        "        shuffle=True)\n",
        "\n",
        "    # Policy update (K epochs)\n",
        "    for epoch in range(K):\n",
        "        for batch_data in advantages_data_loader:\n",
        "            b_adv, obs_batch, action_batch, old_log_probs, old_state_values = batch_data\n",
        "\n",
        "            # Forward pass\n",
        "            dist, value = model(obs_batch)\n",
        "            log_probs = dist.log_prob(action_batch)\n",
        "\n",
        "            # Calculate ratio\n",
        "            ratio = torch.exp(log_probs - old_log_probs)\n",
        "            returns = b_adv + old_state_values\n",
        "\n",
        "            # Policy loss\n",
        "            policy_loss_1 = b_adv * ratio\n",
        "            policy_loss_2 = b_adv * torch.clamp(ratio, 1-epsilon, 1+epsilon)\n",
        "            policy_loss = -torch.min(policy_loss_1, policy_loss_2).mean()\n",
        "\n",
        "            actor_loss = policy_loss - ent_coef_c2 * dist.entropy().mean()\n",
        "            critic_loss = F.mse_loss(value.squeeze(),returns)\n",
        "\n",
        "            # Optimize\n",
        "            # For the actor:\n",
        "            actor_optimizer.zero_grad() # Clear gradients for actor\n",
        "            actor_loss.backward()       # Compute gradients for actor_loss w.r.t. actor_params\n",
        "            actor_optimizer.step()      # Update actor_params\n",
        "\n",
        "            # For the critic:\n",
        "            critic_optimizer.zero_grad() # Clear gradients for critic\n",
        "            critic_loss.backward()       # Compute gradients for critic_loss w.r.t. critic_params\n",
        "            critic_optimizer.step()\n",
        "\n",
        "    # Testing every 5 batches\n",
        "    if batch % test_rate == 0 and batch > 0:\n",
        "        num_test = 1\n",
        "        test_rewards = []\n",
        "\n",
        "        for test_ep in range(10):  # 10 test episodes\n",
        "            obs, _ = env.reset()\n",
        "            obs_old = obs\n",
        "            state_manager = ENV(obs,control_parameters=control_parameters,desired_parameters=desired_parameters)\n",
        "            episode_reward = 0\n",
        "            done = False\n",
        "            test_steps = 0\n",
        "\n",
        "            while not done and test_steps < 500:  # Limit test episode\n",
        "                gap_control = Gap_Controller(obs, following_gap_threshold=30)\n",
        "                activated_target_lane = gap_control.lane_checker()\n",
        "\n",
        "                # Determine target lane\n",
        "                target_id = activated_target_lane\n",
        "                agent_state = state_manager.ego_state_agent(target_id=target_id)\n",
        "\n",
        "                state_tensor = torch.tensor(\n",
        "                    [agent_state[key] for key in ['vx', 'longitudinal_acceleration', 'x', 'y', 'thetha', 'lane_id', 'lane_width', 'self_curvature']],\n",
        "                    dtype=torch.float32, device=device\n",
        "                ).unsqueeze(0)\n",
        "\n",
        "                with torch.no_grad():\n",
        "                    agent_action, log_prob, value = model.action(state_tensor,deterministic=True)\n",
        "\n",
        "                action = state_manager.action(obs, agent_action)\n",
        "\n",
        "                obs, _, done, truncated, info = env.step(action)\n",
        "                done = done or truncated\n",
        "\n",
        "                # Terminal conditions\n",
        "                if info[\"crashed\"] or not env.unwrapped.vehicle.on_road or t>=max_timesteps_per_rollout:\n",
        "                    done = True\n",
        "\n",
        "                state_manager.update(obs)\n",
        "                reward_components = state_manager.reward_function(obs_old, obs, target_id)\n",
        "                reward = reward_components[0]\n",
        "\n",
        "                episode_reward += reward\n",
        "                test_steps += 1\n",
        "                obs_old = obs\n",
        "\n",
        "            test_rewards.append(episode_reward)\n",
        "\n",
        "        avg_test_reward = sum(test_rewards) / len(test_rewards)\n",
        "        current_max = max(test_rewards)\n",
        "\n",
        "        if current_max > max_reward:\n",
        "            max_reward = current_max\n",
        "\n",
        "        batch_average_reward_history.append(avg_test_reward)\n",
        "        batch_episode_history.append(batch)\n",
        "\n",
        "        print(f\"Episode {batch}: Avg Test Reward = {avg_test_reward:.2f}, Max Test Reward = {current_max:.2f}\")\n",
        "\n",
        "    # Plot every 50 btaches\n",
        "    if batch % 10 == 0 and batch > 0 and len(batch_average_reward_history) > 0:\n",
        "      plt.plot(batch_episode_history, batch_average_reward_history, 'r-o', linewidth=2)\n",
        "      plt.title(f\"Test Performance (Batch {batch}, Max: {max_reward:.1f})\")\n",
        "      plt.xlabel(\"Batch (10 Episodes)\")\n",
        "      plt.ylabel(\"Average Reward\")\n",
        "      plt.grid(True, alpha=0.3)\n",
        "      plt.show()\n",
        "\n",
        "print(\"Training completed!\")"
      ],
      "metadata": {
        "colab": {
          "base_uri": "https://localhost:8080/",
          "height": 1000
        },
        "id": "gMY396Rx5F1J",
        "outputId": "ba623442-4008-42cf-cd13-f945ac07f33a"
      },
      "execution_count": 12,
      "outputs": [
        {
          "metadata": {
            "tags": null
          },
          "name": "stderr",
          "output_type": "stream",
          "text": [
            "  0%|          | 1/1000 [00:03<58:36,  3.52s/it]"
          ]
        },
        {
          "metadata": {
            "tags": null
          },
          "name": "stdout",
          "output_type": "stream",
          "text": [
            "Training Batch 1: Collected 90 timesteps Episode Count: 5\n"
          ]
        },
        {
          "metadata": {
            "tags": null
          },
          "name": "stderr",
          "output_type": "stream",
          "text": [
            "\r  0%|          | 2/1000 [00:04<33:56,  2.04s/it]"
          ]
        },
        {
          "metadata": {
            "tags": null
          },
          "name": "stdout",
          "output_type": "stream",
          "text": [
            "Training Batch 2: Collected 24 timesteps Episode Count: 5\n"
          ]
        },
        {
          "metadata": {
            "tags": null
          },
          "name": "stderr",
          "output_type": "stream",
          "text": [
            "\r  0%|          | 3/1000 [00:06<35:25,  2.13s/it]"
          ]
        },
        {
          "metadata": {
            "tags": null
          },
          "name": "stdout",
          "output_type": "stream",
          "text": [
            "Training Batch 3: Collected 57 timesteps Episode Count: 5\n"
          ]
        },
        {
          "metadata": {
            "tags": null
          },
          "name": "stderr",
          "output_type": "stream",
          "text": [
            "\r  0%|          | 4/1000 [00:09<42:06,  2.54s/it]"
          ]
        },
        {
          "metadata": {
            "tags": null
          },
          "name": "stdout",
          "output_type": "stream",
          "text": [
            "Training Batch 4: Collected 77 timesteps Episode Count: 5\n"
          ]
        },
        {
          "metadata": {
            "tags": null
          },
          "name": "stderr",
          "output_type": "stream",
          "text": [
            "\r  0%|          | 5/1000 [00:12<43:29,  2.62s/it]"
          ]
        },
        {
          "metadata": {
            "tags": null
          },
          "name": "stdout",
          "output_type": "stream",
          "text": [
            "Training Batch 5: Collected 53 timesteps Episode Count: 5\n",
            "Training Batch 6: Collected 62 timesteps Episode Count: 5\n"
          ]
        },
        {
          "metadata": {
            "tags": null
          },
          "name": "stderr",
          "output_type": "stream",
          "text": [
            "\r  1%|          | 6/1000 [00:17<53:23,  3.22s/it]"
          ]
        },
        {
          "metadata": {
            "tags": null
          },
          "name": "stdout",
          "output_type": "stream",
          "text": [
            "Episode 5: Avg Test Reward = -3.04, Max Test Reward = -1.91\n"
          ]
        },
        {
          "metadata": {
            "tags": null
          },
          "name": "stderr",
          "output_type": "stream",
          "text": [
            "\r  1%|          | 7/1000 [00:20<54:31,  3.29s/it]"
          ]
        },
        {
          "metadata": {
            "tags": null
          },
          "name": "stdout",
          "output_type": "stream",
          "text": [
            "Training Batch 7: Collected 89 timesteps Episode Count: 5\n"
          ]
        },
        {
          "metadata": {
            "tags": null
          },
          "name": "stderr",
          "output_type": "stream",
          "text": [
            "\r  1%|          | 8/1000 [00:23<54:27,  3.29s/it]"
          ]
        },
        {
          "metadata": {
            "tags": null
          },
          "name": "stdout",
          "output_type": "stream",
          "text": [
            "Training Batch 8: Collected 64 timesteps Episode Count: 5\n"
          ]
        },
        {
          "metadata": {
            "tags": null
          },
          "name": "stderr",
          "output_type": "stream",
          "text": [
            "\r  1%|          | 9/1000 [00:25<46:51,  2.84s/it]"
          ]
        },
        {
          "metadata": {
            "tags": null
          },
          "name": "stdout",
          "output_type": "stream",
          "text": [
            "Training Batch 9: Collected 44 timesteps Episode Count: 5\n"
          ]
        },
        {
          "metadata": {
            "tags": null
          },
          "name": "stderr",
          "output_type": "stream",
          "text": [
            "\r  1%|          | 10/1000 [00:27<39:50,  2.41s/it]"
          ]
        },
        {
          "metadata": {
            "tags": null
          },
          "name": "stdout",
          "output_type": "stream",
          "text": [
            "Training Batch 10: Collected 38 timesteps Episode Count: 5\n",
            "Training Batch 11: Collected 67 timesteps Episode Count: 5\n",
            "Episode 10: Avg Test Reward = -3.03, Max Test Reward = -1.91\n"
          ]
        },
        {
          "data": {
            "image/png": "[encoded data removed]",
            "text/plain": [
              "<Figure size 640x480 with 1 Axes>"
            ]
          },
          "metadata": {},
          "output_type": "display_data"
        },
        {
          "metadata": {
            "tags": null
          },
          "name": "stderr",
          "output_type": "stream",
          "text": [
            "  1%|          | 12/1000 [00:35<52:16,  3.17s/it]"
          ]
        },
        {
          "metadata": {
            "tags": null
          },
          "name": "stdout",
          "output_type": "stream",
          "text": [
            "Training Batch 12: Collected 75 timesteps Episode Count: 5\n"
          ]
        },
        {
          "metadata": {
            "tags": null
          },
          "name": "stderr",
          "output_type": "stream",
          "text": [
            "\r  1%|▏         | 13/1000 [00:37<49:00,  2.98s/it]"
          ]
        },
        {
          "metadata": {
            "tags": null
          },
          "name": "stdout",
          "output_type": "stream",
          "text": [
            "Training Batch 13: Collected 53 timesteps Episode Count: 5\n"
          ]
        },
        {
          "metadata": {
            "tags": null
          },
          "name": "stderr",
          "output_type": "stream",
          "text": [
            "\r  1%|▏         | 14/1000 [00:40<45:47,  2.79s/it]"
          ]
        },
        {
          "metadata": {
            "tags": null
          },
          "name": "stdout",
          "output_type": "stream",
          "text": [
            "Training Batch 14: Collected 61 timesteps Episode Count: 5\n"
          ]
        },
        {
          "metadata": {
            "tags": null
          },
          "name": "stderr",
          "output_type": "stream",
          "text": [
            "\r  2%|▏         | 15/1000 [00:42<46:13,  2.82s/it]"
          ]
        },
        {
          "metadata": {
            "tags": null
          },
          "name": "stdout",
          "output_type": "stream",
          "text": [
            "Training Batch 15: Collected 74 timesteps Episode Count: 5\n",
            "Training Batch 16: Collected 118 timesteps Episode Count: 5\n"
          ]
        },
        {
          "metadata": {
            "tags": null
          },
          "name": "stderr",
          "output_type": "stream",
          "text": [
            "\r  2%|▏         | 16/1000 [00:50<1:08:42,  4.19s/it]"
          ]
        },
        {
          "metadata": {
            "tags": null
          },
          "name": "stdout",
          "output_type": "stream",
          "text": [
            "Episode 15: Avg Test Reward = -2.92, Max Test Reward = -1.91\n"
          ]
        },
        {
          "metadata": {
            "tags": null
          },
          "name": "stderr",
          "output_type": "stream",
          "text": [
            "\r  2%|▏         | 17/1000 [00:52<58:38,  3.58s/it]  "
          ]
        },
        {
          "metadata": {
            "tags": null
          },
          "name": "stdout",
          "output_type": "stream",
          "text": [
            "Training Batch 17: Collected 56 timesteps Episode Count: 5\n"
          ]
        },
        {
          "metadata": {
            "tags": null
          },
          "name": "stderr",
          "output_type": "stream",
          "text": [
            "\r  2%|▏         | 18/1000 [00:53<48:08,  2.94s/it]"
          ]
        },
        {
          "metadata": {
            "tags": null
          },
          "name": "stdout",
          "output_type": "stream",
          "text": [
            "Training Batch 18: Collected 36 timesteps Episode Count: 5\n"
          ]
        },
        {
          "metadata": {
            "tags": null
          },
          "name": "stderr",
          "output_type": "stream",
          "text": [
            "\r  2%|▏         | 19/1000 [00:55<42:44,  2.61s/it]"
          ]
        },
        {
          "metadata": {
            "tags": null
          },
          "name": "stdout",
          "output_type": "stream",
          "text": [
            "Training Batch 19: Collected 47 timesteps Episode Count: 5\n"
          ]
        },
        {
          "metadata": {
            "tags": null
          },
          "name": "stderr",
          "output_type": "stream",
          "text": [
            "\r  2%|▏         | 20/1000 [00:57<36:40,  2.24s/it]"
          ]
        },
        {
          "metadata": {
            "tags": null
          },
          "name": "stdout",
          "output_type": "stream",
          "text": [
            "Training Batch 20: Collected 34 timesteps Episode Count: 5\n",
            "Training Batch 21: Collected 61 timesteps Episode Count: 5\n",
            "Episode 20: Avg Test Reward = -3.02, Max Test Reward = -1.91\n"
          ]
        },
        {
          "data": {
            "image/png": "[encoded data removed]",
            "text/plain": [
              "<Figure size 640x480 with 1 Axes>"
            ]
          },
          "metadata": {},
          "output_type": "display_data"
        },
        {
          "metadata": {
            "tags": null
          },
          "name": "stderr",
          "output_type": "stream",
          "text": [
            "  2%|▏         | 22/1000 [01:06<55:42,  3.42s/it]"
          ]
        },
        {
          "metadata": {
            "tags": null
          },
          "name": "stdout",
          "output_type": "stream",
          "text": [
            "Training Batch 22: Collected 70 timesteps Episode Count: 5\n"
          ]
        },
        {
          "metadata": {
            "tags": null
          },
          "name": "stderr",
          "output_type": "stream",
          "text": [
            "\r  2%|▏         | 23/1000 [01:08<49:57,  3.07s/it]"
          ]
        },
        {
          "metadata": {
            "tags": null
          },
          "name": "stdout",
          "output_type": "stream",
          "text": [
            "Training Batch 23: Collected 58 timesteps Episode Count: 5\n"
          ]
        },
        {
          "metadata": {
            "tags": null
          },
          "name": "stderr",
          "output_type": "stream",
          "text": [
            "\r  2%|▏         | 24/1000 [01:10<41:28,  2.55s/it]"
          ]
        },
        {
          "metadata": {
            "tags": null
          },
          "name": "stdout",
          "output_type": "stream",
          "text": [
            "Training Batch 24: Collected 34 timesteps Episode Count: 5\n"
          ]
        },
        {
          "metadata": {
            "tags": null
          },
          "name": "stderr",
          "output_type": "stream",
          "text": [
            "\r  2%|▎         | 25/1000 [01:13<46:24,  2.86s/it]"
          ]
        },
        {
          "metadata": {
            "tags": null
          },
          "name": "stdout",
          "output_type": "stream",
          "text": [
            "Training Batch 25: Collected 68 timesteps Episode Count: 5\n",
            "Training Batch 26: Collected 45 timesteps Episode Count: 5\n"
          ]
        },
        {
          "metadata": {
            "tags": null
          },
          "name": "stderr",
          "output_type": "stream",
          "text": [
            "\r  3%|▎         | 26/1000 [01:17<52:38,  3.24s/it]"
          ]
        },
        {
          "metadata": {
            "tags": null
          },
          "name": "stdout",
          "output_type": "stream",
          "text": [
            "Episode 25: Avg Test Reward = -3.35, Max Test Reward = -1.91\n"
          ]
        },
        {
          "metadata": {
            "tags": null
          },
          "name": "stderr",
          "output_type": "stream",
          "text": [
            "/tmp/ipython-input-12-1088414899.py:139: UserWarning: Using a target size (torch.Size([1])) that is different to the input size (torch.Size([])). This will likely lead to incorrect results due to broadcasting. Please ensure they have the same size.\n",
            "  critic_loss = F.mse_loss(value.squeeze(),returns)\n",
            "\r  3%|▎         | 27/1000 [01:20<48:58,  3.02s/it]"
          ]
        },
        {
          "metadata": {
            "tags": null
          },
          "name": "stdout",
          "output_type": "stream",
          "text": [
            "Training Batch 27: Collected 65 timesteps Episode Count: 5\n"
          ]
        },
        {
          "metadata": {
            "tags": null
          },
          "name": "stderr",
          "output_type": "stream",
          "text": [
            "\r  3%|▎         | 28/1000 [01:24<53:00,  3.27s/it]"
          ]
        },
        {
          "metadata": {
            "tags": null
          },
          "name": "stdout",
          "output_type": "stream",
          "text": [
            "Training Batch 28: Collected 76 timesteps Episode Count: 5\n"
          ]
        },
        {
          "metadata": {
            "tags": null
          },
          "name": "stderr",
          "output_type": "stream",
          "text": [
            "\r  3%|▎         | 29/1000 [01:27<53:29,  3.31s/it]"
          ]
        },
        {
          "metadata": {
            "tags": null
          },
          "name": "stdout",
          "output_type": "stream",
          "text": [
            "Training Batch 29: Collected 71 timesteps Episode Count: 5\n"
          ]
        },
        {
          "metadata": {
            "tags": null
          },
          "name": "stderr",
          "output_type": "stream",
          "text": [
            "\r  3%|▎         | 30/1000 [01:30<52:46,  3.26s/it]"
          ]
        },
        {
          "metadata": {
            "tags": null
          },
          "name": "stdout",
          "output_type": "stream",
          "text": [
            "Training Batch 30: Collected 84 timesteps Episode Count: 5\n",
            "Training Batch 31: Collected 58 timesteps Episode Count: 5\n",
            "Episode 30: Avg Test Reward = -3.58, Max Test Reward = -3.04\n"
          ]
        },
        {
          "data": {
            "image/png": "[encoded data removed]",
            "text/plain": [
              "<Figure size 640x480 with 1 Axes>"
            ]
          },
          "metadata": {},
          "output_type": "display_data"
        },
        {
          "metadata": {
            "tags": null
          },
          "name": "stderr",
          "output_type": "stream",
          "text": [
            "  3%|▎         | 32/1000 [01:39<1:01:05,  3.79s/it]"
          ]
        },
        {
          "metadata": {
            "tags": null
          },
          "name": "stdout",
          "output_type": "stream",
          "text": [
            "Training Batch 32: Collected 77 timesteps Episode Count: 5\n"
          ]
        },
        {
          "metadata": {
            "tags": null
          },
          "name": "stderr",
          "output_type": "stream",
          "text": [
            "\r  3%|▎         | 33/1000 [01:41<53:56,  3.35s/it]  "
          ]
        },
        {
          "metadata": {
            "tags": null
          },
          "name": "stdout",
          "output_type": "stream",
          "text": [
            "Training Batch 33: Collected 60 timesteps Episode Count: 5\n"
          ]
        },
        {
          "metadata": {
            "tags": null
          },
          "name": "stderr",
          "output_type": "stream",
          "text": [
            "\r  3%|▎         | 34/1000 [01:43<46:34,  2.89s/it]"
          ]
        },
        {
          "metadata": {
            "tags": null
          },
          "name": "stdout",
          "output_type": "stream",
          "text": [
            "Training Batch 34: Collected 46 timesteps Episode Count: 5\n"
          ]
        },
        {
          "metadata": {
            "tags": null
          },
          "name": "stderr",
          "output_type": "stream",
          "text": [
            "\r  4%|▎         | 35/1000 [01:45<39:58,  2.49s/it]"
          ]
        },
        {
          "metadata": {
            "tags": null
          },
          "name": "stdout",
          "output_type": "stream",
          "text": [
            "Training Batch 35: Collected 35 timesteps Episode Count: 5\n",
            "Training Batch 36: Collected 57 timesteps Episode Count: 5\n"
          ]
        },
        {
          "metadata": {
            "tags": null
          },
          "name": "stderr",
          "output_type": "stream",
          "text": [
            "\r  4%|▎         | 36/1000 [01:50<51:38,  3.21s/it]"
          ]
        },
        {
          "metadata": {
            "tags": null
          },
          "name": "stdout",
          "output_type": "stream",
          "text": [
            "Episode 35: Avg Test Reward = -2.93, Max Test Reward = -1.91\n"
          ]
        },
        {
          "metadata": {
            "tags": null
          },
          "name": "stderr",
          "output_type": "stream",
          "text": [
            "\r  4%|▎         | 37/1000 [01:53<52:19,  3.26s/it]"
          ]
        },
        {
          "metadata": {
            "tags": null
          },
          "name": "stdout",
          "output_type": "stream",
          "text": [
            "Training Batch 37: Collected 82 timesteps Episode Count: 5\n"
          ]
        },
        {
          "metadata": {
            "tags": null
          },
          "name": "stderr",
          "output_type": "stream",
          "text": [
            "\r  4%|▍         | 38/1000 [01:55<47:51,  2.99s/it]"
          ]
        },
        {
          "metadata": {
            "tags": null
          },
          "name": "stdout",
          "output_type": "stream",
          "text": [
            "Training Batch 38: Collected 60 timesteps Episode Count: 5\n"
          ]
        },
        {
          "metadata": {
            "tags": null
          },
          "name": "stderr",
          "output_type": "stream",
          "text": [
            "\r  4%|▍         | 39/1000 [01:58<45:38,  2.85s/it]"
          ]
        },
        {
          "metadata": {
            "tags": null
          },
          "name": "stdout",
          "output_type": "stream",
          "text": [
            "Training Batch 39: Collected 66 timesteps Episode Count: 5\n"
          ]
        },
        {
          "metadata": {
            "tags": null
          },
          "name": "stderr",
          "output_type": "stream",
          "text": [
            "\r  4%|▍         | 40/1000 [02:00<42:02,  2.63s/it]"
          ]
        },
        {
          "metadata": {
            "tags": null
          },
          "name": "stdout",
          "output_type": "stream",
          "text": [
            "Training Batch 40: Collected 56 timesteps Episode Count: 5\n",
            "Training Batch 41: Collected 42 timesteps Episode Count: 5\n",
            "Episode 40: Avg Test Reward = -2.49, Max Test Reward = -1.91\n"
          ]
        },
        {
          "data": {
            "image/png": "[encoded data removed]",
            "text/plain": [
              "<Figure size 640x480 with 1 Axes>"
            ]
          },
          "metadata": {},
          "output_type": "display_data"
        },
        {
          "metadata": {
            "tags": null
          },
          "name": "stderr",
          "output_type": "stream",
          "text": [
            "  4%|▍         | 42/1000 [02:05<39:47,  2.49s/it]"
          ]
        },
        {
          "metadata": {
            "tags": null
          },
          "name": "stdout",
          "output_type": "stream",
          "text": [
            "Training Batch 42: Collected 23 timesteps Episode Count: 5\n"
          ]
        },
        {
          "metadata": {
            "tags": null
          },
          "name": "stderr",
          "output_type": "stream",
          "text": [
            "\r  4%|▍         | 43/1000 [02:08<39:54,  2.50s/it]"
          ]
        },
        {
          "metadata": {
            "tags": null
          },
          "name": "stdout",
          "output_type": "stream",
          "text": [
            "Training Batch 43: Collected 67 timesteps Episode Count: 5\n"
          ]
        },
        {
          "metadata": {
            "tags": null
          },
          "name": "stderr",
          "output_type": "stream",
          "text": [
            "\r  4%|▍         | 44/1000 [02:10<37:47,  2.37s/it]"
          ]
        },
        {
          "metadata": {
            "tags": null
          },
          "name": "stdout",
          "output_type": "stream",
          "text": [
            "Training Batch 44: Collected 55 timesteps Episode Count: 5\n"
          ]
        },
        {
          "metadata": {
            "tags": null
          },
          "name": "stderr",
          "output_type": "stream",
          "text": [
            "\r  4%|▍         | 45/1000 [02:12<34:26,  2.16s/it]"
          ]
        },
        {
          "metadata": {
            "tags": null
          },
          "name": "stdout",
          "output_type": "stream",
          "text": [
            "Training Batch 45: Collected 44 timesteps Episode Count: 5\n",
            "Training Batch 46: Collected 48 timesteps Episode Count: 5\n"
          ]
        },
        {
          "metadata": {
            "tags": null
          },
          "name": "stderr",
          "output_type": "stream",
          "text": [
            "\r  5%|▍         | 46/1000 [02:17<48:04,  3.02s/it]"
          ]
        },
        {
          "metadata": {
            "tags": null
          },
          "name": "stdout",
          "output_type": "stream",
          "text": [
            "Episode 45: Avg Test Reward = -3.02, Max Test Reward = -1.91\n"
          ]
        },
        {
          "metadata": {
            "tags": null
          },
          "name": "stderr",
          "output_type": "stream",
          "text": [
            "\r  5%|▍         | 47/1000 [02:19<45:51,  2.89s/it]"
          ]
        },
        {
          "metadata": {
            "tags": null
          },
          "name": "stdout",
          "output_type": "stream",
          "text": [
            "Training Batch 47: Collected 66 timesteps Episode Count: 5\n"
          ]
        },
        {
          "metadata": {
            "tags": null
          },
          "name": "stderr",
          "output_type": "stream",
          "text": [
            "\r  5%|▍         | 48/1000 [02:22<45:18,  2.86s/it]"
          ]
        },
        {
          "metadata": {
            "tags": null
          },
          "name": "stdout",
          "output_type": "stream",
          "text": [
            "Training Batch 48: Collected 71 timesteps Episode Count: 5\n"
          ]
        },
        {
          "metadata": {
            "tags": null
          },
          "name": "stderr",
          "output_type": "stream",
          "text": [
            "\r  5%|▍         | 49/1000 [02:24<41:37,  2.63s/it]"
          ]
        },
        {
          "metadata": {
            "tags": null
          },
          "name": "stdout",
          "output_type": "stream",
          "text": [
            "Training Batch 49: Collected 52 timesteps Episode Count: 5\n"
          ]
        },
        {
          "metadata": {
            "tags": null
          },
          "name": "stderr",
          "output_type": "stream",
          "text": [
            "\r  5%|▌         | 50/1000 [02:26<39:15,  2.48s/it]"
          ]
        },
        {
          "metadata": {
            "tags": null
          },
          "name": "stdout",
          "output_type": "stream",
          "text": [
            "Training Batch 50: Collected 40 timesteps Episode Count: 5\n",
            "Training Batch 51: Collected 64 timesteps Episode Count: 5\n",
            "Episode 50: Avg Test Reward = -3.03, Max Test Reward = -1.91\n"
          ]
        },
        {
          "data": {
            "image/png": "[encoded data removed]",
            "text/plain": [
              "<Figure size 640x480 with 1 Axes>"
            ]
          },
          "metadata": {},
          "output_type": "display_data"
        },
        {
          "metadata": {
            "tags": null
          },
          "name": "stderr",
          "output_type": "stream",
          "text": [
            "  5%|▌         | 52/1000 [02:33<46:23,  2.94s/it]"
          ]
        },
        {
          "metadata": {
            "tags": null
          },
          "name": "stdout",
          "output_type": "stream",
          "text": [
            "Training Batch 52: Collected 59 timesteps Episode Count: 5\n"
          ]
        },
        {
          "metadata": {
            "tags": null
          },
          "name": "stderr",
          "output_type": "stream",
          "text": [
            "\r  5%|▌         | 53/1000 [02:36<44:51,  2.84s/it]"
          ]
        },
        {
          "metadata": {
            "tags": null
          },
          "name": "stdout",
          "output_type": "stream",
          "text": [
            "Training Batch 53: Collected 68 timesteps Episode Count: 5\n"
          ]
        },
        {
          "metadata": {
            "tags": null
          },
          "name": "stderr",
          "output_type": "stream",
          "text": [
            "\r  5%|▌         | 54/1000 [02:39<45:07,  2.86s/it]"
          ]
        },
        {
          "metadata": {
            "tags": null
          },
          "name": "stdout",
          "output_type": "stream",
          "text": [
            "Training Batch 54: Collected 57 timesteps Episode Count: 5\n"
          ]
        },
        {
          "metadata": {
            "tags": null
          },
          "name": "stderr",
          "output_type": "stream",
          "text": [
            "\r  6%|▌         | 55/1000 [02:41<43:44,  2.78s/it]"
          ]
        },
        {
          "metadata": {
            "tags": null
          },
          "name": "stdout",
          "output_type": "stream",
          "text": [
            "Training Batch 55: Collected 61 timesteps Episode Count: 5\n",
            "Training Batch 56: Collected 55 timesteps Episode Count: 5\n"
          ]
        },
        {
          "metadata": {
            "tags": null
          },
          "name": "stderr",
          "output_type": "stream",
          "text": [
            "\r  6%|▌         | 56/1000 [02:46<51:18,  3.26s/it]"
          ]
        },
        {
          "metadata": {
            "tags": null
          },
          "name": "stdout",
          "output_type": "stream",
          "text": [
            "Episode 55: Avg Test Reward = -3.25, Max Test Reward = -1.91\n"
          ]
        },
        {
          "metadata": {
            "tags": null
          },
          "name": "stderr",
          "output_type": "stream",
          "text": [
            "\r  6%|▌         | 57/1000 [02:47<42:08,  2.68s/it]"
          ]
        },
        {
          "metadata": {
            "tags": null
          },
          "name": "stdout",
          "output_type": "stream",
          "text": [
            "Training Batch 57: Collected 33 timesteps Episode Count: 5\n"
          ]
        },
        {
          "metadata": {
            "tags": null
          },
          "name": "stderr",
          "output_type": "stream",
          "text": [
            "\r  6%|▌         | 58/1000 [02:49<38:07,  2.43s/it]"
          ]
        },
        {
          "metadata": {
            "tags": null
          },
          "name": "stdout",
          "output_type": "stream",
          "text": [
            "Training Batch 58: Collected 48 timesteps Episode Count: 5\n"
          ]
        },
        {
          "metadata": {
            "tags": null
          },
          "name": "stderr",
          "output_type": "stream",
          "text": [
            "\r  6%|▌         | 59/1000 [02:51<37:28,  2.39s/it]"
          ]
        },
        {
          "metadata": {
            "tags": null
          },
          "name": "stdout",
          "output_type": "stream",
          "text": [
            "Training Batch 59: Collected 40 timesteps Episode Count: 5\n"
          ]
        },
        {
          "metadata": {
            "tags": null
          },
          "name": "stderr",
          "output_type": "stream",
          "text": [
            "\r  6%|▌         | 60/1000 [02:54<39:45,  2.54s/it]"
          ]
        },
        {
          "metadata": {
            "tags": null
          },
          "name": "stdout",
          "output_type": "stream",
          "text": [
            "Training Batch 60: Collected 69 timesteps Episode Count: 5\n",
            "Training Batch 61: Collected 49 timesteps Episode Count: 5\n",
            "Episode 60: Avg Test Reward = -3.59, Max Test Reward = -3.05\n"
          ]
        },
        {
          "data": {
            "image/png": "[encoded data removed]",
            "text/plain": [
              "<Figure size 640x480 with 1 Axes>"
            ]
          },
          "metadata": {},
          "output_type": "display_data"
        },
        {
          "metadata": {
            "tags": null
          },
          "name": "stderr",
          "output_type": "stream",
          "text": [
            "  6%|▌         | 62/1000 [03:00<41:29,  2.65s/it]"
          ]
        },
        {
          "metadata": {
            "tags": null
          },
          "name": "stdout",
          "output_type": "stream",
          "text": [
            "Training Batch 62: Collected 39 timesteps Episode Count: 5\n"
          ]
        },
        {
          "metadata": {
            "tags": null
          },
          "name": "stderr",
          "output_type": "stream",
          "text": [
            "\r  6%|▋         | 63/1000 [03:02<36:11,  2.32s/it]"
          ]
        },
        {
          "metadata": {
            "tags": null
          },
          "name": "stdout",
          "output_type": "stream",
          "text": [
            "Training Batch 63: Collected 39 timesteps Episode Count: 5\n"
          ]
        },
        {
          "metadata": {
            "tags": null
          },
          "name": "stderr",
          "output_type": "stream",
          "text": [
            "\r  6%|▋         | 64/1000 [03:05<40:14,  2.58s/it]"
          ]
        },
        {
          "metadata": {
            "tags": null
          },
          "name": "stdout",
          "output_type": "stream",
          "text": [
            "Training Batch 64: Collected 59 timesteps Episode Count: 5\n"
          ]
        },
        {
          "metadata": {
            "tags": null
          },
          "name": "stderr",
          "output_type": "stream",
          "text": [
            "\r  6%|▋         | 65/1000 [03:07<39:30,  2.54s/it]"
          ]
        },
        {
          "metadata": {
            "tags": null
          },
          "name": "stdout",
          "output_type": "stream",
          "text": [
            "Training Batch 65: Collected 62 timesteps Episode Count: 5\n",
            "Training Batch 66: Collected 64 timesteps Episode Count: 5\n"
          ]
        },
        {
          "metadata": {
            "tags": null
          },
          "name": "stderr",
          "output_type": "stream",
          "text": [
            "\r  7%|▋         | 66/1000 [03:12<48:53,  3.14s/it]"
          ]
        },
        {
          "metadata": {
            "tags": null
          },
          "name": "stdout",
          "output_type": "stream",
          "text": [
            "Episode 65: Avg Test Reward = -3.02, Max Test Reward = -1.91\n"
          ]
        },
        {
          "metadata": {
            "tags": null
          },
          "name": "stderr",
          "output_type": "stream",
          "text": [
            "\r  7%|▋         | 67/1000 [03:14<42:03,  2.71s/it]"
          ]
        },
        {
          "metadata": {
            "tags": null
          },
          "name": "stdout",
          "output_type": "stream",
          "text": [
            "Training Batch 67: Collected 42 timesteps Episode Count: 5\n"
          ]
        },
        {
          "metadata": {
            "tags": null
          },
          "name": "stderr",
          "output_type": "stream",
          "text": [
            "\r  7%|▋         | 68/1000 [03:17<43:20,  2.79s/it]"
          ]
        },
        {
          "metadata": {
            "tags": null
          },
          "name": "stdout",
          "output_type": "stream",
          "text": [
            "Training Batch 68: Collected 53 timesteps Episode Count: 5\n"
          ]
        },
        {
          "metadata": {
            "tags": null
          },
          "name": "stderr",
          "output_type": "stream",
          "text": [
            "\r  7%|▋         | 69/1000 [03:20<45:13,  2.91s/it]"
          ]
        },
        {
          "metadata": {
            "tags": null
          },
          "name": "stdout",
          "output_type": "stream",
          "text": [
            "Training Batch 69: Collected 84 timesteps Episode Count: 5\n"
          ]
        },
        {
          "metadata": {
            "tags": null
          },
          "name": "stderr",
          "output_type": "stream",
          "text": [
            "\r  7%|▋         | 70/1000 [03:22<39:25,  2.54s/it]"
          ]
        },
        {
          "metadata": {
            "tags": null
          },
          "name": "stdout",
          "output_type": "stream",
          "text": [
            "Training Batch 70: Collected 42 timesteps Episode Count: 5\n",
            "Training Batch 71: Collected 59 timesteps Episode Count: 5\n",
            "Episode 70: Avg Test Reward = -2.91, Max Test Reward = -1.91\n"
          ]
        },
        {
          "data": {
            "image/png": "[encoded data removed]",
            "text/plain": [
              "<Figure size 640x480 with 1 Axes>"
            ]
          },
          "metadata": {},
          "output_type": "display_data"
        },
        {
          "metadata": {
            "tags": null
          },
          "name": "stderr",
          "output_type": "stream",
          "text": [
            "  7%|▋         | 72/1000 [03:28<42:55,  2.78s/it]"
          ]
        },
        {
          "metadata": {
            "tags": null
          },
          "name": "stdout",
          "output_type": "stream",
          "text": [
            "Training Batch 72: Collected 32 timesteps Episode Count: 5\n"
          ]
        },
        {
          "metadata": {
            "tags": null
          },
          "name": "stderr",
          "output_type": "stream",
          "text": [
            "\r  7%|▋         | 73/1000 [03:30<37:28,  2.43s/it]"
          ]
        },
        {
          "metadata": {
            "tags": null
          },
          "name": "stdout",
          "output_type": "stream",
          "text": [
            "Training Batch 73: Collected 31 timesteps Episode Count: 5\n"
          ]
        },
        {
          "metadata": {
            "tags": null
          },
          "name": "stderr",
          "output_type": "stream",
          "text": [
            "\r  7%|▋         | 74/1000 [03:31<33:59,  2.20s/it]"
          ]
        },
        {
          "metadata": {
            "tags": null
          },
          "name": "stdout",
          "output_type": "stream",
          "text": [
            "Training Batch 74: Collected 43 timesteps Episode Count: 5\n"
          ]
        },
        {
          "metadata": {
            "tags": null
          },
          "name": "stderr",
          "output_type": "stream",
          "text": [
            "\r  8%|▊         | 75/1000 [03:34<34:32,  2.24s/it]"
          ]
        },
        {
          "metadata": {
            "tags": null
          },
          "name": "stdout",
          "output_type": "stream",
          "text": [
            "Training Batch 75: Collected 60 timesteps Episode Count: 5\n",
            "Training Batch 76: Collected 31 timesteps Episode Count: 5\n"
          ]
        },
        {
          "metadata": {
            "tags": null
          },
          "name": "stderr",
          "output_type": "stream",
          "text": [
            "\r  8%|▊         | 76/1000 [03:37<39:41,  2.58s/it]"
          ]
        },
        {
          "metadata": {
            "tags": null
          },
          "name": "stdout",
          "output_type": "stream",
          "text": [
            "Episode 75: Avg Test Reward = -3.14, Max Test Reward = -1.91\n"
          ]
        },
        {
          "metadata": {
            "tags": null
          },
          "name": "stderr",
          "output_type": "stream",
          "text": [
            "\r  8%|▊         | 77/1000 [03:41<44:32,  2.90s/it]"
          ]
        },
        {
          "metadata": {
            "tags": null
          },
          "name": "stdout",
          "output_type": "stream",
          "text": [
            "Training Batch 77: Collected 77 timesteps Episode Count: 5\n"
          ]
        },
        {
          "metadata": {
            "tags": null
          },
          "name": "stderr",
          "output_type": "stream",
          "text": [
            "\r  8%|▊         | 78/1000 [03:43<42:53,  2.79s/it]"
          ]
        },
        {
          "metadata": {
            "tags": null
          },
          "name": "stdout",
          "output_type": "stream",
          "text": [
            "Training Batch 78: Collected 63 timesteps Episode Count: 5\n"
          ]
        },
        {
          "metadata": {
            "tags": null
          },
          "name": "stderr",
          "output_type": "stream",
          "text": [
            "\r  8%|▊         | 79/1000 [03:46<42:25,  2.76s/it]"
          ]
        },
        {
          "metadata": {
            "tags": null
          },
          "name": "stdout",
          "output_type": "stream",
          "text": [
            "Training Batch 79: Collected 68 timesteps Episode Count: 5\n"
          ]
        },
        {
          "metadata": {
            "tags": null
          },
          "name": "stderr",
          "output_type": "stream",
          "text": [
            "\r  8%|▊         | 80/1000 [03:48<39:12,  2.56s/it]"
          ]
        },
        {
          "metadata": {
            "tags": null
          },
          "name": "stdout",
          "output_type": "stream",
          "text": [
            "Training Batch 80: Collected 54 timesteps Episode Count: 5\n",
            "Training Batch 81: Collected 92 timesteps Episode Count: 5\n",
            "Episode 80: Avg Test Reward = -2.92, Max Test Reward = -1.91\n"
          ]
        },
        {
          "data": {
            "image/png": "[encoded data removed]",
            "text/plain": [
              "<Figure size 640x480 with 1 Axes>"
            ]
          },
          "metadata": {},
          "output_type": "display_data"
        },
        {
          "metadata": {
            "tags": null
          },
          "name": "stderr",
          "output_type": "stream",
          "text": [
            "  8%|▊         | 82/1000 [03:57<53:44,  3.51s/it]"
          ]
        },
        {
          "metadata": {
            "tags": null
          },
          "name": "stdout",
          "output_type": "stream",
          "text": [
            "Training Batch 82: Collected 80 timesteps Episode Count: 5\n"
          ]
        },
        {
          "metadata": {
            "tags": null
          },
          "name": "stderr",
          "output_type": "stream",
          "text": [
            "\r  8%|▊         | 83/1000 [03:59<45:39,  2.99s/it]"
          ]
        },
        {
          "metadata": {
            "tags": null
          },
          "name": "stdout",
          "output_type": "stream",
          "text": [
            "Training Batch 83: Collected 45 timesteps Episode Count: 5\n"
          ]
        },
        {
          "metadata": {
            "tags": null
          },
          "name": "stderr",
          "output_type": "stream",
          "text": [
            "\r  8%|▊         | 84/1000 [04:01<40:22,  2.65s/it]"
          ]
        },
        {
          "metadata": {
            "tags": null
          },
          "name": "stdout",
          "output_type": "stream",
          "text": [
            "Training Batch 84: Collected 48 timesteps Episode Count: 5\n"
          ]
        },
        {
          "metadata": {
            "tags": null
          },
          "name": "stderr",
          "output_type": "stream",
          "text": [
            "\r  8%|▊         | 85/1000 [04:02<34:28,  2.26s/it]"
          ]
        },
        {
          "metadata": {
            "tags": null
          },
          "name": "stdout",
          "output_type": "stream",
          "text": [
            "Training Batch 85: Collected 35 timesteps Episode Count: 5\n",
            "Training Batch 86: Collected 46 timesteps Episode Count: 5\n"
          ]
        },
        {
          "metadata": {
            "tags": null
          },
          "name": "stderr",
          "output_type": "stream",
          "text": [
            "\r  9%|▊         | 86/1000 [04:08<47:27,  3.12s/it]"
          ]
        },
        {
          "metadata": {
            "tags": null
          },
          "name": "stdout",
          "output_type": "stream",
          "text": [
            "Episode 85: Avg Test Reward = -3.48, Max Test Reward = -1.93\n"
          ]
        },
        {
          "metadata": {
            "tags": null
          },
          "name": "stderr",
          "output_type": "stream",
          "text": [
            "\r  9%|▊         | 87/1000 [04:10<42:17,  2.78s/it]"
          ]
        },
        {
          "metadata": {
            "tags": null
          },
          "name": "stdout",
          "output_type": "stream",
          "text": [
            "Training Batch 87: Collected 52 timesteps Episode Count: 5\n"
          ]
        },
        {
          "metadata": {
            "tags": null
          },
          "name": "stderr",
          "output_type": "stream",
          "text": [
            "\r  9%|▉         | 88/1000 [04:12<43:13,  2.84s/it]"
          ]
        },
        {
          "metadata": {
            "tags": null
          },
          "name": "stdout",
          "output_type": "stream",
          "text": [
            "Training Batch 88: Collected 78 timesteps Episode Count: 5\n"
          ]
        },
        {
          "metadata": {
            "tags": null
          },
          "name": "stderr",
          "output_type": "stream",
          "text": [
            "\r  9%|▉         | 89/1000 [04:14<37:14,  2.45s/it]"
          ]
        },
        {
          "metadata": {
            "tags": null
          },
          "name": "stdout",
          "output_type": "stream",
          "text": [
            "Training Batch 89: Collected 38 timesteps Episode Count: 5\n"
          ]
        },
        {
          "metadata": {
            "tags": null
          },
          "name": "stderr",
          "output_type": "stream",
          "text": [
            "\r  9%|▉         | 90/1000 [04:16<34:07,  2.25s/it]"
          ]
        },
        {
          "metadata": {
            "tags": null
          },
          "name": "stdout",
          "output_type": "stream",
          "text": [
            "Training Batch 90: Collected 44 timesteps Episode Count: 5\n",
            "Training Batch 91: Collected 43 timesteps Episode Count: 5\n",
            "Episode 90: Avg Test Reward = -3.02, Max Test Reward = -1.91\n"
          ]
        },
        {
          "data": {
            "image/png": "[encoded data removed]",
            "text/plain": [
              "<Figure size 640x480 with 1 Axes>"
            ]
          },
          "metadata": {},
          "output_type": "display_data"
        },
        {
          "metadata": {
            "tags": null
          },
          "name": "stderr",
          "output_type": "stream",
          "text": [
            "  9%|▉         | 92/1000 [04:23<41:20,  2.73s/it]"
          ]
        },
        {
          "metadata": {
            "tags": null
          },
          "name": "stdout",
          "output_type": "stream",
          "text": [
            "Training Batch 92: Collected 53 timesteps Episode Count: 5\n"
          ]
        },
        {
          "metadata": {
            "tags": null
          },
          "name": "stderr",
          "output_type": "stream",
          "text": [
            "\r  9%|▉         | 93/1000 [04:25<38:46,  2.57s/it]"
          ]
        },
        {
          "metadata": {
            "tags": null
          },
          "name": "stdout",
          "output_type": "stream",
          "text": [
            "Training Batch 93: Collected 55 timesteps Episode Count: 5\n"
          ]
        },
        {
          "metadata": {
            "tags": null
          },
          "name": "stderr",
          "output_type": "stream",
          "text": [
            "\r  9%|▉         | 94/1000 [04:27<36:51,  2.44s/it]"
          ]
        },
        {
          "metadata": {
            "tags": null
          },
          "name": "stdout",
          "output_type": "stream",
          "text": [
            "Training Batch 94: Collected 55 timesteps Episode Count: 5\n"
          ]
        },
        {
          "metadata": {
            "tags": null
          },
          "name": "stderr",
          "output_type": "stream",
          "text": [
            "\r 10%|▉         | 95/1000 [04:30<39:51,  2.64s/it]"
          ]
        },
        {
          "metadata": {
            "tags": null
          },
          "name": "stdout",
          "output_type": "stream",
          "text": [
            "Training Batch 95: Collected 61 timesteps Episode Count: 5\n",
            "Training Batch 96: Collected 51 timesteps Episode Count: 5\n"
          ]
        },
        {
          "metadata": {
            "tags": null
          },
          "name": "stderr",
          "output_type": "stream",
          "text": [
            "\r 10%|▉         | 96/1000 [04:34<46:37,  3.09s/it]"
          ]
        },
        {
          "metadata": {
            "tags": null
          },
          "name": "stdout",
          "output_type": "stream",
          "text": [
            "Episode 95: Avg Test Reward = -3.14, Max Test Reward = -1.92\n"
          ]
        },
        {
          "metadata": {
            "tags": null
          },
          "name": "stderr",
          "output_type": "stream",
          "text": [
            "\r 10%|▉         | 97/1000 [04:36<40:02,  2.66s/it]"
          ]
        },
        {
          "metadata": {
            "tags": null
          },
          "name": "stdout",
          "output_type": "stream",
          "text": [
            "Training Batch 97: Collected 42 timesteps Episode Count: 5\n"
          ]
        },
        {
          "metadata": {
            "tags": null
          },
          "name": "stderr",
          "output_type": "stream",
          "text": [
            "\r 10%|▉         | 98/1000 [04:39<40:50,  2.72s/it]"
          ]
        },
        {
          "metadata": {
            "tags": null
          },
          "name": "stdout",
          "output_type": "stream",
          "text": [
            "Training Batch 98: Collected 75 timesteps Episode Count: 5\n"
          ]
        },
        {
          "metadata": {
            "tags": null
          },
          "name": "stderr",
          "output_type": "stream",
          "text": [
            "\r 10%|▉         | 99/1000 [04:44<50:16,  3.35s/it]"
          ]
        },
        {
          "metadata": {
            "tags": null
          },
          "name": "stdout",
          "output_type": "stream",
          "text": [
            "Training Batch 99: Collected 108 timesteps Episode Count: 5\n"
          ]
        },
        {
          "metadata": {
            "tags": null
          },
          "name": "stderr",
          "output_type": "stream",
          "text": [
            "\r 10%|█         | 100/1000 [04:45<43:02,  2.87s/it]"
          ]
        },
        {
          "metadata": {
            "tags": null
          },
          "name": "stdout",
          "output_type": "stream",
          "text": [
            "Training Batch 100: Collected 44 timesteps Episode Count: 5\n",
            "Training Batch 101: Collected 31 timesteps Episode Count: 5\n",
            "Episode 100: Avg Test Reward = -3.02, Max Test Reward = -1.91\n"
          ]
        },
        {
          "data": {
            "image/png": "[encoded data removed]",
            "text/plain": [
              "<Figure size 640x480 with 1 Axes>"
            ]
          },
          "metadata": {},
          "output_type": "display_data"
        },
        {
          "metadata": {
            "tags": null
          },
          "name": "stderr",
          "output_type": "stream",
          "text": [
            " 10%|█         | 102/1000 [04:51<42:30,  2.84s/it]"
          ]
        },
        {
          "metadata": {
            "tags": null
          },
          "name": "stdout",
          "output_type": "stream",
          "text": [
            "Training Batch 102: Collected 63 timesteps Episode Count: 5\n"
          ]
        },
        {
          "metadata": {
            "tags": null
          },
          "name": "stderr",
          "output_type": "stream",
          "text": [
            "\r 10%|█         | 103/1000 [04:53<37:11,  2.49s/it]"
          ]
        },
        {
          "metadata": {
            "tags": null
          },
          "name": "stdout",
          "output_type": "stream",
          "text": [
            "Training Batch 103: Collected 41 timesteps Episode Count: 5\n"
          ]
        },
        {
          "metadata": {
            "tags": null
          },
          "name": "stderr",
          "output_type": "stream",
          "text": [
            "\r 10%|█         | 104/1000 [04:57<44:14,  2.96s/it]"
          ]
        },
        {
          "metadata": {
            "tags": null
          },
          "name": "stdout",
          "output_type": "stream",
          "text": [
            "Training Batch 104: Collected 83 timesteps Episode Count: 5\n"
          ]
        },
        {
          "metadata": {
            "tags": null
          },
          "name": "stderr",
          "output_type": "stream",
          "text": [
            "\r 10%|█         | 105/1000 [05:00<45:46,  3.07s/it]"
          ]
        },
        {
          "metadata": {
            "tags": null
          },
          "name": "stdout",
          "output_type": "stream",
          "text": [
            "Training Batch 105: Collected 88 timesteps Episode Count: 5\n",
            "Training Batch 106: Collected 55 timesteps Episode Count: 5\n"
          ]
        },
        {
          "metadata": {
            "tags": null
          },
          "name": "stderr",
          "output_type": "stream",
          "text": [
            "\r 11%|█         | 106/1000 [05:04<51:05,  3.43s/it]"
          ]
        },
        {
          "metadata": {
            "tags": null
          },
          "name": "stdout",
          "output_type": "stream",
          "text": [
            "Episode 105: Avg Test Reward = -3.24, Max Test Reward = -1.91\n"
          ]
        },
        {
          "metadata": {
            "tags": null
          },
          "name": "stderr",
          "output_type": "stream",
          "text": [
            "\r 11%|█         | 107/1000 [05:07<45:26,  3.05s/it]"
          ]
        },
        {
          "metadata": {
            "tags": null
          },
          "name": "stdout",
          "output_type": "stream",
          "text": [
            "Training Batch 107: Collected 42 timesteps Episode Count: 5\n"
          ]
        },
        {
          "metadata": {
            "tags": null
          },
          "name": "stderr",
          "output_type": "stream",
          "text": [
            "\r 11%|█         | 108/1000 [05:09<43:54,  2.95s/it]"
          ]
        },
        {
          "metadata": {
            "tags": null
          },
          "name": "stdout",
          "output_type": "stream",
          "text": [
            "Training Batch 108: Collected 64 timesteps Episode Count: 5\n"
          ]
        },
        {
          "metadata": {
            "tags": null
          },
          "name": "stderr",
          "output_type": "stream",
          "text": [
            "\r 11%|█         | 109/1000 [05:11<38:15,  2.58s/it]"
          ]
        },
        {
          "metadata": {
            "tags": null
          },
          "name": "stdout",
          "output_type": "stream",
          "text": [
            "Training Batch 109: Collected 43 timesteps Episode Count: 5\n"
          ]
        },
        {
          "metadata": {
            "tags": null
          },
          "name": "stderr",
          "output_type": "stream",
          "text": [
            "\r 11%|█         | 110/1000 [05:13<36:09,  2.44s/it]"
          ]
        },
        {
          "metadata": {
            "tags": null
          },
          "name": "stdout",
          "output_type": "stream",
          "text": [
            "Training Batch 110: Collected 55 timesteps Episode Count: 5\n",
            "Training Batch 111: Collected 64 timesteps Episode Count: 5\n",
            "Episode 110: Avg Test Reward = -3.14, Max Test Reward = -1.94\n"
          ]
        },
        {
          "data": {
            "image/png": "[encoded data removed]",
            "text/plain": [
              "<Figure size 640x480 with 1 Axes>"
            ]
          },
          "metadata": {},
          "output_type": "display_data"
        },
        {
          "metadata": {
            "tags": null
          },
          "name": "stderr",
          "output_type": "stream",
          "text": [
            " 11%|█         | 112/1000 [05:20<43:17,  2.92s/it]"
          ]
        },
        {
          "metadata": {
            "tags": null
          },
          "name": "stdout",
          "output_type": "stream",
          "text": [
            "Training Batch 112: Collected 45 timesteps Episode Count: 5\n"
          ]
        },
        {
          "metadata": {
            "tags": null
          },
          "name": "stderr",
          "output_type": "stream",
          "text": [
            "\r 11%|█▏        | 113/1000 [05:22<38:33,  2.61s/it]"
          ]
        },
        {
          "metadata": {
            "tags": null
          },
          "name": "stdout",
          "output_type": "stream",
          "text": [
            "Training Batch 113: Collected 49 timesteps Episode Count: 5\n"
          ]
        },
        {
          "metadata": {
            "tags": null
          },
          "name": "stderr",
          "output_type": "stream",
          "text": [
            "\r 11%|█▏        | 114/1000 [05:24<35:51,  2.43s/it]"
          ]
        },
        {
          "metadata": {
            "tags": null
          },
          "name": "stdout",
          "output_type": "stream",
          "text": [
            "Training Batch 114: Collected 52 timesteps Episode Count: 5\n"
          ]
        },
        {
          "metadata": {
            "tags": null
          },
          "name": "stderr",
          "output_type": "stream",
          "text": [
            "\r 12%|█▏        | 115/1000 [05:27<36:13,  2.46s/it]"
          ]
        },
        {
          "metadata": {
            "tags": null
          },
          "name": "stdout",
          "output_type": "stream",
          "text": [
            "Training Batch 115: Collected 66 timesteps Episode Count: 5\n",
            "Training Batch 116: Collected 67 timesteps Episode Count: 5\n"
          ]
        },
        {
          "metadata": {
            "tags": null
          },
          "name": "stderr",
          "output_type": "stream",
          "text": [
            "\r 12%|█▏        | 116/1000 [05:32<50:09,  3.40s/it]"
          ]
        },
        {
          "metadata": {
            "tags": null
          },
          "name": "stdout",
          "output_type": "stream",
          "text": [
            "Episode 115: Avg Test Reward = -3.25, Max Test Reward = -1.91\n"
          ]
        },
        {
          "metadata": {
            "tags": null
          },
          "name": "stderr",
          "output_type": "stream",
          "text": [
            "\r 12%|█▏        | 117/1000 [05:34<41:05,  2.79s/it]"
          ]
        },
        {
          "metadata": {
            "tags": null
          },
          "name": "stdout",
          "output_type": "stream",
          "text": [
            "Training Batch 117: Collected 35 timesteps Episode Count: 5\n"
          ]
        },
        {
          "metadata": {
            "tags": null
          },
          "name": "stderr",
          "output_type": "stream",
          "text": [
            "\r 12%|█▏        | 118/1000 [05:36<37:24,  2.54s/it]"
          ]
        },
        {
          "metadata": {
            "tags": null
          },
          "name": "stdout",
          "output_type": "stream",
          "text": [
            "Training Batch 118: Collected 51 timesteps Episode Count: 5\n"
          ]
        },
        {
          "metadata": {
            "tags": null
          },
          "name": "stderr",
          "output_type": "stream",
          "text": [
            "\r 12%|█▏        | 119/1000 [05:38<34:06,  2.32s/it]"
          ]
        },
        {
          "metadata": {
            "tags": null
          },
          "name": "stdout",
          "output_type": "stream",
          "text": [
            "Training Batch 119: Collected 46 timesteps Episode Count: 5\n"
          ]
        },
        {
          "metadata": {
            "tags": null
          },
          "name": "stderr",
          "output_type": "stream",
          "text": [
            "\r 12%|█▏        | 120/1000 [05:39<31:38,  2.16s/it]"
          ]
        },
        {
          "metadata": {
            "tags": null
          },
          "name": "stdout",
          "output_type": "stream",
          "text": [
            "Training Batch 120: Collected 46 timesteps Episode Count: 5\n",
            "Training Batch 121: Collected 66 timesteps Episode Count: 5\n",
            "Episode 120: Avg Test Reward = -2.81, Max Test Reward = -1.91\n"
          ]
        },
        {
          "data": {
            "image/png": "[encoded data removed]",
            "text/plain": [
              "<Figure size 640x480 with 1 Axes>"
            ]
          },
          "metadata": {},
          "output_type": "display_data"
        },
        {
          "metadata": {
            "tags": null
          },
          "name": "stderr",
          "output_type": "stream",
          "text": [
            " 12%|█▏        | 122/1000 [05:47<44:20,  3.03s/it]"
          ]
        },
        {
          "metadata": {
            "tags": null
          },
          "name": "stdout",
          "output_type": "stream",
          "text": [
            "Training Batch 122: Collected 76 timesteps Episode Count: 5\n"
          ]
        },
        {
          "metadata": {
            "tags": null
          },
          "name": "stderr",
          "output_type": "stream",
          "text": [
            "\r 12%|█▏        | 123/1000 [05:50<43:52,  3.00s/it]"
          ]
        },
        {
          "metadata": {
            "tags": null
          },
          "name": "stdout",
          "output_type": "stream",
          "text": [
            "Training Batch 123: Collected 79 timesteps Episode Count: 5\n"
          ]
        },
        {
          "metadata": {
            "tags": null
          },
          "name": "stderr",
          "output_type": "stream",
          "text": [
            "\r 12%|█▏        | 124/1000 [05:52<39:16,  2.69s/it]"
          ]
        },
        {
          "metadata": {
            "tags": null
          },
          "name": "stdout",
          "output_type": "stream",
          "text": [
            "Training Batch 124: Collected 53 timesteps Episode Count: 5\n"
          ]
        },
        {
          "metadata": {
            "tags": null
          },
          "name": "stderr",
          "output_type": "stream",
          "text": [
            "\r 12%|█▎        | 125/1000 [05:55<39:56,  2.74s/it]"
          ]
        },
        {
          "metadata": {
            "tags": null
          },
          "name": "stdout",
          "output_type": "stream",
          "text": [
            "Training Batch 125: Collected 66 timesteps Episode Count: 5\n",
            "Training Batch 126: Collected 34 timesteps Episode Count: 5\n"
          ]
        },
        {
          "metadata": {
            "tags": null
          },
          "name": "stderr",
          "output_type": "stream",
          "text": [
            "\r 13%|█▎        | 126/1000 [05:59<44:31,  3.06s/it]"
          ]
        },
        {
          "metadata": {
            "tags": null
          },
          "name": "stdout",
          "output_type": "stream",
          "text": [
            "Episode 125: Avg Test Reward = -3.02, Max Test Reward = -1.91\n"
          ]
        },
        {
          "metadata": {
            "tags": null
          },
          "name": "stderr",
          "output_type": "stream",
          "text": [
            "\r 13%|█▎        | 127/1000 [06:01<37:39,  2.59s/it]"
          ]
        },
        {
          "metadata": {
            "tags": null
          },
          "name": "stdout",
          "output_type": "stream",
          "text": [
            "Training Batch 127: Collected 38 timesteps Episode Count: 5\n"
          ]
        },
        {
          "metadata": {
            "tags": null
          },
          "name": "stderr",
          "output_type": "stream",
          "text": [
            "\r 13%|█▎        | 128/1000 [06:03<37:15,  2.56s/it]"
          ]
        },
        {
          "metadata": {
            "tags": null
          },
          "name": "stdout",
          "output_type": "stream",
          "text": [
            "Training Batch 128: Collected 66 timesteps Episode Count: 5\n"
          ]
        },
        {
          "metadata": {
            "tags": null
          },
          "name": "stderr",
          "output_type": "stream",
          "text": [
            "\r 13%|█▎        | 129/1000 [06:05<33:51,  2.33s/it]"
          ]
        },
        {
          "metadata": {
            "tags": null
          },
          "name": "stdout",
          "output_type": "stream",
          "text": [
            "Training Batch 129: Collected 47 timesteps Episode Count: 5\n"
          ]
        },
        {
          "metadata": {
            "tags": null
          },
          "name": "stderr",
          "output_type": "stream",
          "text": [
            "\r 13%|█▎        | 130/1000 [06:06<29:33,  2.04s/it]"
          ]
        },
        {
          "metadata": {
            "tags": null
          },
          "name": "stdout",
          "output_type": "stream",
          "text": [
            "Training Batch 130: Collected 34 timesteps Episode Count: 5\n",
            "Training Batch 131: Collected 50 timesteps Episode Count: 5\n",
            "Episode 130: Avg Test Reward = -2.82, Max Test Reward = -1.91\n"
          ]
        },
        {
          "data": {
            "image/png": "[encoded data removed]",
            "text/plain": [
              "<Figure size 640x480 with 1 Axes>"
            ]
          },
          "metadata": {},
          "output_type": "display_data"
        },
        {
          "metadata": {
            "tags": null
          },
          "name": "stderr",
          "output_type": "stream",
          "text": [
            " 13%|█▎        | 132/1000 [06:14<40:31,  2.80s/it]"
          ]
        },
        {
          "metadata": {
            "tags": null
          },
          "name": "stdout",
          "output_type": "stream",
          "text": [
            "Training Batch 132: Collected 74 timesteps Episode Count: 5\n"
          ]
        },
        {
          "metadata": {
            "tags": null
          },
          "name": "stderr",
          "output_type": "stream",
          "text": [
            "\r 13%|█▎        | 133/1000 [06:16<38:05,  2.64s/it]"
          ]
        },
        {
          "metadata": {
            "tags": null
          },
          "name": "stdout",
          "output_type": "stream",
          "text": [
            "Training Batch 133: Collected 58 timesteps Episode Count: 5\n"
          ]
        },
        {
          "metadata": {
            "tags": null
          },
          "name": "stderr",
          "output_type": "stream",
          "text": [
            "\r 13%|█▎        | 134/1000 [06:19<39:04,  2.71s/it]"
          ]
        },
        {
          "metadata": {
            "tags": null
          },
          "name": "stdout",
          "output_type": "stream",
          "text": [
            "Training Batch 134: Collected 76 timesteps Episode Count: 5\n"
          ]
        },
        {
          "metadata": {
            "tags": null
          },
          "name": "stderr",
          "output_type": "stream",
          "text": [
            "\r 14%|█▎        | 135/1000 [06:22<41:29,  2.88s/it]"
          ]
        },
        {
          "metadata": {
            "tags": null
          },
          "name": "stdout",
          "output_type": "stream",
          "text": [
            "Training Batch 135: Collected 64 timesteps Episode Count: 5\n",
            "Training Batch 136: Collected 54 timesteps Episode Count: 5\n"
          ]
        },
        {
          "metadata": {
            "tags": null
          },
          "name": "stderr",
          "output_type": "stream",
          "text": [
            "\r 14%|█▎        | 136/1000 [06:26<46:12,  3.21s/it]"
          ]
        },
        {
          "metadata": {
            "tags": null
          },
          "name": "stdout",
          "output_type": "stream",
          "text": [
            "Episode 135: Avg Test Reward = -2.92, Max Test Reward = -1.91\n"
          ]
        },
        {
          "metadata": {
            "tags": null
          },
          "name": "stderr",
          "output_type": "stream",
          "text": [
            "\r 14%|█▎        | 137/1000 [06:28<39:22,  2.74s/it]"
          ]
        },
        {
          "metadata": {
            "tags": null
          },
          "name": "stdout",
          "output_type": "stream",
          "text": [
            "Training Batch 137: Collected 43 timesteps Episode Count: 5\n"
          ]
        },
        {
          "metadata": {
            "tags": null
          },
          "name": "stderr",
          "output_type": "stream",
          "text": [
            "\r 14%|█▍        | 138/1000 [06:31<43:23,  3.02s/it]"
          ]
        },
        {
          "metadata": {
            "tags": null
          },
          "name": "stdout",
          "output_type": "stream",
          "text": [
            "Training Batch 138: Collected 99 timesteps Episode Count: 5\n"
          ]
        },
        {
          "metadata": {
            "tags": null
          },
          "name": "stderr",
          "output_type": "stream",
          "text": [
            "\r 14%|█▍        | 139/1000 [06:34<43:25,  3.03s/it]"
          ]
        },
        {
          "metadata": {
            "tags": null
          },
          "name": "stdout",
          "output_type": "stream",
          "text": [
            "Training Batch 139: Collected 63 timesteps Episode Count: 5\n"
          ]
        },
        {
          "metadata": {
            "tags": null
          },
          "name": "stderr",
          "output_type": "stream",
          "text": [
            "\r 14%|█▍        | 140/1000 [06:36<37:00,  2.58s/it]"
          ]
        },
        {
          "metadata": {
            "tags": null
          },
          "name": "stdout",
          "output_type": "stream",
          "text": [
            "Training Batch 140: Collected 41 timesteps Episode Count: 5\n",
            "Training Batch 141: Collected 55 timesteps Episode Count: 5\n",
            "Episode 140: Avg Test Reward = -2.92, Max Test Reward = -1.91\n"
          ]
        },
        {
          "data": {
            "image/png": "[encoded data removed]",
            "text/plain": [
              "<Figure size 640x480 with 1 Axes>"
            ]
          },
          "metadata": {},
          "output_type": "display_data"
        },
        {
          "metadata": {
            "tags": null
          },
          "name": "stderr",
          "output_type": "stream",
          "text": [
            " 14%|█▍        | 142/1000 [06:42<39:47,  2.78s/it]"
          ]
        },
        {
          "metadata": {
            "tags": null
          },
          "name": "stdout",
          "output_type": "stream",
          "text": [
            "Training Batch 142: Collected 63 timesteps Episode Count: 5\n"
          ]
        },
        {
          "metadata": {
            "tags": null
          },
          "name": "stderr",
          "output_type": "stream",
          "text": [
            "\r 14%|█▍        | 143/1000 [06:46<42:46,  2.99s/it]"
          ]
        },
        {
          "metadata": {
            "tags": null
          },
          "name": "stdout",
          "output_type": "stream",
          "text": [
            "Training Batch 143: Collected 70 timesteps Episode Count: 5\n"
          ]
        },
        {
          "metadata": {
            "tags": null
          },
          "name": "stderr",
          "output_type": "stream",
          "text": [
            "\r 14%|█▍        | 144/1000 [06:47<37:50,  2.65s/it]"
          ]
        },
        {
          "metadata": {
            "tags": null
          },
          "name": "stdout",
          "output_type": "stream",
          "text": [
            "Training Batch 144: Collected 50 timesteps Episode Count: 5\n"
          ]
        },
        {
          "metadata": {
            "tags": null
          },
          "name": "stderr",
          "output_type": "stream",
          "text": [
            "\r 14%|█▍        | 145/1000 [06:49<32:00,  2.25s/it]"
          ]
        },
        {
          "metadata": {
            "tags": null
          },
          "name": "stdout",
          "output_type": "stream",
          "text": [
            "Training Batch 145: Collected 35 timesteps Episode Count: 5\n",
            "Training Batch 146: Collected 86 timesteps Episode Count: 5\n"
          ]
        },
        {
          "metadata": {
            "tags": null
          },
          "name": "stderr",
          "output_type": "stream",
          "text": [
            "\r 15%|█▍        | 146/1000 [06:54<42:37,  2.99s/it]"
          ]
        },
        {
          "metadata": {
            "tags": null
          },
          "name": "stdout",
          "output_type": "stream",
          "text": [
            "Episode 145: Avg Test Reward = -2.71, Max Test Reward = -1.91\n"
          ]
        },
        {
          "metadata": {
            "tags": null
          },
          "name": "stderr",
          "output_type": "stream",
          "text": [
            "\r 15%|█▍        | 147/1000 [06:55<36:17,  2.55s/it]"
          ]
        },
        {
          "metadata": {
            "tags": null
          },
          "name": "stdout",
          "output_type": "stream",
          "text": [
            "Training Batch 147: Collected 39 timesteps Episode Count: 5\n"
          ]
        },
        {
          "metadata": {
            "tags": null
          },
          "name": "stderr",
          "output_type": "stream",
          "text": [
            "\r 15%|█▍        | 148/1000 [06:58<36:05,  2.54s/it]"
          ]
        },
        {
          "metadata": {
            "tags": null
          },
          "name": "stdout",
          "output_type": "stream",
          "text": [
            "Training Batch 148: Collected 46 timesteps Episode Count: 5\n"
          ]
        },
        {
          "metadata": {
            "tags": null
          },
          "name": "stderr",
          "output_type": "stream",
          "text": [
            "\r 15%|█▍        | 149/1000 [07:00<35:34,  2.51s/it]"
          ]
        },
        {
          "metadata": {
            "tags": null
          },
          "name": "stdout",
          "output_type": "stream",
          "text": [
            "Training Batch 149: Collected 64 timesteps Episode Count: 5\n"
          ]
        },
        {
          "metadata": {
            "tags": null
          },
          "name": "stderr",
          "output_type": "stream",
          "text": [
            "\r 15%|█▌        | 150/1000 [07:02<34:29,  2.43s/it]"
          ]
        },
        {
          "metadata": {
            "tags": null
          },
          "name": "stdout",
          "output_type": "stream",
          "text": [
            "Training Batch 150: Collected 59 timesteps Episode Count: 5\n",
            "Training Batch 151: Collected 32 timesteps Episode Count: 5\n",
            "Episode 150: Avg Test Reward = -2.92, Max Test Reward = -1.91\n"
          ]
        },
        {
          "data": {
            "image/png": "[encoded data removed]",
            "text/plain": [
              "<Figure size 640x480 with 1 Axes>"
            ]
          },
          "metadata": {},
          "output_type": "display_data"
        },
        {
          "metadata": {
            "tags": null
          },
          "name": "stderr",
          "output_type": "stream",
          "text": [
            " 15%|█▌        | 152/1000 [07:09<40:09,  2.84s/it]"
          ]
        },
        {
          "metadata": {
            "tags": null
          },
          "name": "stdout",
          "output_type": "stream",
          "text": [
            "Training Batch 152: Collected 75 timesteps Episode Count: 5\n"
          ]
        },
        {
          "metadata": {
            "tags": null
          },
          "name": "stderr",
          "output_type": "stream",
          "text": [
            "\r 15%|█▌        | 153/1000 [07:12<41:07,  2.91s/it]"
          ]
        },
        {
          "metadata": {
            "tags": null
          },
          "name": "stdout",
          "output_type": "stream",
          "text": [
            "Training Batch 153: Collected 71 timesteps Episode Count: 5\n"
          ]
        },
        {
          "metadata": {
            "tags": null
          },
          "name": "stderr",
          "output_type": "stream",
          "text": [
            "\r 15%|█▌        | 154/1000 [07:13<33:54,  2.40s/it]"
          ]
        },
        {
          "metadata": {
            "tags": null
          },
          "name": "stdout",
          "output_type": "stream",
          "text": [
            "Training Batch 154: Collected 31 timesteps Episode Count: 5\n"
          ]
        },
        {
          "metadata": {
            "tags": null
          },
          "name": "stderr",
          "output_type": "stream",
          "text": [
            "\r 16%|█▌        | 155/1000 [07:14<29:31,  2.10s/it]"
          ]
        },
        {
          "metadata": {
            "tags": null
          },
          "name": "stdout",
          "output_type": "stream",
          "text": [
            "Training Batch 155: Collected 35 timesteps Episode Count: 5\n",
            "Training Batch 156: Collected 23 timesteps Episode Count: 5\n"
          ]
        },
        {
          "metadata": {
            "tags": null
          },
          "name": "stderr",
          "output_type": "stream",
          "text": [
            "\r 16%|█▌        | 156/1000 [07:17<31:27,  2.24s/it]"
          ]
        },
        {
          "metadata": {
            "tags": null
          },
          "name": "stdout",
          "output_type": "stream",
          "text": [
            "Episode 155: Avg Test Reward = -2.60, Max Test Reward = -1.91\n"
          ]
        },
        {
          "metadata": {
            "tags": null
          },
          "name": "stderr",
          "output_type": "stream",
          "text": [
            "\r 16%|█▌        | 157/1000 [07:19<29:28,  2.10s/it]"
          ]
        },
        {
          "metadata": {
            "tags": null
          },
          "name": "stdout",
          "output_type": "stream",
          "text": [
            "Training Batch 157: Collected 46 timesteps Episode Count: 5\n"
          ]
        },
        {
          "metadata": {
            "tags": null
          },
          "name": "stderr",
          "output_type": "stream",
          "text": [
            "\r 16%|█▌        | 158/1000 [07:24<41:47,  2.98s/it]"
          ]
        },
        {
          "metadata": {
            "tags": null
          },
          "name": "stdout",
          "output_type": "stream",
          "text": [
            "Training Batch 158: Collected 117 timesteps Episode Count: 5\n"
          ]
        },
        {
          "metadata": {
            "tags": null
          },
          "name": "stderr",
          "output_type": "stream",
          "text": [
            "\r 16%|█▌        | 159/1000 [07:25<34:37,  2.47s/it]"
          ]
        },
        {
          "metadata": {
            "tags": null
          },
          "name": "stdout",
          "output_type": "stream",
          "text": [
            "Training Batch 159: Collected 32 timesteps Episode Count: 5\n"
          ]
        },
        {
          "metadata": {
            "tags": null
          },
          "name": "stderr",
          "output_type": "stream",
          "text": [
            "\r 16%|█▌        | 160/1000 [07:27<30:53,  2.21s/it]"
          ]
        },
        {
          "metadata": {
            "tags": null
          },
          "name": "stdout",
          "output_type": "stream",
          "text": [
            "Training Batch 160: Collected 43 timesteps Episode Count: 5\n",
            "Training Batch 161: Collected 69 timesteps Episode Count: 5\n",
            "Episode 160: Avg Test Reward = -3.47, Max Test Reward = -1.93\n"
          ]
        },
        {
          "data": {
            "image/png": "[encoded data removed]",
            "text/plain": [
              "<Figure size 640x480 with 1 Axes>"
            ]
          },
          "metadata": {},
          "output_type": "display_data"
        },
        {
          "metadata": {
            "tags": null
          },
          "name": "stderr",
          "output_type": "stream",
          "text": [
            " 16%|█▌        | 162/1000 [07:35<41:54,  3.00s/it]"
          ]
        },
        {
          "metadata": {
            "tags": null
          },
          "name": "stdout",
          "output_type": "stream",
          "text": [
            "Training Batch 162: Collected 54 timesteps Episode Count: 5\n"
          ]
        },
        {
          "metadata": {
            "tags": null
          },
          "name": "stderr",
          "output_type": "stream",
          "text": [
            "\r 16%|█▋        | 163/1000 [07:37<41:28,  2.97s/it]"
          ]
        },
        {
          "metadata": {
            "tags": null
          },
          "name": "stdout",
          "output_type": "stream",
          "text": [
            "Training Batch 163: Collected 79 timesteps Episode Count: 5\n"
          ]
        },
        {
          "metadata": {
            "tags": null
          },
          "name": "stderr",
          "output_type": "stream",
          "text": [
            "\r 16%|█▋        | 164/1000 [07:39<35:37,  2.56s/it]"
          ]
        },
        {
          "metadata": {
            "tags": null
          },
          "name": "stdout",
          "output_type": "stream",
          "text": [
            "Training Batch 164: Collected 42 timesteps Episode Count: 5\n"
          ]
        },
        {
          "metadata": {
            "tags": null
          },
          "name": "stderr",
          "output_type": "stream",
          "text": [
            "\r 16%|█▋        | 165/1000 [07:40<30:27,  2.19s/it]"
          ]
        },
        {
          "metadata": {
            "tags": null
          },
          "name": "stdout",
          "output_type": "stream",
          "text": [
            "Training Batch 165: Collected 33 timesteps Episode Count: 5\n",
            "Training Batch 166: Collected 71 timesteps Episode Count: 5\n"
          ]
        },
        {
          "metadata": {
            "tags": null
          },
          "name": "stderr",
          "output_type": "stream",
          "text": [
            "\r 17%|█▋        | 166/1000 [07:45<41:20,  2.97s/it]"
          ]
        },
        {
          "metadata": {
            "tags": null
          },
          "name": "stdout",
          "output_type": "stream",
          "text": [
            "Episode 165: Avg Test Reward = -2.81, Max Test Reward = -1.91\n"
          ]
        },
        {
          "metadata": {
            "tags": null
          },
          "name": "stderr",
          "output_type": "stream",
          "text": [
            "\r 17%|█▋        | 167/1000 [07:48<39:36,  2.85s/it]"
          ]
        },
        {
          "metadata": {
            "tags": null
          },
          "name": "stdout",
          "output_type": "stream",
          "text": [
            "Training Batch 167: Collected 53 timesteps Episode Count: 5\n"
          ]
        },
        {
          "metadata": {
            "tags": null
          },
          "name": "stderr",
          "output_type": "stream",
          "text": [
            "\r 17%|█▋        | 168/1000 [07:50<35:00,  2.53s/it]"
          ]
        },
        {
          "metadata": {
            "tags": null
          },
          "name": "stdout",
          "output_type": "stream",
          "text": [
            "Training Batch 168: Collected 49 timesteps Episode Count: 5\n"
          ]
        },
        {
          "metadata": {
            "tags": null
          },
          "name": "stderr",
          "output_type": "stream",
          "text": [
            "\r 17%|█▋        | 169/1000 [07:53<37:57,  2.74s/it]"
          ]
        },
        {
          "metadata": {
            "tags": null
          },
          "name": "stdout",
          "output_type": "stream",
          "text": [
            "Training Batch 169: Collected 89 timesteps Episode Count: 5\n"
          ]
        },
        {
          "metadata": {
            "tags": null
          },
          "name": "stderr",
          "output_type": "stream",
          "text": [
            "\r 17%|█▋        | 170/1000 [07:55<37:26,  2.71s/it]"
          ]
        },
        {
          "metadata": {
            "tags": null
          },
          "name": "stdout",
          "output_type": "stream",
          "text": [
            "Training Batch 170: Collected 70 timesteps Episode Count: 5\n",
            "Training Batch 171: Collected 48 timesteps Episode Count: 5\n",
            "Episode 170: Avg Test Reward = -3.15, Max Test Reward = -1.91\n"
          ]
        },
        {
          "data": {
            "image/png": "[encoded data removed]",
            "text/plain": [
              "<Figure size 640x480 with 1 Axes>"
            ]
          },
          "metadata": {},
          "output_type": "display_data"
        },
        {
          "metadata": {
            "tags": null
          },
          "name": "stderr",
          "output_type": "stream",
          "text": [
            " 17%|█▋        | 172/1000 [08:02<40:59,  2.97s/it]"
          ]
        },
        {
          "metadata": {
            "tags": null
          },
          "name": "stdout",
          "output_type": "stream",
          "text": [
            "Training Batch 172: Collected 58 timesteps Episode Count: 5\n"
          ]
        },
        {
          "metadata": {
            "tags": null
          },
          "name": "stderr",
          "output_type": "stream",
          "text": [
            "\r 17%|█▋        | 173/1000 [08:05<38:19,  2.78s/it]"
          ]
        },
        {
          "metadata": {
            "tags": null
          },
          "name": "stdout",
          "output_type": "stream",
          "text": [
            "Training Batch 173: Collected 64 timesteps Episode Count: 5\n"
          ]
        },
        {
          "metadata": {
            "tags": null
          },
          "name": "stderr",
          "output_type": "stream",
          "text": [
            "\r 17%|█▋        | 174/1000 [08:06<31:56,  2.32s/it]"
          ]
        },
        {
          "metadata": {
            "tags": null
          },
          "name": "stdout",
          "output_type": "stream",
          "text": [
            "Training Batch 174: Collected 33 timesteps Episode Count: 5\n"
          ]
        },
        {
          "metadata": {
            "tags": null
          },
          "name": "stderr",
          "output_type": "stream",
          "text": [
            "\r 18%|█▊        | 175/1000 [08:07<28:20,  2.06s/it]"
          ]
        },
        {
          "metadata": {
            "tags": null
          },
          "name": "stdout",
          "output_type": "stream",
          "text": [
            "Training Batch 175: Collected 39 timesteps Episode Count: 5\n",
            "Training Batch 176: Collected 60 timesteps Episode Count: 5\n"
          ]
        },
        {
          "metadata": {
            "tags": null
          },
          "name": "stderr",
          "output_type": "stream",
          "text": [
            "\r 18%|█▊        | 176/1000 [08:12<38:58,  2.84s/it]"
          ]
        },
        {
          "metadata": {
            "tags": null
          },
          "name": "stdout",
          "output_type": "stream",
          "text": [
            "Episode 175: Avg Test Reward = -2.61, Max Test Reward = -1.91\n"
          ]
        },
        {
          "metadata": {
            "tags": null
          },
          "name": "stderr",
          "output_type": "stream",
          "text": [
            "\r 18%|█▊        | 177/1000 [08:13<33:23,  2.43s/it]"
          ]
        },
        {
          "metadata": {
            "tags": null
          },
          "name": "stdout",
          "output_type": "stream",
          "text": [
            "Training Batch 177: Collected 40 timesteps Episode Count: 5\n"
          ]
        },
        {
          "metadata": {
            "tags": null
          },
          "name": "stderr",
          "output_type": "stream",
          "text": [
            "\r 18%|█▊        | 178/1000 [08:17<36:51,  2.69s/it]"
          ]
        },
        {
          "metadata": {
            "tags": null
          },
          "name": "stdout",
          "output_type": "stream",
          "text": [
            "Training Batch 178: Collected 88 timesteps Episode Count: 5\n"
          ]
        },
        {
          "metadata": {
            "tags": null
          },
          "name": "stderr",
          "output_type": "stream",
          "text": [
            "\r 18%|█▊        | 179/1000 [08:19<34:36,  2.53s/it]"
          ]
        },
        {
          "metadata": {
            "tags": null
          },
          "name": "stdout",
          "output_type": "stream",
          "text": [
            "Training Batch 179: Collected 57 timesteps Episode Count: 5\n"
          ]
        },
        {
          "metadata": {
            "tags": null
          },
          "name": "stderr",
          "output_type": "stream",
          "text": [
            "\r 18%|█▊        | 180/1000 [08:21<33:30,  2.45s/it]"
          ]
        },
        {
          "metadata": {
            "tags": null
          },
          "name": "stdout",
          "output_type": "stream",
          "text": [
            "Training Batch 180: Collected 60 timesteps Episode Count: 5\n",
            "Training Batch 181: Collected 68 timesteps Episode Count: 5\n",
            "Episode 180: Avg Test Reward = -3.15, Max Test Reward = -1.91\n"
          ]
        },
        {
          "data": {
            "image/png": "[encoded data removed]",
            "text/plain": [
              "<Figure size 640x480 with 1 Axes>"
            ]
          },
          "metadata": {},
          "output_type": "display_data"
        },
        {
          "metadata": {
            "tags": null
          },
          "name": "stderr",
          "output_type": "stream",
          "text": [
            " 18%|█▊        | 182/1000 [08:28<38:20,  2.81s/it]"
          ]
        },
        {
          "metadata": {
            "tags": null
          },
          "name": "stdout",
          "output_type": "stream",
          "text": [
            "Training Batch 182: Collected 41 timesteps Episode Count: 5\n"
          ]
        },
        {
          "metadata": {
            "tags": null
          },
          "name": "stderr",
          "output_type": "stream",
          "text": [
            "\r 18%|█▊        | 183/1000 [08:30<35:15,  2.59s/it]"
          ]
        },
        {
          "metadata": {
            "tags": null
          },
          "name": "stdout",
          "output_type": "stream",
          "text": [
            "Training Batch 183: Collected 57 timesteps Episode Count: 5\n"
          ]
        },
        {
          "metadata": {
            "tags": null
          },
          "name": "stderr",
          "output_type": "stream",
          "text": [
            "\r 18%|█▊        | 184/1000 [08:32<31:20,  2.30s/it]"
          ]
        },
        {
          "metadata": {
            "tags": null
          },
          "name": "stdout",
          "output_type": "stream",
          "text": [
            "Training Batch 184: Collected 44 timesteps Episode Count: 5\n"
          ]
        },
        {
          "metadata": {
            "tags": null
          },
          "name": "stderr",
          "output_type": "stream",
          "text": [
            "\r 18%|█▊        | 185/1000 [08:34<32:06,  2.36s/it]"
          ]
        },
        {
          "metadata": {
            "tags": null
          },
          "name": "stdout",
          "output_type": "stream",
          "text": [
            "Training Batch 185: Collected 56 timesteps Episode Count: 5\n",
            "Training Batch 186: Collected 40 timesteps Episode Count: 5\n"
          ]
        },
        {
          "metadata": {
            "tags": null
          },
          "name": "stderr",
          "output_type": "stream",
          "text": [
            "\r 19%|█▊        | 186/1000 [08:38<38:53,  2.87s/it]"
          ]
        },
        {
          "metadata": {
            "tags": null
          },
          "name": "stdout",
          "output_type": "stream",
          "text": [
            "Episode 185: Avg Test Reward = -3.14, Max Test Reward = -1.91\n"
          ]
        },
        {
          "metadata": {
            "tags": null
          },
          "name": "stderr",
          "output_type": "stream",
          "text": [
            "\r 19%|█▊        | 187/1000 [08:40<32:49,  2.42s/it]"
          ]
        },
        {
          "metadata": {
            "tags": null
          },
          "name": "stdout",
          "output_type": "stream",
          "text": [
            "Training Batch 187: Collected 36 timesteps Episode Count: 5\n"
          ]
        },
        {
          "metadata": {
            "tags": null
          },
          "name": "stderr",
          "output_type": "stream",
          "text": [
            "\r 19%|█▉        | 188/1000 [08:42<31:15,  2.31s/it]"
          ]
        },
        {
          "metadata": {
            "tags": null
          },
          "name": "stdout",
          "output_type": "stream",
          "text": [
            "Training Batch 188: Collected 55 timesteps Episode Count: 5\n"
          ]
        },
        {
          "metadata": {
            "tags": null
          },
          "name": "stderr",
          "output_type": "stream",
          "text": [
            "\r 19%|█▉        | 189/1000 [08:44<29:20,  2.17s/it]"
          ]
        },
        {
          "metadata": {
            "tags": null
          },
          "name": "stdout",
          "output_type": "stream",
          "text": [
            "Training Batch 189: Collected 50 timesteps Episode Count: 5\n"
          ]
        },
        {
          "metadata": {
            "tags": null
          },
          "name": "stderr",
          "output_type": "stream",
          "text": [
            "\r 19%|█▉        | 190/1000 [08:46<29:55,  2.22s/it]"
          ]
        },
        {
          "metadata": {
            "tags": null
          },
          "name": "stdout",
          "output_type": "stream",
          "text": [
            "Training Batch 190: Collected 57 timesteps Episode Count: 5\n",
            "Training Batch 191: Collected 54 timesteps Episode Count: 5\n",
            "Episode 190: Avg Test Reward = -3.03, Max Test Reward = -1.91\n"
          ]
        },
        {
          "data": {
            "image/png": "[encoded data removed]",
            "text/plain": [
              "<Figure size 640x480 with 1 Axes>"
            ]
          },
          "metadata": {},
          "output_type": "display_data"
        },
        {
          "metadata": {
            "tags": null
          },
          "name": "stderr",
          "output_type": "stream",
          "text": [
            " 19%|█▉        | 192/1000 [08:53<35:25,  2.63s/it]"
          ]
        },
        {
          "metadata": {
            "tags": null
          },
          "name": "stdout",
          "output_type": "stream",
          "text": [
            "Training Batch 192: Collected 49 timesteps Episode Count: 5\n"
          ]
        },
        {
          "output_type": "stream",
          "name": "stderr",
          "text": [
            "\r 19%|█▉        | 193/1000 [08:55<33:04,  2.46s/it]"
          ]
        },
        {
          "output_type": "stream",
          "name": "stdout",
          "text": [
            "Training Batch 193: Collected 54 timesteps Episode Count: 5\n"
          ]
        },
        {
          "output_type": "stream",
          "name": "stderr",
          "text": [
            "\r 19%|█▉        | 194/1000 [08:57<30:57,  2.30s/it]"
          ]
        },
        {
          "output_type": "stream",
          "name": "stdout",
          "text": [
            "Training Batch 194: Collected 52 timesteps Episode Count: 5\n"
          ]
        },
        {
          "output_type": "stream",
          "name": "stderr",
          "text": [
            "\r 20%|█▉        | 195/1000 [09:00<33:51,  2.52s/it]"
          ]
        },
        {
          "output_type": "stream",
          "name": "stdout",
          "text": [
            "Training Batch 195: Collected 63 timesteps Episode Count: 5\n",
            "Training Batch 196: Collected 81 timesteps Episode Count: 5\n"
          ]
        },
        {
          "output_type": "stream",
          "name": "stderr",
          "text": [
            "\r 20%|█▉        | 196/1000 [09:04<42:09,  3.15s/it]"
          ]
        },
        {
          "output_type": "stream",
          "name": "stdout",
          "text": [
            "Episode 195: Avg Test Reward = -2.71, Max Test Reward = -1.91\n"
          ]
        },
        {
          "output_type": "stream",
          "name": "stderr",
          "text": [
            "\r 20%|█▉        | 197/1000 [09:08<43:33,  3.26s/it]"
          ]
        },
        {
          "output_type": "stream",
          "name": "stdout",
          "text": [
            "Training Batch 197: Collected 100 timesteps Episode Count: 5\n"
          ]
        },
        {
          "output_type": "stream",
          "name": "stderr",
          "text": [
            "\r 20%|█▉        | 198/1000 [09:11<42:07,  3.15s/it]"
          ]
        },
        {
          "output_type": "stream",
          "name": "stdout",
          "text": [
            "Training Batch 198: Collected 71 timesteps Episode Count: 5\n"
          ]
        },
        {
          "output_type": "stream",
          "name": "stderr",
          "text": [
            "\r 20%|█▉        | 199/1000 [09:12<35:30,  2.66s/it]"
          ]
        },
        {
          "output_type": "stream",
          "name": "stdout",
          "text": [
            "Training Batch 199: Collected 28 timesteps Episode Count: 5\n"
          ]
        },
        {
          "output_type": "stream",
          "name": "stderr",
          "text": [
            "\r 20%|██        | 200/1000 [09:13<29:46,  2.23s/it]"
          ]
        },
        {
          "output_type": "stream",
          "name": "stdout",
          "text": [
            "Training Batch 200: Collected 32 timesteps Episode Count: 5\n",
            "Training Batch 201: Collected 48 timesteps Episode Count: 5\n",
            "Episode 200: Avg Test Reward = -2.81, Max Test Reward = -1.91\n"
          ]
        },
        {
          "output_type": "display_data",
          "data": {
            "text/plain": [
              "<Figure size 640x480 with 1 Axes>"
            ],
            "image/png": "[encoded data removed]"
          },
          "metadata": {}
        },
        {
          "output_type": "stream",
          "name": "stderr",
          "text": [
            " 20%|██        | 202/1000 [09:18<29:49,  2.24s/it]"
          ]
        },
        {
          "output_type": "stream",
          "name": "stdout",
          "text": [
            "Training Batch 202: Collected 32 timesteps Episode Count: 5\n"
          ]
        },
        {
          "output_type": "stream",
          "name": "stderr",
          "text": [
            "\r 20%|██        | 203/1000 [09:20<28:04,  2.11s/it]"
          ]
        },
        {
          "output_type": "stream",
          "name": "stdout",
          "text": [
            "Training Batch 203: Collected 49 timesteps Episode Count: 5\n"
          ]
        },
        {
          "output_type": "stream",
          "name": "stderr",
          "text": [
            "\r 20%|██        | 204/1000 [09:22<27:30,  2.07s/it]"
          ]
        },
        {
          "output_type": "stream",
          "name": "stdout",
          "text": [
            "Training Batch 204: Collected 50 timesteps Episode Count: 5\n"
          ]
        },
        {
          "output_type": "stream",
          "name": "stderr",
          "text": [
            "\r 20%|██        | 205/1000 [09:24<25:52,  1.95s/it]"
          ]
        },
        {
          "output_type": "stream",
          "name": "stdout",
          "text": [
            "Training Batch 205: Collected 27 timesteps Episode Count: 5\n",
            "Training Batch 206: Collected 42 timesteps Episode Count: 5\n"
          ]
        },
        {
          "output_type": "stream",
          "name": "stderr",
          "text": [
            "\r 21%|██        | 206/1000 [09:27<32:18,  2.44s/it]"
          ]
        },
        {
          "output_type": "stream",
          "name": "stdout",
          "text": [
            "Episode 205: Avg Test Reward = -3.14, Max Test Reward = -1.91\n"
          ]
        },
        {
          "output_type": "stream",
          "name": "stderr",
          "text": [
            "\r 21%|██        | 207/1000 [09:30<33:21,  2.52s/it]"
          ]
        },
        {
          "output_type": "stream",
          "name": "stdout",
          "text": [
            "Training Batch 207: Collected 76 timesteps Episode Count: 5\n"
          ]
        },
        {
          "output_type": "stream",
          "name": "stderr",
          "text": [
            "\r 21%|██        | 208/1000 [09:32<30:17,  2.30s/it]"
          ]
        },
        {
          "output_type": "stream",
          "name": "stdout",
          "text": [
            "Training Batch 208: Collected 48 timesteps Episode Count: 5\n"
          ]
        },
        {
          "output_type": "stream",
          "name": "stderr",
          "text": [
            "\r 21%|██        | 209/1000 [09:34<28:11,  2.14s/it]"
          ]
        },
        {
          "output_type": "stream",
          "name": "stdout",
          "text": [
            "Training Batch 209: Collected 48 timesteps Episode Count: 5\n"
          ]
        },
        {
          "output_type": "stream",
          "name": "stderr",
          "text": [
            "\r 21%|██        | 210/1000 [09:38<35:26,  2.69s/it]"
          ]
        },
        {
          "output_type": "stream",
          "name": "stdout",
          "text": [
            "Training Batch 210: Collected 89 timesteps Episode Count: 5\n",
            "Training Batch 211: Collected 36 timesteps Episode Count: 5\n",
            "Episode 210: Avg Test Reward = -3.02, Max Test Reward = -1.91\n"
          ]
        },
        {
          "output_type": "display_data",
          "data": {
            "text/plain": [
              "<Figure size 640x480 with 1 Axes>"
            ],
            "image/png": "[encoded data removed]"
          },
          "metadata": {}
        },
        {
          "output_type": "stream",
          "name": "stderr",
          "text": [
            " 21%|██        | 212/1000 [09:43<32:37,  2.48s/it]"
          ]
        },
        {
          "output_type": "stream",
          "name": "stdout",
          "text": [
            "Training Batch 212: Collected 40 timesteps Episode Count: 5\n"
          ]
        },
        {
          "output_type": "stream",
          "name": "stderr",
          "text": [
            "\r 21%|██▏       | 213/1000 [09:45<31:59,  2.44s/it]"
          ]
        },
        {
          "output_type": "stream",
          "name": "stdout",
          "text": [
            "Training Batch 213: Collected 64 timesteps Episode Count: 5\n"
          ]
        },
        {
          "output_type": "stream",
          "name": "stderr",
          "text": [
            "\r 21%|██▏       | 214/1000 [09:47<31:01,  2.37s/it]"
          ]
        },
        {
          "output_type": "stream",
          "name": "stdout",
          "text": [
            "Training Batch 214: Collected 46 timesteps Episode Count: 5\n"
          ]
        },
        {
          "output_type": "stream",
          "name": "stderr",
          "text": [
            "\r 22%|██▏       | 215/1000 [09:49<30:02,  2.30s/it]"
          ]
        },
        {
          "output_type": "stream",
          "name": "stdout",
          "text": [
            "Training Batch 215: Collected 49 timesteps Episode Count: 5\n",
            "Training Batch 216: Collected 28 timesteps Episode Count: 5\n"
          ]
        },
        {
          "output_type": "stream",
          "name": "stderr",
          "text": [
            "\r 22%|██▏       | 216/1000 [09:52<33:20,  2.55s/it]"
          ]
        },
        {
          "output_type": "stream",
          "name": "stdout",
          "text": [
            "Episode 215: Avg Test Reward = -3.26, Max Test Reward = -1.91\n"
          ]
        },
        {
          "output_type": "stream",
          "name": "stderr",
          "text": [
            "\r 22%|██▏       | 217/1000 [09:55<32:29,  2.49s/it]"
          ]
        },
        {
          "output_type": "stream",
          "name": "stdout",
          "text": [
            "Training Batch 217: Collected 64 timesteps Episode Count: 5\n"
          ]
        },
        {
          "output_type": "stream",
          "name": "stderr",
          "text": [
            "\r 22%|██▏       | 218/1000 [09:58<34:00,  2.61s/it]"
          ]
        },
        {
          "output_type": "stream",
          "name": "stdout",
          "text": [
            "Training Batch 218: Collected 80 timesteps Episode Count: 5\n"
          ]
        },
        {
          "output_type": "stream",
          "name": "stderr",
          "text": [
            "\r 22%|██▏       | 218/1000 [10:00<35:55,  2.76s/it]"
          ]
        },
        {
          "output_type": "stream",
          "name": "stdout",
          "text": [
            "Training Batch 219: Collected 53 timesteps Episode Count: 5\n"
          ]
        },
        {
          "output_type": "stream",
          "name": "stderr",
          "text": [
            "\n"
          ]
        },
        {
          "output_type": "error",
          "ename": "ValueError",
          "evalue": "Expected parameter loc (Tensor of shape (53, 1)) of distribution Normal(loc: torch.Size([53, 1]), scale: torch.Size([53, 1])) to satisfy the constraint Real(), but found invalid values:\ntensor([[nan],\n        [nan],\n        [nan],\n        [nan],\n        [nan],\n        [nan],\n        [nan],\n        [nan],\n        [nan],\n        [nan],\n        [nan],\n        [nan],\n        [nan],\n        [nan],\n        [nan],\n        [nan],\n        [nan],\n        [nan],\n        [nan],\n        [nan],\n        [nan],\n        [nan],\n        [nan],\n        [nan],\n        [nan],\n        [nan],\n        [nan],\n        [nan],\n        [nan],\n        [nan],\n        [nan],\n        [nan],\n        [nan],\n        [nan],\n        [nan],\n        [nan],\n        [nan],\n        [nan],\n        [nan],\n        [nan],\n        [nan],\n        [nan],\n        [nan],\n        [nan],\n        [nan],\n        [nan],\n        [nan],\n        [nan],\n        [nan],\n        [nan],\n        [nan],\n        [nan],\n        [nan]], device='cuda:0', grad_fn=<SplitBackward0>)",
          "traceback": [
            "\u001b[0;31m---------------------------------------------------------------------------\u001b[0m",
            "\u001b[0;31mValueError\u001b[0m                                Traceback (most recent call last)",
            "\u001b[0;32m/tmp/ipython-input-12-1088414899.py\u001b[0m in \u001b[0;36m<cell line: 0>\u001b[0;34m()\u001b[0m\n\u001b[1;32m    124\u001b[0m \u001b[0;34m\u001b[0m\u001b[0m\n\u001b[1;32m    125\u001b[0m             \u001b[0;31m# Forward pass\u001b[0m\u001b[0;34m\u001b[0m\u001b[0;34m\u001b[0m\u001b[0m\n\u001b[0;32m--> 126\u001b[0;31m             \u001b[0mdist\u001b[0m\u001b[0;34m,\u001b[0m \u001b[0mvalue\u001b[0m \u001b[0;34m=\u001b[0m \u001b[0mmodel\u001b[0m\u001b[0;34m(\u001b[0m\u001b[0mobs_batch\u001b[0m\u001b[0;34m)\u001b[0m\u001b[0;34m\u001b[0m\u001b[0;34m\u001b[0m\u001b[0m\n\u001b[0m\u001b[1;32m    127\u001b[0m             \u001b[0mlog_probs\u001b[0m \u001b[0;34m=\u001b[0m \u001b[0mdist\u001b[0m\u001b[0;34m.\u001b[0m\u001b[0mlog_prob\u001b[0m\u001b[0;34m(\u001b[0m\u001b[0maction_batch\u001b[0m\u001b[0;34m)\u001b[0m\u001b[0;34m\u001b[0m\u001b[0;34m\u001b[0m\u001b[0m\n\u001b[1;32m    128\u001b[0m \u001b[0;34m\u001b[0m\u001b[0m\n",
            "\u001b[0;32m/usr/local/lib/python3.11/dist-packages/torch/nn/modules/module.py\u001b[0m in \u001b[0;36m_wrapped_call_impl\u001b[0;34m(self, *args, **kwargs)\u001b[0m\n\u001b[1;32m   1737\u001b[0m             \u001b[0;32mreturn\u001b[0m \u001b[0mself\u001b[0m\u001b[0;34m.\u001b[0m\u001b[0m_compiled_call_impl\u001b[0m\u001b[0;34m(\u001b[0m\u001b[0;34m*\u001b[0m\u001b[0margs\u001b[0m\u001b[0;34m,\u001b[0m \u001b[0;34m**\u001b[0m\u001b[0mkwargs\u001b[0m\u001b[0;34m)\u001b[0m  \u001b[0;31m# type: ignore[misc]\u001b[0m\u001b[0;34m\u001b[0m\u001b[0;34m\u001b[0m\u001b[0m\n\u001b[1;32m   1738\u001b[0m         \u001b[0;32melse\u001b[0m\u001b[0;34m:\u001b[0m\u001b[0;34m\u001b[0m\u001b[0;34m\u001b[0m\u001b[0m\n\u001b[0;32m-> 1739\u001b[0;31m             \u001b[0;32mreturn\u001b[0m \u001b[0mself\u001b[0m\u001b[0;34m.\u001b[0m\u001b[0m_call_impl\u001b[0m\u001b[0;34m(\u001b[0m\u001b[0;34m*\u001b[0m\u001b[0margs\u001b[0m\u001b[0;34m,\u001b[0m \u001b[0;34m**\u001b[0m\u001b[0mkwargs\u001b[0m\u001b[0;34m)\u001b[0m\u001b[0;34m\u001b[0m\u001b[0;34m\u001b[0m\u001b[0m\n\u001b[0m\u001b[1;32m   1740\u001b[0m \u001b[0;34m\u001b[0m\u001b[0m\n\u001b[1;32m   1741\u001b[0m     \u001b[0;31m# torchrec tests the code consistency with the following code\u001b[0m\u001b[0;34m\u001b[0m\u001b[0;34m\u001b[0m\u001b[0m\n",
            "\u001b[0;32m/usr/local/lib/python3.11/dist-packages/torch/nn/modules/module.py\u001b[0m in \u001b[0;36m_call_impl\u001b[0;34m(self, *args, **kwargs)\u001b[0m\n\u001b[1;32m   1748\u001b[0m                 \u001b[0;32mor\u001b[0m \u001b[0m_global_backward_pre_hooks\u001b[0m \u001b[0;32mor\u001b[0m \u001b[0m_global_backward_hooks\u001b[0m\u001b[0;34m\u001b[0m\u001b[0;34m\u001b[0m\u001b[0m\n\u001b[1;32m   1749\u001b[0m                 or _global_forward_hooks or _global_forward_pre_hooks):\n\u001b[0;32m-> 1750\u001b[0;31m             \u001b[0;32mreturn\u001b[0m \u001b[0mforward_call\u001b[0m\u001b[0;34m(\u001b[0m\u001b[0;34m*\u001b[0m\u001b[0margs\u001b[0m\u001b[0;34m,\u001b[0m \u001b[0;34m**\u001b[0m\u001b[0mkwargs\u001b[0m\u001b[0;34m)\u001b[0m\u001b[0;34m\u001b[0m\u001b[0;34m\u001b[0m\u001b[0m\n\u001b[0m\u001b[1;32m   1751\u001b[0m \u001b[0;34m\u001b[0m\u001b[0m\n\u001b[1;32m   1752\u001b[0m         \u001b[0mresult\u001b[0m \u001b[0;34m=\u001b[0m \u001b[0;32mNone\u001b[0m\u001b[0;34m\u001b[0m\u001b[0;34m\u001b[0m\u001b[0m\n",
            "\u001b[0;32m/tmp/ipython-input-5-3934071483.py\u001b[0m in \u001b[0;36mforward\u001b[0;34m(self, x)\u001b[0m\n\u001b[1;32m     31\u001b[0m \u001b[0;34m\u001b[0m\u001b[0m\n\u001b[1;32m     32\u001b[0m         \u001b[0maction_std\u001b[0m \u001b[0;34m=\u001b[0m \u001b[0mtorch\u001b[0m\u001b[0;34m.\u001b[0m\u001b[0mexp\u001b[0m\u001b[0;34m(\u001b[0m\u001b[0maction_log_std\u001b[0m\u001b[0;34m)\u001b[0m\u001b[0;34m\u001b[0m\u001b[0;34m\u001b[0m\u001b[0m\n\u001b[0;32m---> 33\u001b[0;31m         \u001b[0maction_dist\u001b[0m \u001b[0;34m=\u001b[0m \u001b[0mtorch\u001b[0m\u001b[0;34m.\u001b[0m\u001b[0mdistributions\u001b[0m\u001b[0;34m.\u001b[0m\u001b[0mNormal\u001b[0m\u001b[0;34m(\u001b[0m\u001b[0maction_mean\u001b[0m\u001b[0;34m,\u001b[0m \u001b[0maction_std\u001b[0m\u001b[0;34m)\u001b[0m\u001b[0;34m\u001b[0m\u001b[0;34m\u001b[0m\u001b[0m\n\u001b[0m\u001b[1;32m     34\u001b[0m \u001b[0;34m\u001b[0m\u001b[0m\n\u001b[1;32m     35\u001b[0m         \u001b[0;32mreturn\u001b[0m \u001b[0maction_dist\u001b[0m\u001b[0;34m,\u001b[0m \u001b[0mvalue\u001b[0m\u001b[0;34m\u001b[0m\u001b[0;34m\u001b[0m\u001b[0m\n",
            "\u001b[0;32m/usr/local/lib/python3.11/dist-packages/torch/distributions/normal.py\u001b[0m in \u001b[0;36m__init__\u001b[0;34m(self, loc, scale, validate_args)\u001b[0m\n\u001b[1;32m     57\u001b[0m         \u001b[0;32melse\u001b[0m\u001b[0;34m:\u001b[0m\u001b[0;34m\u001b[0m\u001b[0;34m\u001b[0m\u001b[0m\n\u001b[1;32m     58\u001b[0m             \u001b[0mbatch_shape\u001b[0m \u001b[0;34m=\u001b[0m \u001b[0mself\u001b[0m\u001b[0;34m.\u001b[0m\u001b[0mloc\u001b[0m\u001b[0;34m.\u001b[0m\u001b[0msize\u001b[0m\u001b[0;34m(\u001b[0m\u001b[0;34m)\u001b[0m\u001b[0;34m\u001b[0m\u001b[0;34m\u001b[0m\u001b[0m\n\u001b[0;32m---> 59\u001b[0;31m         \u001b[0msuper\u001b[0m\u001b[0;34m(\u001b[0m\u001b[0;34m)\u001b[0m\u001b[0;34m.\u001b[0m\u001b[0m__init__\u001b[0m\u001b[0;34m(\u001b[0m\u001b[0mbatch_shape\u001b[0m\u001b[0;34m,\u001b[0m \u001b[0mvalidate_args\u001b[0m\u001b[0;34m=\u001b[0m\u001b[0mvalidate_args\u001b[0m\u001b[0;34m)\u001b[0m\u001b[0;34m\u001b[0m\u001b[0;34m\u001b[0m\u001b[0m\n\u001b[0m\u001b[1;32m     60\u001b[0m \u001b[0;34m\u001b[0m\u001b[0m\n\u001b[1;32m     61\u001b[0m     \u001b[0;32mdef\u001b[0m \u001b[0mexpand\u001b[0m\u001b[0;34m(\u001b[0m\u001b[0mself\u001b[0m\u001b[0;34m,\u001b[0m \u001b[0mbatch_shape\u001b[0m\u001b[0;34m,\u001b[0m \u001b[0m_instance\u001b[0m\u001b[0;34m=\u001b[0m\u001b[0;32mNone\u001b[0m\u001b[0;34m)\u001b[0m\u001b[0;34m:\u001b[0m\u001b[0;34m\u001b[0m\u001b[0;34m\u001b[0m\u001b[0m\n",
            "\u001b[0;32m/usr/local/lib/python3.11/dist-packages/torch/distributions/distribution.py\u001b[0m in \u001b[0;36m__init__\u001b[0;34m(self, batch_shape, event_shape, validate_args)\u001b[0m\n\u001b[1;32m     69\u001b[0m                 \u001b[0mvalid\u001b[0m \u001b[0;34m=\u001b[0m \u001b[0mconstraint\u001b[0m\u001b[0;34m.\u001b[0m\u001b[0mcheck\u001b[0m\u001b[0;34m(\u001b[0m\u001b[0mvalue\u001b[0m\u001b[0;34m)\u001b[0m\u001b[0;34m\u001b[0m\u001b[0;34m\u001b[0m\u001b[0m\n\u001b[1;32m     70\u001b[0m                 \u001b[0;32mif\u001b[0m \u001b[0;32mnot\u001b[0m \u001b[0mvalid\u001b[0m\u001b[0;34m.\u001b[0m\u001b[0mall\u001b[0m\u001b[0;34m(\u001b[0m\u001b[0;34m)\u001b[0m\u001b[0;34m:\u001b[0m\u001b[0;34m\u001b[0m\u001b[0;34m\u001b[0m\u001b[0m\n\u001b[0;32m---> 71\u001b[0;31m                     raise ValueError(\n\u001b[0m\u001b[1;32m     72\u001b[0m                         \u001b[0;34mf\"Expected parameter {param} \"\u001b[0m\u001b[0;34m\u001b[0m\u001b[0;34m\u001b[0m\u001b[0m\n\u001b[1;32m     73\u001b[0m                         \u001b[0;34mf\"({type(value).__name__} of shape {tuple(value.shape)}) \"\u001b[0m\u001b[0;34m\u001b[0m\u001b[0;34m\u001b[0m\u001b[0m\n",
            "\u001b[0;31mValueError\u001b[0m: Expected parameter loc (Tensor of shape (53, 1)) of distribution Normal(loc: torch.Size([53, 1]), scale: torch.Size([53, 1])) to satisfy the constraint Real(), but found invalid values:\ntensor([[nan],\n        [nan],\n        [nan],\n        [nan],\n        [nan],\n        [nan],\n        [nan],\n        [nan],\n        [nan],\n        [nan],\n        [nan],\n        [nan],\n        [nan],\n        [nan],\n        [nan],\n        [nan],\n        [nan],\n        [nan],\n        [nan],\n        [nan],\n        [nan],\n        [nan],\n        [nan],\n        [nan],\n        [nan],\n        [nan],\n        [nan],\n        [nan],\n        [nan],\n        [nan],\n        [nan],\n        [nan],\n        [nan],\n        [nan],\n        [nan],\n        [nan],\n        [nan],\n        [nan],\n        [nan],\n        [nan],\n        [nan],\n        [nan],\n        [nan],\n        [nan],\n        [nan],\n        [nan],\n        [nan],\n        [nan],\n        [nan],\n        [nan],\n        [nan],\n        [nan],\n        [nan]], device='cuda:0', grad_fn=<SplitBackward0>)"
          ]
        }
      ]
    }
  ],
  "metadata": {
    "colab": {
      "provenance": [],
      "gpuType": "T4",
      "include_colab_link": true
    },
    "kernelspec": {
      "display_name": "Python 3",
      "name": "python3"
    },
    "language_info": {
      "name": "python"
    },
    "accelerator": "GPU"
  },
  "nbformat": 4,
  "nbformat_minor": 0
}